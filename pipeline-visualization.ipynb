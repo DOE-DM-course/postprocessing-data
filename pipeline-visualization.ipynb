{
 "cells": [
  {
   "cell_type": "code",
   "execution_count": 20,
   "metadata": {
    "_cell_guid": "b1076dfc-b9ad-4769-8c92-a6c4dae69d19",
    "_uuid": "8f2839f25d086af736a60e9eeb907d3b93b6e0e5"
   },
   "outputs": [],
   "source": [
    "import pandas as pd \n",
    "import numpy as np \n",
    "from pandas import Series,DataFrame\n",
    "\n",
    "import matplotlib.pyplot as plt \n",
    "import seaborn as sns \n",
    "sns.set_style('whitegrid')\n",
    "%matplotlib inline \n"
   ]
  },
  {
   "cell_type": "code",
   "execution_count": 4,
   "metadata": {},
   "outputs": [
    {
     "name": "stdout",
     "output_type": "stream",
     "text": [
      "Collecting plotly\n",
      "  Downloading plotly-4.14.3-py2.py3-none-any.whl (13.2 MB)\n",
      "\u001b[K     |████████████████████████████████| 13.2 MB 979 kB/s eta 0:00:01\n",
      "\u001b[?25hCollecting retrying>=1.3.3\n",
      "  Downloading retrying-1.3.3.tar.gz (10 kB)\n",
      "Requirement already satisfied: six in /Users/admin/opt/anaconda3/lib/python3.7/site-packages (from plotly) (1.14.0)\n",
      "Building wheels for collected packages: retrying\n",
      "  Building wheel for retrying (setup.py) ... \u001b[?25ldone\n",
      "\u001b[?25h  Created wheel for retrying: filename=retrying-1.3.3-py3-none-any.whl size=11430 sha256=c4e0d20e545a2c642ed61052b662f98372f2f011150093a35efcb48ed696e5f4\n",
      "  Stored in directory: /Users/admin/Library/Caches/pip/wheels/f9/8d/8d/f6af3f7f9eea3553bc2fe6d53e4b287dad18b06a861ac56ddf\n",
      "Successfully built retrying\n",
      "Installing collected packages: retrying, plotly\n",
      "Successfully installed plotly-4.14.3 retrying-1.3.3\n",
      "Note: you may need to restart the kernel to use updated packages.\n"
     ]
    }
   ],
   "source": [
    "pip install plotly"
   ]
  },
  {
   "cell_type": "code",
   "execution_count": 21,
   "metadata": {},
   "outputs": [
    {
     "data": {
      "text/html": [
       "        <script type=\"text/javascript\">\n",
       "        window.PlotlyConfig = {MathJaxConfig: 'local'};\n",
       "        if (window.MathJax) {MathJax.Hub.Config({SVG: {font: \"STIX-Web\"}});}\n",
       "        if (typeof require !== 'undefined') {\n",
       "        require.undef(\"plotly\");\n",
       "        requirejs.config({\n",
       "            paths: {\n",
       "                'plotly': ['https://cdn.plot.ly/plotly-latest.min']\n",
       "            }\n",
       "        });\n",
       "        require(['plotly'], function(Plotly) {\n",
       "            window._Plotly = Plotly;\n",
       "        });\n",
       "        }\n",
       "        </script>\n",
       "        "
      ]
     },
     "metadata": {},
     "output_type": "display_data"
    }
   ],
   "source": [
    "import plotly\n",
    "import plotly.offline as py\n",
    "py.init_notebook_mode(connected=True)\n",
    "import plotly.graph_objs as go\n",
    "import plotly.tools as tls\n",
    "\n",
    "oil = pd.read_csv(\"database.csv\")"
   ]
  },
  {
   "cell_type": "code",
   "execution_count": 22,
   "metadata": {
    "_cell_guid": "fa143457-1615-4be1-96b8-c4a69cc474df",
    "_uuid": "712da044153cf9c11bfb722cc88bb622c41958cf"
   },
   "outputs": [
    {
     "data": {
      "text/html": [
       "<div>\n",
       "<style scoped>\n",
       "    .dataframe tbody tr th:only-of-type {\n",
       "        vertical-align: middle;\n",
       "    }\n",
       "\n",
       "    .dataframe tbody tr th {\n",
       "        vertical-align: top;\n",
       "    }\n",
       "\n",
       "    .dataframe thead th {\n",
       "        text-align: right;\n",
       "    }\n",
       "</style>\n",
       "<table border=\"1\" class=\"dataframe\">\n",
       "  <thead>\n",
       "    <tr style=\"text-align: right;\">\n",
       "      <th></th>\n",
       "      <th>Report Number</th>\n",
       "      <th>Supplemental Number</th>\n",
       "      <th>Accident Year</th>\n",
       "      <th>Accident Date/Time</th>\n",
       "      <th>Operator ID</th>\n",
       "      <th>Operator Name</th>\n",
       "      <th>Pipeline/Facility Name</th>\n",
       "      <th>Pipeline Location</th>\n",
       "      <th>Pipeline Type</th>\n",
       "      <th>Liquid Type</th>\n",
       "      <th>...</th>\n",
       "      <th>Other Fatalities</th>\n",
       "      <th>Public Fatalities</th>\n",
       "      <th>All Fatalities</th>\n",
       "      <th>Property Damage Costs</th>\n",
       "      <th>Lost Commodity Costs</th>\n",
       "      <th>Public/Private Property Damage Costs</th>\n",
       "      <th>Emergency Response Costs</th>\n",
       "      <th>Environmental Remediation Costs</th>\n",
       "      <th>Other Costs</th>\n",
       "      <th>All Costs</th>\n",
       "    </tr>\n",
       "  </thead>\n",
       "  <tbody>\n",
       "    <tr>\n",
       "      <th>0</th>\n",
       "      <td>20100016</td>\n",
       "      <td>17305</td>\n",
       "      <td>2010</td>\n",
       "      <td>1/1/2010 7:15 AM</td>\n",
       "      <td>32109</td>\n",
       "      <td>ONEOK NGL PIPELINE LP</td>\n",
       "      <td>KINDER MORGAN JCT</td>\n",
       "      <td>ONSHORE</td>\n",
       "      <td>ABOVEGROUND</td>\n",
       "      <td>HVL OR OTHER FLAMMABLE OR TOXIC FLUID, GAS</td>\n",
       "      <td>...</td>\n",
       "      <td>NaN</td>\n",
       "      <td>NaN</td>\n",
       "      <td>NaN</td>\n",
       "      <td>110.0</td>\n",
       "      <td>1517.0</td>\n",
       "      <td>0.0</td>\n",
       "      <td>0.0</td>\n",
       "      <td>0.0</td>\n",
       "      <td>0.0</td>\n",
       "      <td>1627</td>\n",
       "    </tr>\n",
       "    <tr>\n",
       "      <th>1</th>\n",
       "      <td>20100254</td>\n",
       "      <td>17331</td>\n",
       "      <td>2010</td>\n",
       "      <td>1/4/2010 8:30 AM</td>\n",
       "      <td>15786</td>\n",
       "      <td>PORTLAND PIPELINE CORP</td>\n",
       "      <td>24-INCH MAIN LINE</td>\n",
       "      <td>ONSHORE</td>\n",
       "      <td>ABOVEGROUND</td>\n",
       "      <td>CRUDE OIL</td>\n",
       "      <td>...</td>\n",
       "      <td>NaN</td>\n",
       "      <td>NaN</td>\n",
       "      <td>NaN</td>\n",
       "      <td>4000.0</td>\n",
       "      <td>8.0</td>\n",
       "      <td>0.0</td>\n",
       "      <td>0.0</td>\n",
       "      <td>0.0</td>\n",
       "      <td>0.0</td>\n",
       "      <td>4008</td>\n",
       "    </tr>\n",
       "    <tr>\n",
       "      <th>2</th>\n",
       "      <td>20100038</td>\n",
       "      <td>17747</td>\n",
       "      <td>2010</td>\n",
       "      <td>1/5/2010 10:30 AM</td>\n",
       "      <td>20160</td>\n",
       "      <td>PETROLOGISTICS OLEFINS, LLC</td>\n",
       "      <td>NaN</td>\n",
       "      <td>ONSHORE</td>\n",
       "      <td>ABOVEGROUND</td>\n",
       "      <td>HVL OR OTHER FLAMMABLE OR TOXIC FLUID, GAS</td>\n",
       "      <td>...</td>\n",
       "      <td>NaN</td>\n",
       "      <td>NaN</td>\n",
       "      <td>NaN</td>\n",
       "      <td>0.0</td>\n",
       "      <td>200.0</td>\n",
       "      <td>0.0</td>\n",
       "      <td>0.0</td>\n",
       "      <td>0.0</td>\n",
       "      <td>0.0</td>\n",
       "      <td>200</td>\n",
       "    </tr>\n",
       "    <tr>\n",
       "      <th>3</th>\n",
       "      <td>20100260</td>\n",
       "      <td>18574</td>\n",
       "      <td>2010</td>\n",
       "      <td>1/6/2010 7:30 PM</td>\n",
       "      <td>11169</td>\n",
       "      <td>ENBRIDGE ENERGY, LIMITED PARTNERSHIP</td>\n",
       "      <td>SUPERIOR TERMINAL</td>\n",
       "      <td>ONSHORE</td>\n",
       "      <td>UNDERGROUND</td>\n",
       "      <td>CRUDE OIL</td>\n",
       "      <td>...</td>\n",
       "      <td>NaN</td>\n",
       "      <td>NaN</td>\n",
       "      <td>NaN</td>\n",
       "      <td>200.0</td>\n",
       "      <td>40.0</td>\n",
       "      <td>0.0</td>\n",
       "      <td>11300.0</td>\n",
       "      <td>0.0</td>\n",
       "      <td>0.0</td>\n",
       "      <td>11540</td>\n",
       "    </tr>\n",
       "    <tr>\n",
       "      <th>4</th>\n",
       "      <td>20100030</td>\n",
       "      <td>16276</td>\n",
       "      <td>2010</td>\n",
       "      <td>1/7/2010 1:00 PM</td>\n",
       "      <td>300</td>\n",
       "      <td>PLAINS PIPELINE, L.P.</td>\n",
       "      <td>RED RIVER EAST</td>\n",
       "      <td>ONSHORE</td>\n",
       "      <td>UNDERGROUND</td>\n",
       "      <td>CRUDE OIL</td>\n",
       "      <td>...</td>\n",
       "      <td>NaN</td>\n",
       "      <td>NaN</td>\n",
       "      <td>NaN</td>\n",
       "      <td>20000.0</td>\n",
       "      <td>150.0</td>\n",
       "      <td>0.0</td>\n",
       "      <td>7500.0</td>\n",
       "      <td>2000.0</td>\n",
       "      <td>0.0</td>\n",
       "      <td>29650</td>\n",
       "    </tr>\n",
       "  </tbody>\n",
       "</table>\n",
       "<p>5 rows × 48 columns</p>\n",
       "</div>"
      ],
      "text/plain": [
       "   Report Number  Supplemental Number  Accident Year Accident Date/Time  \\\n",
       "0       20100016                17305           2010   1/1/2010 7:15 AM   \n",
       "1       20100254                17331           2010   1/4/2010 8:30 AM   \n",
       "2       20100038                17747           2010  1/5/2010 10:30 AM   \n",
       "3       20100260                18574           2010   1/6/2010 7:30 PM   \n",
       "4       20100030                16276           2010   1/7/2010 1:00 PM   \n",
       "\n",
       "   Operator ID                         Operator Name Pipeline/Facility Name  \\\n",
       "0        32109                 ONEOK NGL PIPELINE LP      KINDER MORGAN JCT   \n",
       "1        15786                PORTLAND PIPELINE CORP      24-INCH MAIN LINE   \n",
       "2        20160           PETROLOGISTICS OLEFINS, LLC                    NaN   \n",
       "3        11169  ENBRIDGE ENERGY, LIMITED PARTNERSHIP      SUPERIOR TERMINAL   \n",
       "4          300                 PLAINS PIPELINE, L.P.         RED RIVER EAST   \n",
       "\n",
       "  Pipeline Location Pipeline Type                                 Liquid Type  \\\n",
       "0           ONSHORE   ABOVEGROUND  HVL OR OTHER FLAMMABLE OR TOXIC FLUID, GAS   \n",
       "1           ONSHORE   ABOVEGROUND                                   CRUDE OIL   \n",
       "2           ONSHORE   ABOVEGROUND  HVL OR OTHER FLAMMABLE OR TOXIC FLUID, GAS   \n",
       "3           ONSHORE   UNDERGROUND                                   CRUDE OIL   \n",
       "4           ONSHORE   UNDERGROUND                                   CRUDE OIL   \n",
       "\n",
       "   ... Other Fatalities Public Fatalities All Fatalities  \\\n",
       "0  ...              NaN               NaN            NaN   \n",
       "1  ...              NaN               NaN            NaN   \n",
       "2  ...              NaN               NaN            NaN   \n",
       "3  ...              NaN               NaN            NaN   \n",
       "4  ...              NaN               NaN            NaN   \n",
       "\n",
       "  Property Damage Costs Lost Commodity Costs  \\\n",
       "0                 110.0               1517.0   \n",
       "1                4000.0                  8.0   \n",
       "2                   0.0                200.0   \n",
       "3                 200.0                 40.0   \n",
       "4               20000.0                150.0   \n",
       "\n",
       "   Public/Private Property Damage Costs  Emergency Response Costs  \\\n",
       "0                                   0.0                       0.0   \n",
       "1                                   0.0                       0.0   \n",
       "2                                   0.0                       0.0   \n",
       "3                                   0.0                   11300.0   \n",
       "4                                   0.0                    7500.0   \n",
       "\n",
       "  Environmental Remediation Costs Other Costs  All Costs  \n",
       "0                             0.0         0.0       1627  \n",
       "1                             0.0         0.0       4008  \n",
       "2                             0.0         0.0        200  \n",
       "3                             0.0         0.0      11540  \n",
       "4                          2000.0         0.0      29650  \n",
       "\n",
       "[5 rows x 48 columns]"
      ]
     },
     "execution_count": 22,
     "metadata": {},
     "output_type": "execute_result"
    }
   ],
   "source": [
    "oil.head()"
   ]
  },
  {
   "cell_type": "code",
   "execution_count": 7,
   "metadata": {
    "_cell_guid": "79c7e3d0-c299-4dcb-8224-4455121ee9b0",
    "_uuid": "d629ff2d2480ee46fbb7e2d37f6b5fab8052498a"
   },
   "outputs": [
    {
     "name": "stdout",
     "output_type": "stream",
     "text": [
      "<class 'pandas.core.frame.DataFrame'>\n",
      "RangeIndex: 2795 entries, 0 to 2794\n",
      "Data columns (total 48 columns):\n",
      " #   Column                                Non-Null Count  Dtype  \n",
      "---  ------                                --------------  -----  \n",
      " 0   Report Number                         2795 non-null   int64  \n",
      " 1   Supplemental Number                   2795 non-null   int64  \n",
      " 2   Accident Year                         2795 non-null   int64  \n",
      " 3   Accident Date/Time                    2795 non-null   object \n",
      " 4   Operator ID                           2795 non-null   int64  \n",
      " 5   Operator Name                         2795 non-null   object \n",
      " 6   Pipeline/Facility Name                2674 non-null   object \n",
      " 7   Pipeline Location                     2795 non-null   object \n",
      " 8   Pipeline Type                         2777 non-null   object \n",
      " 9   Liquid Type                           2795 non-null   object \n",
      " 10  Liquid Subtype                        1349 non-null   object \n",
      " 11  Liquid Name                           222 non-null    object \n",
      " 12  Accident City                         2480 non-null   object \n",
      " 13  Accident County                       2720 non-null   object \n",
      " 14  Accident State                        2783 non-null   object \n",
      " 15  Accident Latitude                     2795 non-null   float64\n",
      " 16  Accident Longitude                    2795 non-null   float64\n",
      " 17  Cause Category                        2795 non-null   object \n",
      " 18  Cause Subcategory                     2795 non-null   object \n",
      " 19  Unintentional Release (Barrels)       2795 non-null   float64\n",
      " 20  Intentional Release (Barrels)         1209 non-null   float64\n",
      " 21  Liquid Recovery (Barrels)             2795 non-null   float64\n",
      " 22  Net Loss (Barrels)                    2795 non-null   float64\n",
      " 23  Liquid Ignition                       2795 non-null   object \n",
      " 24  Liquid Explosion                      2795 non-null   object \n",
      " 25  Pipeline Shutdown                     2583 non-null   object \n",
      " 26  Shutdown Date/Time                    1390 non-null   object \n",
      " 27  Restart Date/Time                     1341 non-null   object \n",
      " 28  Public Evacuations                    2338 non-null   float64\n",
      " 29  Operator Employee Injuries            12 non-null     float64\n",
      " 30  Operator Contractor Injuries          12 non-null     float64\n",
      " 31  Emergency Responder Injuries          12 non-null     float64\n",
      " 32  Other Injuries                        12 non-null     float64\n",
      " 33  Public Injuries                       12 non-null     float64\n",
      " 34  All Injuries                          12 non-null     float64\n",
      " 35  Operator Employee Fatalities          8 non-null      float64\n",
      " 36  Operator Contractor Fatalities        8 non-null      float64\n",
      " 37  Emergency Responder Fatalities        8 non-null      float64\n",
      " 38  Other Fatalities                      8 non-null      float64\n",
      " 39  Public Fatalities                     8 non-null      float64\n",
      " 40  All Fatalities                        8 non-null      float64\n",
      " 41  Property Damage Costs                 2788 non-null   float64\n",
      " 42  Lost Commodity Costs                  2791 non-null   float64\n",
      " 43  Public/Private Property Damage Costs  2785 non-null   float64\n",
      " 44  Emergency Response Costs              2789 non-null   float64\n",
      " 45  Environmental Remediation Costs       2787 non-null   float64\n",
      " 46  Other Costs                           2779 non-null   float64\n",
      " 47  All Costs                             2795 non-null   int64  \n",
      "dtypes: float64(25), int64(5), object(18)\n",
      "memory usage: 1.0+ MB\n"
     ]
    }
   ],
   "source": [
    "oil.info()"
   ]
  },
  {
   "cell_type": "code",
   "execution_count": 8,
   "metadata": {
    "_cell_guid": "84f16d29-21a7-46ac-9faf-035d39fc1c1b",
    "_uuid": "6de991cb328d1177a947ff7274a16ed7f642b299",
    "jupyter": {
     "outputs_hidden": true
    }
   },
   "outputs": [],
   "source": [
    "#Clean up the data, remove the columns which lack informaiton\n",
    "oil = oil.drop(columns=['Operator Employee Injuries', 'Operator Contractor Injuries','Emergency Responder Injuries','Other Injuries','Public Injuries','All Injuries','Operator Employee Fatalities','Emergency Responder Fatalities','Other Fatalities','Public Fatalities','All Fatalities','Operator Contractor Fatalities','Liquid Name'])"
   ]
  },
  {
   "cell_type": "code",
   "execution_count": 9,
   "metadata": {
    "_uuid": "5baa7e687772d858397c358769975b9ec2f26e84",
    "jupyter": {
     "outputs_hidden": true
    }
   },
   "outputs": [],
   "source": [
    "oil = oil.drop([2793,2794])"
   ]
  },
  {
   "cell_type": "code",
   "execution_count": 11,
   "metadata": {},
   "outputs": [
    {
     "data": {
      "text/html": [
       "<div>\n",
       "<style scoped>\n",
       "    .dataframe tbody tr th:only-of-type {\n",
       "        vertical-align: middle;\n",
       "    }\n",
       "\n",
       "    .dataframe tbody tr th {\n",
       "        vertical-align: top;\n",
       "    }\n",
       "\n",
       "    .dataframe thead th {\n",
       "        text-align: right;\n",
       "    }\n",
       "</style>\n",
       "<table border=\"1\" class=\"dataframe\">\n",
       "  <thead>\n",
       "    <tr style=\"text-align: right;\">\n",
       "      <th></th>\n",
       "      <th>Report Number</th>\n",
       "      <th>Supplemental Number</th>\n",
       "      <th>Accident Year</th>\n",
       "      <th>Accident Date/Time</th>\n",
       "      <th>Operator ID</th>\n",
       "      <th>Operator Name</th>\n",
       "      <th>Pipeline/Facility Name</th>\n",
       "      <th>Pipeline Location</th>\n",
       "      <th>Pipeline Type</th>\n",
       "      <th>Liquid Type</th>\n",
       "      <th>...</th>\n",
       "      <th>Shutdown Date/Time</th>\n",
       "      <th>Restart Date/Time</th>\n",
       "      <th>Public Evacuations</th>\n",
       "      <th>Property Damage Costs</th>\n",
       "      <th>Lost Commodity Costs</th>\n",
       "      <th>Public/Private Property Damage Costs</th>\n",
       "      <th>Emergency Response Costs</th>\n",
       "      <th>Environmental Remediation Costs</th>\n",
       "      <th>Other Costs</th>\n",
       "      <th>All Costs</th>\n",
       "    </tr>\n",
       "  </thead>\n",
       "  <tbody>\n",
       "    <tr>\n",
       "      <th>0</th>\n",
       "      <td>20100016</td>\n",
       "      <td>17305</td>\n",
       "      <td>2010</td>\n",
       "      <td>1/1/2010 7:15 AM</td>\n",
       "      <td>32109</td>\n",
       "      <td>ONEOK NGL PIPELINE LP</td>\n",
       "      <td>KINDER MORGAN JCT</td>\n",
       "      <td>ONSHORE</td>\n",
       "      <td>ABOVEGROUND</td>\n",
       "      <td>HVL OR OTHER FLAMMABLE OR TOXIC FLUID, GAS</td>\n",
       "      <td>...</td>\n",
       "      <td>NaN</td>\n",
       "      <td>NaN</td>\n",
       "      <td>NaN</td>\n",
       "      <td>110.0</td>\n",
       "      <td>1517.0</td>\n",
       "      <td>0.0</td>\n",
       "      <td>0.0</td>\n",
       "      <td>0.0</td>\n",
       "      <td>0.0</td>\n",
       "      <td>1627</td>\n",
       "    </tr>\n",
       "    <tr>\n",
       "      <th>1</th>\n",
       "      <td>20100254</td>\n",
       "      <td>17331</td>\n",
       "      <td>2010</td>\n",
       "      <td>1/4/2010 8:30 AM</td>\n",
       "      <td>15786</td>\n",
       "      <td>PORTLAND PIPELINE CORP</td>\n",
       "      <td>24-INCH MAIN LINE</td>\n",
       "      <td>ONSHORE</td>\n",
       "      <td>ABOVEGROUND</td>\n",
       "      <td>CRUDE OIL</td>\n",
       "      <td>...</td>\n",
       "      <td>NaN</td>\n",
       "      <td>NaN</td>\n",
       "      <td>NaN</td>\n",
       "      <td>4000.0</td>\n",
       "      <td>8.0</td>\n",
       "      <td>0.0</td>\n",
       "      <td>0.0</td>\n",
       "      <td>0.0</td>\n",
       "      <td>0.0</td>\n",
       "      <td>4008</td>\n",
       "    </tr>\n",
       "    <tr>\n",
       "      <th>2</th>\n",
       "      <td>20100038</td>\n",
       "      <td>17747</td>\n",
       "      <td>2010</td>\n",
       "      <td>1/5/2010 10:30 AM</td>\n",
       "      <td>20160</td>\n",
       "      <td>PETROLOGISTICS OLEFINS, LLC</td>\n",
       "      <td>NaN</td>\n",
       "      <td>ONSHORE</td>\n",
       "      <td>ABOVEGROUND</td>\n",
       "      <td>HVL OR OTHER FLAMMABLE OR TOXIC FLUID, GAS</td>\n",
       "      <td>...</td>\n",
       "      <td>NaN</td>\n",
       "      <td>NaN</td>\n",
       "      <td>NaN</td>\n",
       "      <td>0.0</td>\n",
       "      <td>200.0</td>\n",
       "      <td>0.0</td>\n",
       "      <td>0.0</td>\n",
       "      <td>0.0</td>\n",
       "      <td>0.0</td>\n",
       "      <td>200</td>\n",
       "    </tr>\n",
       "    <tr>\n",
       "      <th>3</th>\n",
       "      <td>20100260</td>\n",
       "      <td>18574</td>\n",
       "      <td>2010</td>\n",
       "      <td>1/6/2010 7:30 PM</td>\n",
       "      <td>11169</td>\n",
       "      <td>ENBRIDGE ENERGY, LIMITED PARTNERSHIP</td>\n",
       "      <td>SUPERIOR TERMINAL</td>\n",
       "      <td>ONSHORE</td>\n",
       "      <td>UNDERGROUND</td>\n",
       "      <td>CRUDE OIL</td>\n",
       "      <td>...</td>\n",
       "      <td>NaN</td>\n",
       "      <td>NaN</td>\n",
       "      <td>NaN</td>\n",
       "      <td>200.0</td>\n",
       "      <td>40.0</td>\n",
       "      <td>0.0</td>\n",
       "      <td>11300.0</td>\n",
       "      <td>0.0</td>\n",
       "      <td>0.0</td>\n",
       "      <td>11540</td>\n",
       "    </tr>\n",
       "    <tr>\n",
       "      <th>4</th>\n",
       "      <td>20100030</td>\n",
       "      <td>16276</td>\n",
       "      <td>2010</td>\n",
       "      <td>1/7/2010 1:00 PM</td>\n",
       "      <td>300</td>\n",
       "      <td>PLAINS PIPELINE, L.P.</td>\n",
       "      <td>RED RIVER EAST</td>\n",
       "      <td>ONSHORE</td>\n",
       "      <td>UNDERGROUND</td>\n",
       "      <td>CRUDE OIL</td>\n",
       "      <td>...</td>\n",
       "      <td>NaN</td>\n",
       "      <td>NaN</td>\n",
       "      <td>NaN</td>\n",
       "      <td>20000.0</td>\n",
       "      <td>150.0</td>\n",
       "      <td>0.0</td>\n",
       "      <td>7500.0</td>\n",
       "      <td>2000.0</td>\n",
       "      <td>0.0</td>\n",
       "      <td>29650</td>\n",
       "    </tr>\n",
       "  </tbody>\n",
       "</table>\n",
       "<p>5 rows × 35 columns</p>\n",
       "</div>"
      ],
      "text/plain": [
       "   Report Number  Supplemental Number  Accident Year Accident Date/Time  \\\n",
       "0       20100016                17305           2010   1/1/2010 7:15 AM   \n",
       "1       20100254                17331           2010   1/4/2010 8:30 AM   \n",
       "2       20100038                17747           2010  1/5/2010 10:30 AM   \n",
       "3       20100260                18574           2010   1/6/2010 7:30 PM   \n",
       "4       20100030                16276           2010   1/7/2010 1:00 PM   \n",
       "\n",
       "   Operator ID                         Operator Name Pipeline/Facility Name  \\\n",
       "0        32109                 ONEOK NGL PIPELINE LP      KINDER MORGAN JCT   \n",
       "1        15786                PORTLAND PIPELINE CORP      24-INCH MAIN LINE   \n",
       "2        20160           PETROLOGISTICS OLEFINS, LLC                    NaN   \n",
       "3        11169  ENBRIDGE ENERGY, LIMITED PARTNERSHIP      SUPERIOR TERMINAL   \n",
       "4          300                 PLAINS PIPELINE, L.P.         RED RIVER EAST   \n",
       "\n",
       "  Pipeline Location Pipeline Type                                 Liquid Type  \\\n",
       "0           ONSHORE   ABOVEGROUND  HVL OR OTHER FLAMMABLE OR TOXIC FLUID, GAS   \n",
       "1           ONSHORE   ABOVEGROUND                                   CRUDE OIL   \n",
       "2           ONSHORE   ABOVEGROUND  HVL OR OTHER FLAMMABLE OR TOXIC FLUID, GAS   \n",
       "3           ONSHORE   UNDERGROUND                                   CRUDE OIL   \n",
       "4           ONSHORE   UNDERGROUND                                   CRUDE OIL   \n",
       "\n",
       "   ... Shutdown Date/Time Restart Date/Time Public Evacuations  \\\n",
       "0  ...                NaN               NaN                NaN   \n",
       "1  ...                NaN               NaN                NaN   \n",
       "2  ...                NaN               NaN                NaN   \n",
       "3  ...                NaN               NaN                NaN   \n",
       "4  ...                NaN               NaN                NaN   \n",
       "\n",
       "  Property Damage Costs  Lost Commodity Costs  \\\n",
       "0                 110.0                1517.0   \n",
       "1                4000.0                   8.0   \n",
       "2                   0.0                 200.0   \n",
       "3                 200.0                  40.0   \n",
       "4               20000.0                 150.0   \n",
       "\n",
       "   Public/Private Property Damage Costs Emergency Response Costs  \\\n",
       "0                                   0.0                      0.0   \n",
       "1                                   0.0                      0.0   \n",
       "2                                   0.0                      0.0   \n",
       "3                                   0.0                  11300.0   \n",
       "4                                   0.0                   7500.0   \n",
       "\n",
       "  Environmental Remediation Costs  Other Costs  All Costs  \n",
       "0                             0.0          0.0       1627  \n",
       "1                             0.0          0.0       4008  \n",
       "2                             0.0          0.0        200  \n",
       "3                             0.0          0.0      11540  \n",
       "4                          2000.0          0.0      29650  \n",
       "\n",
       "[5 rows x 35 columns]"
      ]
     },
     "execution_count": 11,
     "metadata": {},
     "output_type": "execute_result"
    }
   ],
   "source": [
    "oil.head()"
   ]
  },
  {
   "cell_type": "code",
   "execution_count": 12,
   "metadata": {
    "_kg_hide-input": true,
    "_uuid": "df894a15108b86ca1606324407a7701980a213fe"
   },
   "outputs": [
    {
     "name": "stderr",
     "output_type": "stream",
     "text": [
      "/Users/admin/opt/anaconda3/lib/python3.7/site-packages/plotly/graph_objs/_deprecations.py:410: DeprecationWarning:\n",
      "\n",
      "plotly.graph_objs.Margin is deprecated.\n",
      "Please replace it with one of the following more specific types\n",
      "  - plotly.graph_objs.layout.Margin\n",
      "\n",
      "\n"
     ]
    },
    {
     "data": {
      "application/vnd.plotly.v1+json": {
       "config": {
        "linkText": "Export to plot.ly",
        "plotlyServerURL": "https://plot.ly",
        "showLink": false
       },
       "data": [
        {
         "marker": {
          "color": [
           1435,
           592,
           377,
           118,
           117,
           97,
           57
          ],
          "colorscale": [
           [
            0,
            "#440154"
           ],
           [
            0.1111111111111111,
            "#482878"
           ],
           [
            0.2222222222222222,
            "#3e4989"
           ],
           [
            0.3333333333333333,
            "#31688e"
           ],
           [
            0.4444444444444444,
            "#26828e"
           ],
           [
            0.5555555555555556,
            "#1f9e89"
           ],
           [
            0.6666666666666666,
            "#35b779"
           ],
           [
            0.7777777777777778,
            "#6ece58"
           ],
           [
            0.8888888888888888,
            "#b5de2b"
           ],
           [
            1,
            "#fde725"
           ]
          ],
          "reversescale": true
         },
         "name": "Causes Category Count",
         "type": "bar",
         "x": [
          "MATERIAL/WELD/EQUIP FAILURE",
          "CORROSION",
          "INCORRECT OPERATION",
          "NATURAL FORCE DAMAGE",
          "ALL OTHER CAUSES",
          "EXCAVATION DAMAGE",
          "OTHER OUTSIDE FORCE DAMAGE"
         ],
         "y": [
          1435,
          592,
          377,
          118,
          117,
          97,
          57
         ]
        }
       ],
       "layout": {
        "margin": {
         "b": 140,
         "r": 150
        },
        "template": {
         "data": {
          "bar": [
           {
            "error_x": {
             "color": "#2a3f5f"
            },
            "error_y": {
             "color": "#2a3f5f"
            },
            "marker": {
             "line": {
              "color": "#E5ECF6",
              "width": 0.5
             }
            },
            "type": "bar"
           }
          ],
          "barpolar": [
           {
            "marker": {
             "line": {
              "color": "#E5ECF6",
              "width": 0.5
             }
            },
            "type": "barpolar"
           }
          ],
          "carpet": [
           {
            "aaxis": {
             "endlinecolor": "#2a3f5f",
             "gridcolor": "white",
             "linecolor": "white",
             "minorgridcolor": "white",
             "startlinecolor": "#2a3f5f"
            },
            "baxis": {
             "endlinecolor": "#2a3f5f",
             "gridcolor": "white",
             "linecolor": "white",
             "minorgridcolor": "white",
             "startlinecolor": "#2a3f5f"
            },
            "type": "carpet"
           }
          ],
          "choropleth": [
           {
            "colorbar": {
             "outlinewidth": 0,
             "ticks": ""
            },
            "type": "choropleth"
           }
          ],
          "contour": [
           {
            "colorbar": {
             "outlinewidth": 0,
             "ticks": ""
            },
            "colorscale": [
             [
              0,
              "#0d0887"
             ],
             [
              0.1111111111111111,
              "#46039f"
             ],
             [
              0.2222222222222222,
              "#7201a8"
             ],
             [
              0.3333333333333333,
              "#9c179e"
             ],
             [
              0.4444444444444444,
              "#bd3786"
             ],
             [
              0.5555555555555556,
              "#d8576b"
             ],
             [
              0.6666666666666666,
              "#ed7953"
             ],
             [
              0.7777777777777778,
              "#fb9f3a"
             ],
             [
              0.8888888888888888,
              "#fdca26"
             ],
             [
              1,
              "#f0f921"
             ]
            ],
            "type": "contour"
           }
          ],
          "contourcarpet": [
           {
            "colorbar": {
             "outlinewidth": 0,
             "ticks": ""
            },
            "type": "contourcarpet"
           }
          ],
          "heatmap": [
           {
            "colorbar": {
             "outlinewidth": 0,
             "ticks": ""
            },
            "colorscale": [
             [
              0,
              "#0d0887"
             ],
             [
              0.1111111111111111,
              "#46039f"
             ],
             [
              0.2222222222222222,
              "#7201a8"
             ],
             [
              0.3333333333333333,
              "#9c179e"
             ],
             [
              0.4444444444444444,
              "#bd3786"
             ],
             [
              0.5555555555555556,
              "#d8576b"
             ],
             [
              0.6666666666666666,
              "#ed7953"
             ],
             [
              0.7777777777777778,
              "#fb9f3a"
             ],
             [
              0.8888888888888888,
              "#fdca26"
             ],
             [
              1,
              "#f0f921"
             ]
            ],
            "type": "heatmap"
           }
          ],
          "heatmapgl": [
           {
            "colorbar": {
             "outlinewidth": 0,
             "ticks": ""
            },
            "colorscale": [
             [
              0,
              "#0d0887"
             ],
             [
              0.1111111111111111,
              "#46039f"
             ],
             [
              0.2222222222222222,
              "#7201a8"
             ],
             [
              0.3333333333333333,
              "#9c179e"
             ],
             [
              0.4444444444444444,
              "#bd3786"
             ],
             [
              0.5555555555555556,
              "#d8576b"
             ],
             [
              0.6666666666666666,
              "#ed7953"
             ],
             [
              0.7777777777777778,
              "#fb9f3a"
             ],
             [
              0.8888888888888888,
              "#fdca26"
             ],
             [
              1,
              "#f0f921"
             ]
            ],
            "type": "heatmapgl"
           }
          ],
          "histogram": [
           {
            "marker": {
             "colorbar": {
              "outlinewidth": 0,
              "ticks": ""
             }
            },
            "type": "histogram"
           }
          ],
          "histogram2d": [
           {
            "colorbar": {
             "outlinewidth": 0,
             "ticks": ""
            },
            "colorscale": [
             [
              0,
              "#0d0887"
             ],
             [
              0.1111111111111111,
              "#46039f"
             ],
             [
              0.2222222222222222,
              "#7201a8"
             ],
             [
              0.3333333333333333,
              "#9c179e"
             ],
             [
              0.4444444444444444,
              "#bd3786"
             ],
             [
              0.5555555555555556,
              "#d8576b"
             ],
             [
              0.6666666666666666,
              "#ed7953"
             ],
             [
              0.7777777777777778,
              "#fb9f3a"
             ],
             [
              0.8888888888888888,
              "#fdca26"
             ],
             [
              1,
              "#f0f921"
             ]
            ],
            "type": "histogram2d"
           }
          ],
          "histogram2dcontour": [
           {
            "colorbar": {
             "outlinewidth": 0,
             "ticks": ""
            },
            "colorscale": [
             [
              0,
              "#0d0887"
             ],
             [
              0.1111111111111111,
              "#46039f"
             ],
             [
              0.2222222222222222,
              "#7201a8"
             ],
             [
              0.3333333333333333,
              "#9c179e"
             ],
             [
              0.4444444444444444,
              "#bd3786"
             ],
             [
              0.5555555555555556,
              "#d8576b"
             ],
             [
              0.6666666666666666,
              "#ed7953"
             ],
             [
              0.7777777777777778,
              "#fb9f3a"
             ],
             [
              0.8888888888888888,
              "#fdca26"
             ],
             [
              1,
              "#f0f921"
             ]
            ],
            "type": "histogram2dcontour"
           }
          ],
          "mesh3d": [
           {
            "colorbar": {
             "outlinewidth": 0,
             "ticks": ""
            },
            "type": "mesh3d"
           }
          ],
          "parcoords": [
           {
            "line": {
             "colorbar": {
              "outlinewidth": 0,
              "ticks": ""
             }
            },
            "type": "parcoords"
           }
          ],
          "pie": [
           {
            "automargin": true,
            "type": "pie"
           }
          ],
          "scatter": [
           {
            "marker": {
             "colorbar": {
              "outlinewidth": 0,
              "ticks": ""
             }
            },
            "type": "scatter"
           }
          ],
          "scatter3d": [
           {
            "line": {
             "colorbar": {
              "outlinewidth": 0,
              "ticks": ""
             }
            },
            "marker": {
             "colorbar": {
              "outlinewidth": 0,
              "ticks": ""
             }
            },
            "type": "scatter3d"
           }
          ],
          "scattercarpet": [
           {
            "marker": {
             "colorbar": {
              "outlinewidth": 0,
              "ticks": ""
             }
            },
            "type": "scattercarpet"
           }
          ],
          "scattergeo": [
           {
            "marker": {
             "colorbar": {
              "outlinewidth": 0,
              "ticks": ""
             }
            },
            "type": "scattergeo"
           }
          ],
          "scattergl": [
           {
            "marker": {
             "colorbar": {
              "outlinewidth": 0,
              "ticks": ""
             }
            },
            "type": "scattergl"
           }
          ],
          "scattermapbox": [
           {
            "marker": {
             "colorbar": {
              "outlinewidth": 0,
              "ticks": ""
             }
            },
            "type": "scattermapbox"
           }
          ],
          "scatterpolar": [
           {
            "marker": {
             "colorbar": {
              "outlinewidth": 0,
              "ticks": ""
             }
            },
            "type": "scatterpolar"
           }
          ],
          "scatterpolargl": [
           {
            "marker": {
             "colorbar": {
              "outlinewidth": 0,
              "ticks": ""
             }
            },
            "type": "scatterpolargl"
           }
          ],
          "scatterternary": [
           {
            "marker": {
             "colorbar": {
              "outlinewidth": 0,
              "ticks": ""
             }
            },
            "type": "scatterternary"
           }
          ],
          "surface": [
           {
            "colorbar": {
             "outlinewidth": 0,
             "ticks": ""
            },
            "colorscale": [
             [
              0,
              "#0d0887"
             ],
             [
              0.1111111111111111,
              "#46039f"
             ],
             [
              0.2222222222222222,
              "#7201a8"
             ],
             [
              0.3333333333333333,
              "#9c179e"
             ],
             [
              0.4444444444444444,
              "#bd3786"
             ],
             [
              0.5555555555555556,
              "#d8576b"
             ],
             [
              0.6666666666666666,
              "#ed7953"
             ],
             [
              0.7777777777777778,
              "#fb9f3a"
             ],
             [
              0.8888888888888888,
              "#fdca26"
             ],
             [
              1,
              "#f0f921"
             ]
            ],
            "type": "surface"
           }
          ],
          "table": [
           {
            "cells": {
             "fill": {
              "color": "#EBF0F8"
             },
             "line": {
              "color": "white"
             }
            },
            "header": {
             "fill": {
              "color": "#C8D4E3"
             },
             "line": {
              "color": "white"
             }
            },
            "type": "table"
           }
          ]
         },
         "layout": {
          "annotationdefaults": {
           "arrowcolor": "#2a3f5f",
           "arrowhead": 0,
           "arrowwidth": 1
          },
          "autotypenumbers": "strict",
          "coloraxis": {
           "colorbar": {
            "outlinewidth": 0,
            "ticks": ""
           }
          },
          "colorscale": {
           "diverging": [
            [
             0,
             "#8e0152"
            ],
            [
             0.1,
             "#c51b7d"
            ],
            [
             0.2,
             "#de77ae"
            ],
            [
             0.3,
             "#f1b6da"
            ],
            [
             0.4,
             "#fde0ef"
            ],
            [
             0.5,
             "#f7f7f7"
            ],
            [
             0.6,
             "#e6f5d0"
            ],
            [
             0.7,
             "#b8e186"
            ],
            [
             0.8,
             "#7fbc41"
            ],
            [
             0.9,
             "#4d9221"
            ],
            [
             1,
             "#276419"
            ]
           ],
           "sequential": [
            [
             0,
             "#0d0887"
            ],
            [
             0.1111111111111111,
             "#46039f"
            ],
            [
             0.2222222222222222,
             "#7201a8"
            ],
            [
             0.3333333333333333,
             "#9c179e"
            ],
            [
             0.4444444444444444,
             "#bd3786"
            ],
            [
             0.5555555555555556,
             "#d8576b"
            ],
            [
             0.6666666666666666,
             "#ed7953"
            ],
            [
             0.7777777777777778,
             "#fb9f3a"
            ],
            [
             0.8888888888888888,
             "#fdca26"
            ],
            [
             1,
             "#f0f921"
            ]
           ],
           "sequentialminus": [
            [
             0,
             "#0d0887"
            ],
            [
             0.1111111111111111,
             "#46039f"
            ],
            [
             0.2222222222222222,
             "#7201a8"
            ],
            [
             0.3333333333333333,
             "#9c179e"
            ],
            [
             0.4444444444444444,
             "#bd3786"
            ],
            [
             0.5555555555555556,
             "#d8576b"
            ],
            [
             0.6666666666666666,
             "#ed7953"
            ],
            [
             0.7777777777777778,
             "#fb9f3a"
            ],
            [
             0.8888888888888888,
             "#fdca26"
            ],
            [
             1,
             "#f0f921"
            ]
           ]
          },
          "colorway": [
           "#636efa",
           "#EF553B",
           "#00cc96",
           "#ab63fa",
           "#FFA15A",
           "#19d3f3",
           "#FF6692",
           "#B6E880",
           "#FF97FF",
           "#FECB52"
          ],
          "font": {
           "color": "#2a3f5f"
          },
          "geo": {
           "bgcolor": "white",
           "lakecolor": "white",
           "landcolor": "#E5ECF6",
           "showlakes": true,
           "showland": true,
           "subunitcolor": "white"
          },
          "hoverlabel": {
           "align": "left"
          },
          "hovermode": "closest",
          "mapbox": {
           "style": "light"
          },
          "paper_bgcolor": "white",
          "plot_bgcolor": "#E5ECF6",
          "polar": {
           "angularaxis": {
            "gridcolor": "white",
            "linecolor": "white",
            "ticks": ""
           },
           "bgcolor": "#E5ECF6",
           "radialaxis": {
            "gridcolor": "white",
            "linecolor": "white",
            "ticks": ""
           }
          },
          "scene": {
           "xaxis": {
            "backgroundcolor": "#E5ECF6",
            "gridcolor": "white",
            "gridwidth": 2,
            "linecolor": "white",
            "showbackground": true,
            "ticks": "",
            "zerolinecolor": "white"
           },
           "yaxis": {
            "backgroundcolor": "#E5ECF6",
            "gridcolor": "white",
            "gridwidth": 2,
            "linecolor": "white",
            "showbackground": true,
            "ticks": "",
            "zerolinecolor": "white"
           },
           "zaxis": {
            "backgroundcolor": "#E5ECF6",
            "gridcolor": "white",
            "gridwidth": 2,
            "linecolor": "white",
            "showbackground": true,
            "ticks": "",
            "zerolinecolor": "white"
           }
          },
          "shapedefaults": {
           "line": {
            "color": "#2a3f5f"
           }
          },
          "ternary": {
           "aaxis": {
            "gridcolor": "white",
            "linecolor": "white",
            "ticks": ""
           },
           "baxis": {
            "gridcolor": "white",
            "linecolor": "white",
            "ticks": ""
           },
           "bgcolor": "#E5ECF6",
           "caxis": {
            "gridcolor": "white",
            "linecolor": "white",
            "ticks": ""
           }
          },
          "title": {
           "x": 0.05
          },
          "xaxis": {
           "automargin": true,
           "gridcolor": "white",
           "linecolor": "white",
           "ticks": "",
           "title": {
            "standoff": 15
           },
           "zerolinecolor": "white",
           "zerolinewidth": 2
          },
          "yaxis": {
           "automargin": true,
           "gridcolor": "white",
           "linecolor": "white",
           "ticks": "",
           "title": {
            "standoff": 15
           },
           "zerolinecolor": "white",
           "zerolinewidth": 2
          }
         }
        },
        "title": {
         "text": "Cause category"
        },
        "width": 700
       }
      },
      "text/html": [
       "<div>                            <div id=\"57c8c727-2e53-4f73-a669-479e50587bbd\" class=\"plotly-graph-div\" style=\"height:525px; width:700px;\"></div>            <script type=\"text/javascript\">                require([\"plotly\"], function(Plotly) {                    window.PLOTLYENV=window.PLOTLYENV || {};                                    if (document.getElementById(\"57c8c727-2e53-4f73-a669-479e50587bbd\")) {                    Plotly.newPlot(                        \"57c8c727-2e53-4f73-a669-479e50587bbd\",                        [{\"marker\": {\"color\": [1435, 592, 377, 118, 117, 97, 57], \"colorscale\": [[0.0, \"#440154\"], [0.1111111111111111, \"#482878\"], [0.2222222222222222, \"#3e4989\"], [0.3333333333333333, \"#31688e\"], [0.4444444444444444, \"#26828e\"], [0.5555555555555556, \"#1f9e89\"], [0.6666666666666666, \"#35b779\"], [0.7777777777777778, \"#6ece58\"], [0.8888888888888888, \"#b5de2b\"], [1.0, \"#fde725\"]], \"reversescale\": true}, \"name\": \"Causes Category Count\", \"type\": \"bar\", \"x\": [\"MATERIAL/WELD/EQUIP FAILURE\", \"CORROSION\", \"INCORRECT OPERATION\", \"NATURAL FORCE DAMAGE\", \"ALL OTHER CAUSES\", \"EXCAVATION DAMAGE\", \"OTHER OUTSIDE FORCE DAMAGE\"], \"y\": [1435, 592, 377, 118, 117, 97, 57]}],                        {\"margin\": {\"b\": 140, \"r\": 150}, \"template\": {\"data\": {\"bar\": [{\"error_x\": {\"color\": \"#2a3f5f\"}, \"error_y\": {\"color\": \"#2a3f5f\"}, \"marker\": {\"line\": {\"color\": \"#E5ECF6\", \"width\": 0.5}}, \"type\": \"bar\"}], \"barpolar\": [{\"marker\": {\"line\": {\"color\": \"#E5ECF6\", \"width\": 0.5}}, \"type\": \"barpolar\"}], \"carpet\": [{\"aaxis\": {\"endlinecolor\": \"#2a3f5f\", \"gridcolor\": \"white\", \"linecolor\": \"white\", \"minorgridcolor\": \"white\", \"startlinecolor\": \"#2a3f5f\"}, \"baxis\": {\"endlinecolor\": \"#2a3f5f\", \"gridcolor\": \"white\", \"linecolor\": \"white\", \"minorgridcolor\": \"white\", \"startlinecolor\": \"#2a3f5f\"}, \"type\": \"carpet\"}], \"choropleth\": [{\"colorbar\": {\"outlinewidth\": 0, \"ticks\": \"\"}, \"type\": \"choropleth\"}], \"contour\": [{\"colorbar\": {\"outlinewidth\": 0, \"ticks\": \"\"}, \"colorscale\": [[0.0, \"#0d0887\"], [0.1111111111111111, \"#46039f\"], [0.2222222222222222, \"#7201a8\"], [0.3333333333333333, \"#9c179e\"], [0.4444444444444444, \"#bd3786\"], [0.5555555555555556, \"#d8576b\"], [0.6666666666666666, \"#ed7953\"], [0.7777777777777778, \"#fb9f3a\"], [0.8888888888888888, \"#fdca26\"], [1.0, \"#f0f921\"]], \"type\": \"contour\"}], \"contourcarpet\": [{\"colorbar\": {\"outlinewidth\": 0, \"ticks\": \"\"}, \"type\": \"contourcarpet\"}], \"heatmap\": [{\"colorbar\": {\"outlinewidth\": 0, \"ticks\": \"\"}, \"colorscale\": [[0.0, \"#0d0887\"], [0.1111111111111111, \"#46039f\"], [0.2222222222222222, \"#7201a8\"], [0.3333333333333333, \"#9c179e\"], [0.4444444444444444, \"#bd3786\"], [0.5555555555555556, \"#d8576b\"], [0.6666666666666666, \"#ed7953\"], [0.7777777777777778, \"#fb9f3a\"], [0.8888888888888888, \"#fdca26\"], [1.0, \"#f0f921\"]], \"type\": \"heatmap\"}], \"heatmapgl\": [{\"colorbar\": {\"outlinewidth\": 0, \"ticks\": \"\"}, \"colorscale\": [[0.0, \"#0d0887\"], [0.1111111111111111, \"#46039f\"], [0.2222222222222222, \"#7201a8\"], [0.3333333333333333, \"#9c179e\"], [0.4444444444444444, \"#bd3786\"], [0.5555555555555556, \"#d8576b\"], [0.6666666666666666, \"#ed7953\"], [0.7777777777777778, \"#fb9f3a\"], [0.8888888888888888, \"#fdca26\"], [1.0, \"#f0f921\"]], \"type\": \"heatmapgl\"}], \"histogram\": [{\"marker\": {\"colorbar\": {\"outlinewidth\": 0, \"ticks\": \"\"}}, \"type\": \"histogram\"}], \"histogram2d\": [{\"colorbar\": {\"outlinewidth\": 0, \"ticks\": \"\"}, \"colorscale\": [[0.0, \"#0d0887\"], [0.1111111111111111, \"#46039f\"], [0.2222222222222222, \"#7201a8\"], [0.3333333333333333, \"#9c179e\"], [0.4444444444444444, \"#bd3786\"], [0.5555555555555556, \"#d8576b\"], [0.6666666666666666, \"#ed7953\"], [0.7777777777777778, \"#fb9f3a\"], [0.8888888888888888, \"#fdca26\"], [1.0, \"#f0f921\"]], \"type\": \"histogram2d\"}], \"histogram2dcontour\": [{\"colorbar\": {\"outlinewidth\": 0, \"ticks\": \"\"}, \"colorscale\": [[0.0, \"#0d0887\"], [0.1111111111111111, \"#46039f\"], [0.2222222222222222, \"#7201a8\"], [0.3333333333333333, \"#9c179e\"], [0.4444444444444444, \"#bd3786\"], [0.5555555555555556, \"#d8576b\"], [0.6666666666666666, \"#ed7953\"], [0.7777777777777778, \"#fb9f3a\"], [0.8888888888888888, \"#fdca26\"], [1.0, \"#f0f921\"]], \"type\": \"histogram2dcontour\"}], \"mesh3d\": [{\"colorbar\": {\"outlinewidth\": 0, \"ticks\": \"\"}, \"type\": \"mesh3d\"}], \"parcoords\": [{\"line\": {\"colorbar\": {\"outlinewidth\": 0, \"ticks\": \"\"}}, \"type\": \"parcoords\"}], \"pie\": [{\"automargin\": true, \"type\": \"pie\"}], \"scatter\": [{\"marker\": {\"colorbar\": {\"outlinewidth\": 0, \"ticks\": \"\"}}, \"type\": \"scatter\"}], \"scatter3d\": [{\"line\": {\"colorbar\": {\"outlinewidth\": 0, \"ticks\": \"\"}}, \"marker\": {\"colorbar\": {\"outlinewidth\": 0, \"ticks\": \"\"}}, \"type\": \"scatter3d\"}], \"scattercarpet\": [{\"marker\": {\"colorbar\": {\"outlinewidth\": 0, \"ticks\": \"\"}}, \"type\": \"scattercarpet\"}], \"scattergeo\": [{\"marker\": {\"colorbar\": {\"outlinewidth\": 0, \"ticks\": \"\"}}, \"type\": \"scattergeo\"}], \"scattergl\": [{\"marker\": {\"colorbar\": {\"outlinewidth\": 0, \"ticks\": \"\"}}, \"type\": \"scattergl\"}], \"scattermapbox\": [{\"marker\": {\"colorbar\": {\"outlinewidth\": 0, \"ticks\": \"\"}}, \"type\": \"scattermapbox\"}], \"scatterpolar\": [{\"marker\": {\"colorbar\": {\"outlinewidth\": 0, \"ticks\": \"\"}}, \"type\": \"scatterpolar\"}], \"scatterpolargl\": [{\"marker\": {\"colorbar\": {\"outlinewidth\": 0, \"ticks\": \"\"}}, \"type\": \"scatterpolargl\"}], \"scatterternary\": [{\"marker\": {\"colorbar\": {\"outlinewidth\": 0, \"ticks\": \"\"}}, \"type\": \"scatterternary\"}], \"surface\": [{\"colorbar\": {\"outlinewidth\": 0, \"ticks\": \"\"}, \"colorscale\": [[0.0, \"#0d0887\"], [0.1111111111111111, \"#46039f\"], [0.2222222222222222, \"#7201a8\"], [0.3333333333333333, \"#9c179e\"], [0.4444444444444444, \"#bd3786\"], [0.5555555555555556, \"#d8576b\"], [0.6666666666666666, \"#ed7953\"], [0.7777777777777778, \"#fb9f3a\"], [0.8888888888888888, \"#fdca26\"], [1.0, \"#f0f921\"]], \"type\": \"surface\"}], \"table\": [{\"cells\": {\"fill\": {\"color\": \"#EBF0F8\"}, \"line\": {\"color\": \"white\"}}, \"header\": {\"fill\": {\"color\": \"#C8D4E3\"}, \"line\": {\"color\": \"white\"}}, \"type\": \"table\"}]}, \"layout\": {\"annotationdefaults\": {\"arrowcolor\": \"#2a3f5f\", \"arrowhead\": 0, \"arrowwidth\": 1}, \"autotypenumbers\": \"strict\", \"coloraxis\": {\"colorbar\": {\"outlinewidth\": 0, \"ticks\": \"\"}}, \"colorscale\": {\"diverging\": [[0, \"#8e0152\"], [0.1, \"#c51b7d\"], [0.2, \"#de77ae\"], [0.3, \"#f1b6da\"], [0.4, \"#fde0ef\"], [0.5, \"#f7f7f7\"], [0.6, \"#e6f5d0\"], [0.7, \"#b8e186\"], [0.8, \"#7fbc41\"], [0.9, \"#4d9221\"], [1, \"#276419\"]], \"sequential\": [[0.0, \"#0d0887\"], [0.1111111111111111, \"#46039f\"], [0.2222222222222222, \"#7201a8\"], [0.3333333333333333, \"#9c179e\"], [0.4444444444444444, \"#bd3786\"], [0.5555555555555556, \"#d8576b\"], [0.6666666666666666, \"#ed7953\"], [0.7777777777777778, \"#fb9f3a\"], [0.8888888888888888, \"#fdca26\"], [1.0, \"#f0f921\"]], \"sequentialminus\": [[0.0, \"#0d0887\"], [0.1111111111111111, \"#46039f\"], [0.2222222222222222, \"#7201a8\"], [0.3333333333333333, \"#9c179e\"], [0.4444444444444444, \"#bd3786\"], [0.5555555555555556, \"#d8576b\"], [0.6666666666666666, \"#ed7953\"], [0.7777777777777778, \"#fb9f3a\"], [0.8888888888888888, \"#fdca26\"], [1.0, \"#f0f921\"]]}, \"colorway\": [\"#636efa\", \"#EF553B\", \"#00cc96\", \"#ab63fa\", \"#FFA15A\", \"#19d3f3\", \"#FF6692\", \"#B6E880\", \"#FF97FF\", \"#FECB52\"], \"font\": {\"color\": \"#2a3f5f\"}, \"geo\": {\"bgcolor\": \"white\", \"lakecolor\": \"white\", \"landcolor\": \"#E5ECF6\", \"showlakes\": true, \"showland\": true, \"subunitcolor\": \"white\"}, \"hoverlabel\": {\"align\": \"left\"}, \"hovermode\": \"closest\", \"mapbox\": {\"style\": \"light\"}, \"paper_bgcolor\": \"white\", \"plot_bgcolor\": \"#E5ECF6\", \"polar\": {\"angularaxis\": {\"gridcolor\": \"white\", \"linecolor\": \"white\", \"ticks\": \"\"}, \"bgcolor\": \"#E5ECF6\", \"radialaxis\": {\"gridcolor\": \"white\", \"linecolor\": \"white\", \"ticks\": \"\"}}, \"scene\": {\"xaxis\": {\"backgroundcolor\": \"#E5ECF6\", \"gridcolor\": \"white\", \"gridwidth\": 2, \"linecolor\": \"white\", \"showbackground\": true, \"ticks\": \"\", \"zerolinecolor\": \"white\"}, \"yaxis\": {\"backgroundcolor\": \"#E5ECF6\", \"gridcolor\": \"white\", \"gridwidth\": 2, \"linecolor\": \"white\", \"showbackground\": true, \"ticks\": \"\", \"zerolinecolor\": \"white\"}, \"zaxis\": {\"backgroundcolor\": \"#E5ECF6\", \"gridcolor\": \"white\", \"gridwidth\": 2, \"linecolor\": \"white\", \"showbackground\": true, \"ticks\": \"\", \"zerolinecolor\": \"white\"}}, \"shapedefaults\": {\"line\": {\"color\": \"#2a3f5f\"}}, \"ternary\": {\"aaxis\": {\"gridcolor\": \"white\", \"linecolor\": \"white\", \"ticks\": \"\"}, \"baxis\": {\"gridcolor\": \"white\", \"linecolor\": \"white\", \"ticks\": \"\"}, \"bgcolor\": \"#E5ECF6\", \"caxis\": {\"gridcolor\": \"white\", \"linecolor\": \"white\", \"ticks\": \"\"}}, \"title\": {\"x\": 0.05}, \"xaxis\": {\"automargin\": true, \"gridcolor\": \"white\", \"linecolor\": \"white\", \"ticks\": \"\", \"title\": {\"standoff\": 15}, \"zerolinecolor\": \"white\", \"zerolinewidth\": 2}, \"yaxis\": {\"automargin\": true, \"gridcolor\": \"white\", \"linecolor\": \"white\", \"ticks\": \"\", \"title\": {\"standoff\": 15}, \"zerolinecolor\": \"white\", \"zerolinewidth\": 2}}}, \"title\": {\"text\": \"Cause category\"}, \"width\": 700},                        {\"responsive\": true}                    ).then(function(){\n",
       "                            \n",
       "var gd = document.getElementById('57c8c727-2e53-4f73-a669-479e50587bbd');\n",
       "var x = new MutationObserver(function (mutations, observer) {{\n",
       "        var display = window.getComputedStyle(gd).display;\n",
       "        if (!display || display === 'none') {{\n",
       "            console.log([gd, 'removed!']);\n",
       "            Plotly.purge(gd);\n",
       "            observer.disconnect();\n",
       "        }}\n",
       "}});\n",
       "\n",
       "// Listen for the removal of the full notebook cells\n",
       "var notebookContainer = gd.closest('#notebook-container');\n",
       "if (notebookContainer) {{\n",
       "    x.observe(notebookContainer, {childList: true});\n",
       "}}\n",
       "\n",
       "// Listen for the clearing of the current output cell\n",
       "var outputEl = gd.closest('.output');\n",
       "if (outputEl) {{\n",
       "    x.observe(outputEl, {childList: true});\n",
       "}}\n",
       "\n",
       "                        })                };                });            </script>        </div>"
      ]
     },
     "metadata": {},
     "output_type": "display_data"
    }
   ],
   "source": [
    "main_causes = oil['Cause Category'].value_counts()\n",
    "main_causes = go.Bar(\n",
    "   y = main_causes.values, \n",
    "   x = main_causes.index.values, \n",
    "   name = 'Causes Category Count', \n",
    "     marker=dict(\n",
    "        color=main_causes.values,\n",
    "        colorscale = 'Viridis',\n",
    "        reversescale = True\n",
    "        )\n",
    "\n",
    ")\n",
    "\n",
    "data = [main_causes]\n",
    "\n",
    "layout = go.Layout (\n",
    "title = 'Cause category', \n",
    "width = 700, \n",
    "margin=go.Margin(b=140, r=150)\n",
    ")\n",
    "\n",
    "fig = go.Figure(data=data, layout=layout)\n",
    "py.iplot(fig, filename='basic-bar')\n",
    "\n",
    "#most failure resulted from material/weld/equipment failure, while all other reasons together only 1358. So need\n",
    "#to pay particular attention to Material/Weld/Equipment failure. "
   ]
  },
  {
   "cell_type": "code",
   "execution_count": 19,
   "metadata": {
    "_kg_hide-input": true,
    "_kg_hide-output": false,
    "_uuid": "e7910b799e2441f72c46fad68f8fabc0865d7d95"
   },
   "outputs": [
    {
     "data": {
      "application/vnd.plotly.v1+json": {
       "config": {
        "linkText": "Export to plot.ly",
        "plotlyServerURL": "https://plot.ly",
        "showLink": false
       },
       "data": [
        {
         "marker": {
          "color": [
           362,
           296,
           286,
           230,
           204,
           171,
           151,
           112,
           86,
           84,
           76,
           71,
           70,
           69,
           67,
           62,
           57,
           57,
           41,
           37,
           28,
           25,
           21,
           20,
           19,
           16,
           15,
           12,
           11,
           10,
           8,
           8,
           4,
           3,
           1,
           1,
           1,
           1
          ],
          "colorscale": [
           [
            0,
            "#440154"
           ],
           [
            0.1111111111111111,
            "#482878"
           ],
           [
            0.2222222222222222,
            "#3e4989"
           ],
           [
            0.3333333333333333,
            "#31688e"
           ],
           [
            0.4444444444444444,
            "#26828e"
           ],
           [
            0.5555555555555556,
            "#1f9e89"
           ],
           [
            0.6666666666666666,
            "#35b779"
           ],
           [
            0.7777777777777778,
            "#6ece58"
           ],
           [
            0.8888888888888888,
            "#b5de2b"
           ],
           [
            1,
            "#fde725"
           ]
          ],
          "reversescale": true
         },
         "name": "Causes Subcategory Count",
         "type": "bar",
         "x": [
          "INTERNAL",
          "PUMP OR PUMP-RELATED EQUIPMENT",
          "NON-THREADED CONNECTION FAILURE",
          "EXTERNAL",
          "OTHER EQUIPMENT FAILURE",
          "MALFUNCTION OF CONTROL/RELIEF EQUIPMENT",
          "THREADED CONNECTION/COUPLING FAILURE",
          "CONSTRUCTION, INSTALLATION OR FABRICATION-RELATED",
          "OTHER INCORRECT OPERATION",
          "INCORRECT VALVE POSITION",
          "MISCELLANEOUS",
          "INCORRECT INSTALLATION",
          "MANUFACTURING-RELATED",
          "OVERFILL/OVERFLOW OF TANK/VESSEL/SUMP",
          "FAILURE OF EQUIPMENT BODY",
          "DEFECTIVE OR LOOSE TUBING/FITTING",
          "TEMPERATURE",
          "THIRD PARTY EXCAVATION DAMAGE",
          "UNKNOWN",
          "PIPELINE/EQUIPMENT OVERPRESSURED",
          "OPERATOR/CONTRACTOR EXCAVATION DAMAGE",
          "HEAVY RAINS/FLOODS",
          "VEHICLE NOT ENGAGED IN EXCAVATION",
          "DAMAGE BY OPERATOR OR OPERATOR'S CONTRACTOR",
          "LIGHTNING",
          "ENVIRONMENTAL CRACKING-RELATED",
          "OTHER OUTSIDE FORCE DAMAGE",
          "PREVIOUS DAMAGE DUE TO EXCAVATION",
          "ELECTRICAL ARCING FROM OTHER EQUIPMENT/FACILITY",
          "INCORRECT EQUIPMENT",
          "EARTH MOVEMENT",
          "OTHER NATURAL FORCE DAMAGE",
          "FIRE/EXPLOSION AS PRIMARY CAUSE",
          "INTENTIONAL DAMAGE",
          "HIGH WINDS",
          "MARITIME EQUIPMENT OR VESSEL ADRIFT",
          "PREVIOUS MECHANICAL DAMAGE",
          "FISHING OR MARITIME ACTIVITY"
         ],
         "y": [
          362,
          296,
          286,
          230,
          204,
          171,
          151,
          112,
          86,
          84,
          76,
          71,
          70,
          69,
          67,
          62,
          57,
          57,
          41,
          37,
          28,
          25,
          21,
          20,
          19,
          16,
          15,
          12,
          11,
          10,
          8,
          8,
          4,
          3,
          1,
          1,
          1,
          1
         ]
        }
       ],
       "layout": {
        "margin": {
         "b": 140,
         "r": 150
        },
        "template": {
         "data": {
          "bar": [
           {
            "error_x": {
             "color": "#2a3f5f"
            },
            "error_y": {
             "color": "#2a3f5f"
            },
            "marker": {
             "line": {
              "color": "#E5ECF6",
              "width": 0.5
             }
            },
            "type": "bar"
           }
          ],
          "barpolar": [
           {
            "marker": {
             "line": {
              "color": "#E5ECF6",
              "width": 0.5
             }
            },
            "type": "barpolar"
           }
          ],
          "carpet": [
           {
            "aaxis": {
             "endlinecolor": "#2a3f5f",
             "gridcolor": "white",
             "linecolor": "white",
             "minorgridcolor": "white",
             "startlinecolor": "#2a3f5f"
            },
            "baxis": {
             "endlinecolor": "#2a3f5f",
             "gridcolor": "white",
             "linecolor": "white",
             "minorgridcolor": "white",
             "startlinecolor": "#2a3f5f"
            },
            "type": "carpet"
           }
          ],
          "choropleth": [
           {
            "colorbar": {
             "outlinewidth": 0,
             "ticks": ""
            },
            "type": "choropleth"
           }
          ],
          "contour": [
           {
            "colorbar": {
             "outlinewidth": 0,
             "ticks": ""
            },
            "colorscale": [
             [
              0,
              "#0d0887"
             ],
             [
              0.1111111111111111,
              "#46039f"
             ],
             [
              0.2222222222222222,
              "#7201a8"
             ],
             [
              0.3333333333333333,
              "#9c179e"
             ],
             [
              0.4444444444444444,
              "#bd3786"
             ],
             [
              0.5555555555555556,
              "#d8576b"
             ],
             [
              0.6666666666666666,
              "#ed7953"
             ],
             [
              0.7777777777777778,
              "#fb9f3a"
             ],
             [
              0.8888888888888888,
              "#fdca26"
             ],
             [
              1,
              "#f0f921"
             ]
            ],
            "type": "contour"
           }
          ],
          "contourcarpet": [
           {
            "colorbar": {
             "outlinewidth": 0,
             "ticks": ""
            },
            "type": "contourcarpet"
           }
          ],
          "heatmap": [
           {
            "colorbar": {
             "outlinewidth": 0,
             "ticks": ""
            },
            "colorscale": [
             [
              0,
              "#0d0887"
             ],
             [
              0.1111111111111111,
              "#46039f"
             ],
             [
              0.2222222222222222,
              "#7201a8"
             ],
             [
              0.3333333333333333,
              "#9c179e"
             ],
             [
              0.4444444444444444,
              "#bd3786"
             ],
             [
              0.5555555555555556,
              "#d8576b"
             ],
             [
              0.6666666666666666,
              "#ed7953"
             ],
             [
              0.7777777777777778,
              "#fb9f3a"
             ],
             [
              0.8888888888888888,
              "#fdca26"
             ],
             [
              1,
              "#f0f921"
             ]
            ],
            "type": "heatmap"
           }
          ],
          "heatmapgl": [
           {
            "colorbar": {
             "outlinewidth": 0,
             "ticks": ""
            },
            "colorscale": [
             [
              0,
              "#0d0887"
             ],
             [
              0.1111111111111111,
              "#46039f"
             ],
             [
              0.2222222222222222,
              "#7201a8"
             ],
             [
              0.3333333333333333,
              "#9c179e"
             ],
             [
              0.4444444444444444,
              "#bd3786"
             ],
             [
              0.5555555555555556,
              "#d8576b"
             ],
             [
              0.6666666666666666,
              "#ed7953"
             ],
             [
              0.7777777777777778,
              "#fb9f3a"
             ],
             [
              0.8888888888888888,
              "#fdca26"
             ],
             [
              1,
              "#f0f921"
             ]
            ],
            "type": "heatmapgl"
           }
          ],
          "histogram": [
           {
            "marker": {
             "colorbar": {
              "outlinewidth": 0,
              "ticks": ""
             }
            },
            "type": "histogram"
           }
          ],
          "histogram2d": [
           {
            "colorbar": {
             "outlinewidth": 0,
             "ticks": ""
            },
            "colorscale": [
             [
              0,
              "#0d0887"
             ],
             [
              0.1111111111111111,
              "#46039f"
             ],
             [
              0.2222222222222222,
              "#7201a8"
             ],
             [
              0.3333333333333333,
              "#9c179e"
             ],
             [
              0.4444444444444444,
              "#bd3786"
             ],
             [
              0.5555555555555556,
              "#d8576b"
             ],
             [
              0.6666666666666666,
              "#ed7953"
             ],
             [
              0.7777777777777778,
              "#fb9f3a"
             ],
             [
              0.8888888888888888,
              "#fdca26"
             ],
             [
              1,
              "#f0f921"
             ]
            ],
            "type": "histogram2d"
           }
          ],
          "histogram2dcontour": [
           {
            "colorbar": {
             "outlinewidth": 0,
             "ticks": ""
            },
            "colorscale": [
             [
              0,
              "#0d0887"
             ],
             [
              0.1111111111111111,
              "#46039f"
             ],
             [
              0.2222222222222222,
              "#7201a8"
             ],
             [
              0.3333333333333333,
              "#9c179e"
             ],
             [
              0.4444444444444444,
              "#bd3786"
             ],
             [
              0.5555555555555556,
              "#d8576b"
             ],
             [
              0.6666666666666666,
              "#ed7953"
             ],
             [
              0.7777777777777778,
              "#fb9f3a"
             ],
             [
              0.8888888888888888,
              "#fdca26"
             ],
             [
              1,
              "#f0f921"
             ]
            ],
            "type": "histogram2dcontour"
           }
          ],
          "mesh3d": [
           {
            "colorbar": {
             "outlinewidth": 0,
             "ticks": ""
            },
            "type": "mesh3d"
           }
          ],
          "parcoords": [
           {
            "line": {
             "colorbar": {
              "outlinewidth": 0,
              "ticks": ""
             }
            },
            "type": "parcoords"
           }
          ],
          "pie": [
           {
            "automargin": true,
            "type": "pie"
           }
          ],
          "scatter": [
           {
            "marker": {
             "colorbar": {
              "outlinewidth": 0,
              "ticks": ""
             }
            },
            "type": "scatter"
           }
          ],
          "scatter3d": [
           {
            "line": {
             "colorbar": {
              "outlinewidth": 0,
              "ticks": ""
             }
            },
            "marker": {
             "colorbar": {
              "outlinewidth": 0,
              "ticks": ""
             }
            },
            "type": "scatter3d"
           }
          ],
          "scattercarpet": [
           {
            "marker": {
             "colorbar": {
              "outlinewidth": 0,
              "ticks": ""
             }
            },
            "type": "scattercarpet"
           }
          ],
          "scattergeo": [
           {
            "marker": {
             "colorbar": {
              "outlinewidth": 0,
              "ticks": ""
             }
            },
            "type": "scattergeo"
           }
          ],
          "scattergl": [
           {
            "marker": {
             "colorbar": {
              "outlinewidth": 0,
              "ticks": ""
             }
            },
            "type": "scattergl"
           }
          ],
          "scattermapbox": [
           {
            "marker": {
             "colorbar": {
              "outlinewidth": 0,
              "ticks": ""
             }
            },
            "type": "scattermapbox"
           }
          ],
          "scatterpolar": [
           {
            "marker": {
             "colorbar": {
              "outlinewidth": 0,
              "ticks": ""
             }
            },
            "type": "scatterpolar"
           }
          ],
          "scatterpolargl": [
           {
            "marker": {
             "colorbar": {
              "outlinewidth": 0,
              "ticks": ""
             }
            },
            "type": "scatterpolargl"
           }
          ],
          "scatterternary": [
           {
            "marker": {
             "colorbar": {
              "outlinewidth": 0,
              "ticks": ""
             }
            },
            "type": "scatterternary"
           }
          ],
          "surface": [
           {
            "colorbar": {
             "outlinewidth": 0,
             "ticks": ""
            },
            "colorscale": [
             [
              0,
              "#0d0887"
             ],
             [
              0.1111111111111111,
              "#46039f"
             ],
             [
              0.2222222222222222,
              "#7201a8"
             ],
             [
              0.3333333333333333,
              "#9c179e"
             ],
             [
              0.4444444444444444,
              "#bd3786"
             ],
             [
              0.5555555555555556,
              "#d8576b"
             ],
             [
              0.6666666666666666,
              "#ed7953"
             ],
             [
              0.7777777777777778,
              "#fb9f3a"
             ],
             [
              0.8888888888888888,
              "#fdca26"
             ],
             [
              1,
              "#f0f921"
             ]
            ],
            "type": "surface"
           }
          ],
          "table": [
           {
            "cells": {
             "fill": {
              "color": "#EBF0F8"
             },
             "line": {
              "color": "white"
             }
            },
            "header": {
             "fill": {
              "color": "#C8D4E3"
             },
             "line": {
              "color": "white"
             }
            },
            "type": "table"
           }
          ]
         },
         "layout": {
          "annotationdefaults": {
           "arrowcolor": "#2a3f5f",
           "arrowhead": 0,
           "arrowwidth": 1
          },
          "autotypenumbers": "strict",
          "coloraxis": {
           "colorbar": {
            "outlinewidth": 0,
            "ticks": ""
           }
          },
          "colorscale": {
           "diverging": [
            [
             0,
             "#8e0152"
            ],
            [
             0.1,
             "#c51b7d"
            ],
            [
             0.2,
             "#de77ae"
            ],
            [
             0.3,
             "#f1b6da"
            ],
            [
             0.4,
             "#fde0ef"
            ],
            [
             0.5,
             "#f7f7f7"
            ],
            [
             0.6,
             "#e6f5d0"
            ],
            [
             0.7,
             "#b8e186"
            ],
            [
             0.8,
             "#7fbc41"
            ],
            [
             0.9,
             "#4d9221"
            ],
            [
             1,
             "#276419"
            ]
           ],
           "sequential": [
            [
             0,
             "#0d0887"
            ],
            [
             0.1111111111111111,
             "#46039f"
            ],
            [
             0.2222222222222222,
             "#7201a8"
            ],
            [
             0.3333333333333333,
             "#9c179e"
            ],
            [
             0.4444444444444444,
             "#bd3786"
            ],
            [
             0.5555555555555556,
             "#d8576b"
            ],
            [
             0.6666666666666666,
             "#ed7953"
            ],
            [
             0.7777777777777778,
             "#fb9f3a"
            ],
            [
             0.8888888888888888,
             "#fdca26"
            ],
            [
             1,
             "#f0f921"
            ]
           ],
           "sequentialminus": [
            [
             0,
             "#0d0887"
            ],
            [
             0.1111111111111111,
             "#46039f"
            ],
            [
             0.2222222222222222,
             "#7201a8"
            ],
            [
             0.3333333333333333,
             "#9c179e"
            ],
            [
             0.4444444444444444,
             "#bd3786"
            ],
            [
             0.5555555555555556,
             "#d8576b"
            ],
            [
             0.6666666666666666,
             "#ed7953"
            ],
            [
             0.7777777777777778,
             "#fb9f3a"
            ],
            [
             0.8888888888888888,
             "#fdca26"
            ],
            [
             1,
             "#f0f921"
            ]
           ]
          },
          "colorway": [
           "#636efa",
           "#EF553B",
           "#00cc96",
           "#ab63fa",
           "#FFA15A",
           "#19d3f3",
           "#FF6692",
           "#B6E880",
           "#FF97FF",
           "#FECB52"
          ],
          "font": {
           "color": "#2a3f5f"
          },
          "geo": {
           "bgcolor": "white",
           "lakecolor": "white",
           "landcolor": "#E5ECF6",
           "showlakes": true,
           "showland": true,
           "subunitcolor": "white"
          },
          "hoverlabel": {
           "align": "left"
          },
          "hovermode": "closest",
          "mapbox": {
           "style": "light"
          },
          "paper_bgcolor": "white",
          "plot_bgcolor": "#E5ECF6",
          "polar": {
           "angularaxis": {
            "gridcolor": "white",
            "linecolor": "white",
            "ticks": ""
           },
           "bgcolor": "#E5ECF6",
           "radialaxis": {
            "gridcolor": "white",
            "linecolor": "white",
            "ticks": ""
           }
          },
          "scene": {
           "xaxis": {
            "backgroundcolor": "#E5ECF6",
            "gridcolor": "white",
            "gridwidth": 2,
            "linecolor": "white",
            "showbackground": true,
            "ticks": "",
            "zerolinecolor": "white"
           },
           "yaxis": {
            "backgroundcolor": "#E5ECF6",
            "gridcolor": "white",
            "gridwidth": 2,
            "linecolor": "white",
            "showbackground": true,
            "ticks": "",
            "zerolinecolor": "white"
           },
           "zaxis": {
            "backgroundcolor": "#E5ECF6",
            "gridcolor": "white",
            "gridwidth": 2,
            "linecolor": "white",
            "showbackground": true,
            "ticks": "",
            "zerolinecolor": "white"
           }
          },
          "shapedefaults": {
           "line": {
            "color": "#2a3f5f"
           }
          },
          "ternary": {
           "aaxis": {
            "gridcolor": "white",
            "linecolor": "white",
            "ticks": ""
           },
           "baxis": {
            "gridcolor": "white",
            "linecolor": "white",
            "ticks": ""
           },
           "bgcolor": "#E5ECF6",
           "caxis": {
            "gridcolor": "white",
            "linecolor": "white",
            "ticks": ""
           }
          },
          "title": {
           "x": 0.05
          },
          "xaxis": {
           "automargin": true,
           "gridcolor": "white",
           "linecolor": "white",
           "ticks": "",
           "title": {
            "standoff": 15
           },
           "zerolinecolor": "white",
           "zerolinewidth": 2
          },
          "yaxis": {
           "automargin": true,
           "gridcolor": "white",
           "linecolor": "white",
           "ticks": "",
           "title": {
            "standoff": 15
           },
           "zerolinecolor": "white",
           "zerolinewidth": 2
          }
         }
        },
        "title": {
         "text": "Cause sub category"
        },
        "width": 800
       }
      },
      "text/html": [
       "<div>                            <div id=\"222d5868-0f9c-4c94-b571-a443a5d8aea1\" class=\"plotly-graph-div\" style=\"height:525px; width:800px;\"></div>            <script type=\"text/javascript\">                require([\"plotly\"], function(Plotly) {                    window.PLOTLYENV=window.PLOTLYENV || {};                                    if (document.getElementById(\"222d5868-0f9c-4c94-b571-a443a5d8aea1\")) {                    Plotly.newPlot(                        \"222d5868-0f9c-4c94-b571-a443a5d8aea1\",                        [{\"marker\": {\"color\": [362, 296, 286, 230, 204, 171, 151, 112, 86, 84, 76, 71, 70, 69, 67, 62, 57, 57, 41, 37, 28, 25, 21, 20, 19, 16, 15, 12, 11, 10, 8, 8, 4, 3, 1, 1, 1, 1], \"colorscale\": [[0.0, \"#440154\"], [0.1111111111111111, \"#482878\"], [0.2222222222222222, \"#3e4989\"], [0.3333333333333333, \"#31688e\"], [0.4444444444444444, \"#26828e\"], [0.5555555555555556, \"#1f9e89\"], [0.6666666666666666, \"#35b779\"], [0.7777777777777778, \"#6ece58\"], [0.8888888888888888, \"#b5de2b\"], [1.0, \"#fde725\"]], \"reversescale\": true}, \"name\": \"Causes Subcategory Count\", \"type\": \"bar\", \"x\": [\"INTERNAL\", \"PUMP OR PUMP-RELATED EQUIPMENT\", \"NON-THREADED CONNECTION FAILURE\", \"EXTERNAL\", \"OTHER EQUIPMENT FAILURE\", \"MALFUNCTION OF CONTROL/RELIEF EQUIPMENT\", \"THREADED CONNECTION/COUPLING FAILURE\", \"CONSTRUCTION, INSTALLATION OR FABRICATION-RELATED\", \"OTHER INCORRECT OPERATION\", \"INCORRECT VALVE POSITION\", \"MISCELLANEOUS\", \"INCORRECT INSTALLATION\", \"MANUFACTURING-RELATED\", \"OVERFILL/OVERFLOW OF TANK/VESSEL/SUMP\", \"FAILURE OF EQUIPMENT BODY\", \"DEFECTIVE OR LOOSE TUBING/FITTING\", \"TEMPERATURE\", \"THIRD PARTY EXCAVATION DAMAGE\", \"UNKNOWN\", \"PIPELINE/EQUIPMENT OVERPRESSURED\", \"OPERATOR/CONTRACTOR EXCAVATION DAMAGE\", \"HEAVY RAINS/FLOODS\", \"VEHICLE NOT ENGAGED IN EXCAVATION\", \"DAMAGE BY OPERATOR OR OPERATOR'S CONTRACTOR\", \"LIGHTNING\", \"ENVIRONMENTAL CRACKING-RELATED\", \"OTHER OUTSIDE FORCE DAMAGE\", \"PREVIOUS DAMAGE DUE TO EXCAVATION\", \"ELECTRICAL ARCING FROM OTHER EQUIPMENT/FACILITY\", \"INCORRECT EQUIPMENT\", \"EARTH MOVEMENT\", \"OTHER NATURAL FORCE DAMAGE\", \"FIRE/EXPLOSION AS PRIMARY CAUSE\", \"INTENTIONAL DAMAGE\", \"HIGH WINDS\", \"MARITIME EQUIPMENT OR VESSEL ADRIFT\", \"PREVIOUS MECHANICAL DAMAGE\", \"FISHING OR MARITIME ACTIVITY\"], \"y\": [362, 296, 286, 230, 204, 171, 151, 112, 86, 84, 76, 71, 70, 69, 67, 62, 57, 57, 41, 37, 28, 25, 21, 20, 19, 16, 15, 12, 11, 10, 8, 8, 4, 3, 1, 1, 1, 1]}],                        {\"margin\": {\"b\": 140, \"r\": 150}, \"template\": {\"data\": {\"bar\": [{\"error_x\": {\"color\": \"#2a3f5f\"}, \"error_y\": {\"color\": \"#2a3f5f\"}, \"marker\": {\"line\": {\"color\": \"#E5ECF6\", \"width\": 0.5}}, \"type\": \"bar\"}], \"barpolar\": [{\"marker\": {\"line\": {\"color\": \"#E5ECF6\", \"width\": 0.5}}, \"type\": \"barpolar\"}], \"carpet\": [{\"aaxis\": {\"endlinecolor\": \"#2a3f5f\", \"gridcolor\": \"white\", \"linecolor\": \"white\", \"minorgridcolor\": \"white\", \"startlinecolor\": \"#2a3f5f\"}, \"baxis\": {\"endlinecolor\": \"#2a3f5f\", \"gridcolor\": \"white\", \"linecolor\": \"white\", \"minorgridcolor\": \"white\", \"startlinecolor\": \"#2a3f5f\"}, \"type\": \"carpet\"}], \"choropleth\": [{\"colorbar\": {\"outlinewidth\": 0, \"ticks\": \"\"}, \"type\": \"choropleth\"}], \"contour\": [{\"colorbar\": {\"outlinewidth\": 0, \"ticks\": \"\"}, \"colorscale\": [[0.0, \"#0d0887\"], [0.1111111111111111, \"#46039f\"], [0.2222222222222222, \"#7201a8\"], [0.3333333333333333, \"#9c179e\"], [0.4444444444444444, \"#bd3786\"], [0.5555555555555556, \"#d8576b\"], [0.6666666666666666, \"#ed7953\"], [0.7777777777777778, \"#fb9f3a\"], [0.8888888888888888, \"#fdca26\"], [1.0, \"#f0f921\"]], \"type\": \"contour\"}], \"contourcarpet\": [{\"colorbar\": {\"outlinewidth\": 0, \"ticks\": \"\"}, \"type\": \"contourcarpet\"}], \"heatmap\": [{\"colorbar\": {\"outlinewidth\": 0, \"ticks\": \"\"}, \"colorscale\": [[0.0, \"#0d0887\"], [0.1111111111111111, \"#46039f\"], [0.2222222222222222, \"#7201a8\"], [0.3333333333333333, \"#9c179e\"], [0.4444444444444444, \"#bd3786\"], [0.5555555555555556, \"#d8576b\"], [0.6666666666666666, \"#ed7953\"], [0.7777777777777778, \"#fb9f3a\"], [0.8888888888888888, \"#fdca26\"], [1.0, \"#f0f921\"]], \"type\": \"heatmap\"}], \"heatmapgl\": [{\"colorbar\": {\"outlinewidth\": 0, \"ticks\": \"\"}, \"colorscale\": [[0.0, \"#0d0887\"], [0.1111111111111111, \"#46039f\"], [0.2222222222222222, \"#7201a8\"], [0.3333333333333333, \"#9c179e\"], [0.4444444444444444, \"#bd3786\"], [0.5555555555555556, \"#d8576b\"], [0.6666666666666666, \"#ed7953\"], [0.7777777777777778, \"#fb9f3a\"], [0.8888888888888888, \"#fdca26\"], [1.0, \"#f0f921\"]], \"type\": \"heatmapgl\"}], \"histogram\": [{\"marker\": {\"colorbar\": {\"outlinewidth\": 0, \"ticks\": \"\"}}, \"type\": \"histogram\"}], \"histogram2d\": [{\"colorbar\": {\"outlinewidth\": 0, \"ticks\": \"\"}, \"colorscale\": [[0.0, \"#0d0887\"], [0.1111111111111111, \"#46039f\"], [0.2222222222222222, \"#7201a8\"], [0.3333333333333333, \"#9c179e\"], [0.4444444444444444, \"#bd3786\"], [0.5555555555555556, \"#d8576b\"], [0.6666666666666666, \"#ed7953\"], [0.7777777777777778, \"#fb9f3a\"], [0.8888888888888888, \"#fdca26\"], [1.0, \"#f0f921\"]], \"type\": \"histogram2d\"}], \"histogram2dcontour\": [{\"colorbar\": {\"outlinewidth\": 0, \"ticks\": \"\"}, \"colorscale\": [[0.0, \"#0d0887\"], [0.1111111111111111, \"#46039f\"], [0.2222222222222222, \"#7201a8\"], [0.3333333333333333, \"#9c179e\"], [0.4444444444444444, \"#bd3786\"], [0.5555555555555556, \"#d8576b\"], [0.6666666666666666, \"#ed7953\"], [0.7777777777777778, \"#fb9f3a\"], [0.8888888888888888, \"#fdca26\"], [1.0, \"#f0f921\"]], \"type\": \"histogram2dcontour\"}], \"mesh3d\": [{\"colorbar\": {\"outlinewidth\": 0, \"ticks\": \"\"}, \"type\": \"mesh3d\"}], \"parcoords\": [{\"line\": {\"colorbar\": {\"outlinewidth\": 0, \"ticks\": \"\"}}, \"type\": \"parcoords\"}], \"pie\": [{\"automargin\": true, \"type\": \"pie\"}], \"scatter\": [{\"marker\": {\"colorbar\": {\"outlinewidth\": 0, \"ticks\": \"\"}}, \"type\": \"scatter\"}], \"scatter3d\": [{\"line\": {\"colorbar\": {\"outlinewidth\": 0, \"ticks\": \"\"}}, \"marker\": {\"colorbar\": {\"outlinewidth\": 0, \"ticks\": \"\"}}, \"type\": \"scatter3d\"}], \"scattercarpet\": [{\"marker\": {\"colorbar\": {\"outlinewidth\": 0, \"ticks\": \"\"}}, \"type\": \"scattercarpet\"}], \"scattergeo\": [{\"marker\": {\"colorbar\": {\"outlinewidth\": 0, \"ticks\": \"\"}}, \"type\": \"scattergeo\"}], \"scattergl\": [{\"marker\": {\"colorbar\": {\"outlinewidth\": 0, \"ticks\": \"\"}}, \"type\": \"scattergl\"}], \"scattermapbox\": [{\"marker\": {\"colorbar\": {\"outlinewidth\": 0, \"ticks\": \"\"}}, \"type\": \"scattermapbox\"}], \"scatterpolar\": [{\"marker\": {\"colorbar\": {\"outlinewidth\": 0, \"ticks\": \"\"}}, \"type\": \"scatterpolar\"}], \"scatterpolargl\": [{\"marker\": {\"colorbar\": {\"outlinewidth\": 0, \"ticks\": \"\"}}, \"type\": \"scatterpolargl\"}], \"scatterternary\": [{\"marker\": {\"colorbar\": {\"outlinewidth\": 0, \"ticks\": \"\"}}, \"type\": \"scatterternary\"}], \"surface\": [{\"colorbar\": {\"outlinewidth\": 0, \"ticks\": \"\"}, \"colorscale\": [[0.0, \"#0d0887\"], [0.1111111111111111, \"#46039f\"], [0.2222222222222222, \"#7201a8\"], [0.3333333333333333, \"#9c179e\"], [0.4444444444444444, \"#bd3786\"], [0.5555555555555556, \"#d8576b\"], [0.6666666666666666, \"#ed7953\"], [0.7777777777777778, \"#fb9f3a\"], [0.8888888888888888, \"#fdca26\"], [1.0, \"#f0f921\"]], \"type\": \"surface\"}], \"table\": [{\"cells\": {\"fill\": {\"color\": \"#EBF0F8\"}, \"line\": {\"color\": \"white\"}}, \"header\": {\"fill\": {\"color\": \"#C8D4E3\"}, \"line\": {\"color\": \"white\"}}, \"type\": \"table\"}]}, \"layout\": {\"annotationdefaults\": {\"arrowcolor\": \"#2a3f5f\", \"arrowhead\": 0, \"arrowwidth\": 1}, \"autotypenumbers\": \"strict\", \"coloraxis\": {\"colorbar\": {\"outlinewidth\": 0, \"ticks\": \"\"}}, \"colorscale\": {\"diverging\": [[0, \"#8e0152\"], [0.1, \"#c51b7d\"], [0.2, \"#de77ae\"], [0.3, \"#f1b6da\"], [0.4, \"#fde0ef\"], [0.5, \"#f7f7f7\"], [0.6, \"#e6f5d0\"], [0.7, \"#b8e186\"], [0.8, \"#7fbc41\"], [0.9, \"#4d9221\"], [1, \"#276419\"]], \"sequential\": [[0.0, \"#0d0887\"], [0.1111111111111111, \"#46039f\"], [0.2222222222222222, \"#7201a8\"], [0.3333333333333333, \"#9c179e\"], [0.4444444444444444, \"#bd3786\"], [0.5555555555555556, \"#d8576b\"], [0.6666666666666666, \"#ed7953\"], [0.7777777777777778, \"#fb9f3a\"], [0.8888888888888888, \"#fdca26\"], [1.0, \"#f0f921\"]], \"sequentialminus\": [[0.0, \"#0d0887\"], [0.1111111111111111, \"#46039f\"], [0.2222222222222222, \"#7201a8\"], [0.3333333333333333, \"#9c179e\"], [0.4444444444444444, \"#bd3786\"], [0.5555555555555556, \"#d8576b\"], [0.6666666666666666, \"#ed7953\"], [0.7777777777777778, \"#fb9f3a\"], [0.8888888888888888, \"#fdca26\"], [1.0, \"#f0f921\"]]}, \"colorway\": [\"#636efa\", \"#EF553B\", \"#00cc96\", \"#ab63fa\", \"#FFA15A\", \"#19d3f3\", \"#FF6692\", \"#B6E880\", \"#FF97FF\", \"#FECB52\"], \"font\": {\"color\": \"#2a3f5f\"}, \"geo\": {\"bgcolor\": \"white\", \"lakecolor\": \"white\", \"landcolor\": \"#E5ECF6\", \"showlakes\": true, \"showland\": true, \"subunitcolor\": \"white\"}, \"hoverlabel\": {\"align\": \"left\"}, \"hovermode\": \"closest\", \"mapbox\": {\"style\": \"light\"}, \"paper_bgcolor\": \"white\", \"plot_bgcolor\": \"#E5ECF6\", \"polar\": {\"angularaxis\": {\"gridcolor\": \"white\", \"linecolor\": \"white\", \"ticks\": \"\"}, \"bgcolor\": \"#E5ECF6\", \"radialaxis\": {\"gridcolor\": \"white\", \"linecolor\": \"white\", \"ticks\": \"\"}}, \"scene\": {\"xaxis\": {\"backgroundcolor\": \"#E5ECF6\", \"gridcolor\": \"white\", \"gridwidth\": 2, \"linecolor\": \"white\", \"showbackground\": true, \"ticks\": \"\", \"zerolinecolor\": \"white\"}, \"yaxis\": {\"backgroundcolor\": \"#E5ECF6\", \"gridcolor\": \"white\", \"gridwidth\": 2, \"linecolor\": \"white\", \"showbackground\": true, \"ticks\": \"\", \"zerolinecolor\": \"white\"}, \"zaxis\": {\"backgroundcolor\": \"#E5ECF6\", \"gridcolor\": \"white\", \"gridwidth\": 2, \"linecolor\": \"white\", \"showbackground\": true, \"ticks\": \"\", \"zerolinecolor\": \"white\"}}, \"shapedefaults\": {\"line\": {\"color\": \"#2a3f5f\"}}, \"ternary\": {\"aaxis\": {\"gridcolor\": \"white\", \"linecolor\": \"white\", \"ticks\": \"\"}, \"baxis\": {\"gridcolor\": \"white\", \"linecolor\": \"white\", \"ticks\": \"\"}, \"bgcolor\": \"#E5ECF6\", \"caxis\": {\"gridcolor\": \"white\", \"linecolor\": \"white\", \"ticks\": \"\"}}, \"title\": {\"x\": 0.05}, \"xaxis\": {\"automargin\": true, \"gridcolor\": \"white\", \"linecolor\": \"white\", \"ticks\": \"\", \"title\": {\"standoff\": 15}, \"zerolinecolor\": \"white\", \"zerolinewidth\": 2}, \"yaxis\": {\"automargin\": true, \"gridcolor\": \"white\", \"linecolor\": \"white\", \"ticks\": \"\", \"title\": {\"standoff\": 15}, \"zerolinecolor\": \"white\", \"zerolinewidth\": 2}}}, \"title\": {\"text\": \"Cause sub category\"}, \"width\": 800},                        {\"responsive\": true}                    ).then(function(){\n",
       "                            \n",
       "var gd = document.getElementById('222d5868-0f9c-4c94-b571-a443a5d8aea1');\n",
       "var x = new MutationObserver(function (mutations, observer) {{\n",
       "        var display = window.getComputedStyle(gd).display;\n",
       "        if (!display || display === 'none') {{\n",
       "            console.log([gd, 'removed!']);\n",
       "            Plotly.purge(gd);\n",
       "            observer.disconnect();\n",
       "        }}\n",
       "}});\n",
       "\n",
       "// Listen for the removal of the full notebook cells\n",
       "var notebookContainer = gd.closest('#notebook-container');\n",
       "if (notebookContainer) {{\n",
       "    x.observe(notebookContainer, {childList: true});\n",
       "}}\n",
       "\n",
       "// Listen for the clearing of the current output cell\n",
       "var outputEl = gd.closest('.output');\n",
       "if (outputEl) {{\n",
       "    x.observe(outputEl, {childList: true});\n",
       "}}\n",
       "\n",
       "                        })                };                });            </script>        </div>"
      ]
     },
     "metadata": {},
     "output_type": "display_data"
    }
   ],
   "source": [
    "main_causes_sub = oil['Cause Subcategory'].value_counts()\n",
    "main_causes_sub = go.Bar(\n",
    "   y = main_causes_sub.values, \n",
    "   x = main_causes_sub.index.values, \n",
    "   name = 'Causes Subcategory Count', \n",
    "     marker=dict(\n",
    "        color=main_causes_sub.values,\n",
    "        colorscale = 'Viridis',\n",
    "        reversescale = True\n",
    "        )\n",
    "    \n",
    ")\n",
    "\n",
    "data = [main_causes_sub]\n",
    "\n",
    "\n",
    "layout = go.Layout (\n",
    "title = 'Cause sub category', \n",
    "width = 800, \n",
    "margin=go.Margin(b=140, r=150)\n",
    ")\n",
    "fig = go.Figure(data=data, layout=layout)\n",
    "py.iplot(fig, filename='basic-bar')"
   ]
  },
  {
   "cell_type": "code",
   "execution_count": 15,
   "metadata": {
    "_kg_hide-input": true,
    "_uuid": "9f54768e4b86b1e0a8de865943aa580cd12d7572"
   },
   "outputs": [
    {
     "data": {
      "text/html": [
       "<style  type=\"text/css\" >\n",
       "    #T_66d906a0_ce17_11eb_a81a_38c98602b198row0_col0 {\n",
       "            background-color:  #e5ffe5;\n",
       "            color:  #000000;\n",
       "        }    #T_66d906a0_ce17_11eb_a81a_38c98602b198row0_col1 {\n",
       "            background-color:  #e5ffe5;\n",
       "            color:  #000000;\n",
       "        }    #T_66d906a0_ce17_11eb_a81a_38c98602b198row0_col2 {\n",
       "            background-color:  #e5ffe5;\n",
       "            color:  #000000;\n",
       "        }    #T_66d906a0_ce17_11eb_a81a_38c98602b198row0_col3 {\n",
       "            background-color:  #e5ffe5;\n",
       "            color:  #000000;\n",
       "        }    #T_66d906a0_ce17_11eb_a81a_38c98602b198row0_col4 {\n",
       "            background-color:  #e5ffe5;\n",
       "            color:  #000000;\n",
       "        }    #T_66d906a0_ce17_11eb_a81a_38c98602b198row0_col5 {\n",
       "            background-color:  #e5ffe5;\n",
       "            color:  #000000;\n",
       "        }    #T_66d906a0_ce17_11eb_a81a_38c98602b198row0_col6 {\n",
       "            background-color:  #e5ffe5;\n",
       "            color:  #000000;\n",
       "        }    #T_66d906a0_ce17_11eb_a81a_38c98602b198row0_col7 {\n",
       "            background-color:  #e5ffe5;\n",
       "            color:  #000000;\n",
       "        }    #T_66d906a0_ce17_11eb_a81a_38c98602b198row0_col8 {\n",
       "            background-color:  #e5ffe5;\n",
       "            color:  #000000;\n",
       "        }    #T_66d906a0_ce17_11eb_a81a_38c98602b198row0_col9 {\n",
       "            background-color:  #e5ffe5;\n",
       "            color:  #000000;\n",
       "        }    #T_66d906a0_ce17_11eb_a81a_38c98602b198row0_col10 {\n",
       "            background-color:  #e5ffe5;\n",
       "            color:  #000000;\n",
       "        }    #T_66d906a0_ce17_11eb_a81a_38c98602b198row0_col11 {\n",
       "            background-color:  #e5ffe5;\n",
       "            color:  #000000;\n",
       "        }    #T_66d906a0_ce17_11eb_a81a_38c98602b198row0_col12 {\n",
       "            background-color:  #e5ffe5;\n",
       "            color:  #000000;\n",
       "        }    #T_66d906a0_ce17_11eb_a81a_38c98602b198row0_col13 {\n",
       "            background-color:  #e5ffe5;\n",
       "            color:  #000000;\n",
       "        }    #T_66d906a0_ce17_11eb_a81a_38c98602b198row0_col14 {\n",
       "            background-color:  #e5ffe5;\n",
       "            color:  #000000;\n",
       "        }    #T_66d906a0_ce17_11eb_a81a_38c98602b198row0_col15 {\n",
       "            background-color:  #e5ffe5;\n",
       "            color:  #000000;\n",
       "        }    #T_66d906a0_ce17_11eb_a81a_38c98602b198row0_col16 {\n",
       "            background-color:  #e5ffe5;\n",
       "            color:  #000000;\n",
       "        }    #T_66d906a0_ce17_11eb_a81a_38c98602b198row0_col17 {\n",
       "            background-color:  #e5ffe5;\n",
       "            color:  #000000;\n",
       "        }    #T_66d906a0_ce17_11eb_a81a_38c98602b198row0_col18 {\n",
       "            background-color:  #e5ffe5;\n",
       "            color:  #000000;\n",
       "        }    #T_66d906a0_ce17_11eb_a81a_38c98602b198row0_col19 {\n",
       "            background-color:  #e5ffe5;\n",
       "            color:  #000000;\n",
       "        }    #T_66d906a0_ce17_11eb_a81a_38c98602b198row0_col20 {\n",
       "            background-color:  #e5ffe5;\n",
       "            color:  #000000;\n",
       "        }    #T_66d906a0_ce17_11eb_a81a_38c98602b198row0_col21 {\n",
       "            background-color:  #008000;\n",
       "            color:  #f1f1f1;\n",
       "        }    #T_66d906a0_ce17_11eb_a81a_38c98602b198row0_col22 {\n",
       "            background-color:  #e5ffe5;\n",
       "            color:  #000000;\n",
       "        }    #T_66d906a0_ce17_11eb_a81a_38c98602b198row0_col23 {\n",
       "            background-color:  #e5ffe5;\n",
       "            color:  #000000;\n",
       "        }    #T_66d906a0_ce17_11eb_a81a_38c98602b198row0_col24 {\n",
       "            background-color:  #e5ffe5;\n",
       "            color:  #000000;\n",
       "        }    #T_66d906a0_ce17_11eb_a81a_38c98602b198row0_col25 {\n",
       "            background-color:  #e5ffe5;\n",
       "            color:  #000000;\n",
       "        }    #T_66d906a0_ce17_11eb_a81a_38c98602b198row0_col26 {\n",
       "            background-color:  #e5ffe5;\n",
       "            color:  #000000;\n",
       "        }    #T_66d906a0_ce17_11eb_a81a_38c98602b198row0_col27 {\n",
       "            background-color:  #e5ffe5;\n",
       "            color:  #000000;\n",
       "        }    #T_66d906a0_ce17_11eb_a81a_38c98602b198row0_col28 {\n",
       "            background-color:  #e5ffe5;\n",
       "            color:  #000000;\n",
       "        }    #T_66d906a0_ce17_11eb_a81a_38c98602b198row0_col29 {\n",
       "            background-color:  #e5ffe5;\n",
       "            color:  #000000;\n",
       "        }    #T_66d906a0_ce17_11eb_a81a_38c98602b198row0_col30 {\n",
       "            background-color:  #e5ffe5;\n",
       "            color:  #000000;\n",
       "        }    #T_66d906a0_ce17_11eb_a81a_38c98602b198row0_col31 {\n",
       "            background-color:  #e5ffe5;\n",
       "            color:  #000000;\n",
       "        }    #T_66d906a0_ce17_11eb_a81a_38c98602b198row0_col32 {\n",
       "            background-color:  #e5ffe5;\n",
       "            color:  #000000;\n",
       "        }    #T_66d906a0_ce17_11eb_a81a_38c98602b198row0_col33 {\n",
       "            background-color:  #e5ffe5;\n",
       "            color:  #000000;\n",
       "        }    #T_66d906a0_ce17_11eb_a81a_38c98602b198row0_col34 {\n",
       "            background-color:  #e5ffe5;\n",
       "            color:  #000000;\n",
       "        }    #T_66d906a0_ce17_11eb_a81a_38c98602b198row0_col35 {\n",
       "            background-color:  #e5ffe5;\n",
       "            color:  #000000;\n",
       "        }    #T_66d906a0_ce17_11eb_a81a_38c98602b198row0_col36 {\n",
       "            background-color:  #008000;\n",
       "            color:  #f1f1f1;\n",
       "        }    #T_66d906a0_ce17_11eb_a81a_38c98602b198row0_col37 {\n",
       "            background-color:  #e5ffe5;\n",
       "            color:  #000000;\n",
       "        }    #T_66d906a0_ce17_11eb_a81a_38c98602b198row0_col38 {\n",
       "            background-color:  #e1fde1;\n",
       "            color:  #000000;\n",
       "        }    #T_66d906a0_ce17_11eb_a81a_38c98602b198row1_col0 {\n",
       "            background-color:  #e5ffe5;\n",
       "            color:  #000000;\n",
       "        }    #T_66d906a0_ce17_11eb_a81a_38c98602b198row1_col1 {\n",
       "            background-color:  #e5ffe5;\n",
       "            color:  #000000;\n",
       "        }    #T_66d906a0_ce17_11eb_a81a_38c98602b198row1_col2 {\n",
       "            background-color:  #e5ffe5;\n",
       "            color:  #000000;\n",
       "        }    #T_66d906a0_ce17_11eb_a81a_38c98602b198row1_col3 {\n",
       "            background-color:  #e5ffe5;\n",
       "            color:  #000000;\n",
       "        }    #T_66d906a0_ce17_11eb_a81a_38c98602b198row1_col4 {\n",
       "            background-color:  #e5ffe5;\n",
       "            color:  #000000;\n",
       "        }    #T_66d906a0_ce17_11eb_a81a_38c98602b198row1_col5 {\n",
       "            background-color:  #e5ffe5;\n",
       "            color:  #000000;\n",
       "        }    #T_66d906a0_ce17_11eb_a81a_38c98602b198row1_col6 {\n",
       "            background-color:  #008000;\n",
       "            color:  #f1f1f1;\n",
       "        }    #T_66d906a0_ce17_11eb_a81a_38c98602b198row1_col7 {\n",
       "            background-color:  #e5ffe5;\n",
       "            color:  #000000;\n",
       "        }    #T_66d906a0_ce17_11eb_a81a_38c98602b198row1_col8 {\n",
       "            background-color:  #e5ffe5;\n",
       "            color:  #000000;\n",
       "        }    #T_66d906a0_ce17_11eb_a81a_38c98602b198row1_col9 {\n",
       "            background-color:  #e5ffe5;\n",
       "            color:  #000000;\n",
       "        }    #T_66d906a0_ce17_11eb_a81a_38c98602b198row1_col10 {\n",
       "            background-color:  #e5ffe5;\n",
       "            color:  #000000;\n",
       "        }    #T_66d906a0_ce17_11eb_a81a_38c98602b198row1_col11 {\n",
       "            background-color:  #e5ffe5;\n",
       "            color:  #000000;\n",
       "        }    #T_66d906a0_ce17_11eb_a81a_38c98602b198row1_col12 {\n",
       "            background-color:  #e5ffe5;\n",
       "            color:  #000000;\n",
       "        }    #T_66d906a0_ce17_11eb_a81a_38c98602b198row1_col13 {\n",
       "            background-color:  #e5ffe5;\n",
       "            color:  #000000;\n",
       "        }    #T_66d906a0_ce17_11eb_a81a_38c98602b198row1_col14 {\n",
       "            background-color:  #e5ffe5;\n",
       "            color:  #000000;\n",
       "        }    #T_66d906a0_ce17_11eb_a81a_38c98602b198row1_col15 {\n",
       "            background-color:  #e5ffe5;\n",
       "            color:  #000000;\n",
       "        }    #T_66d906a0_ce17_11eb_a81a_38c98602b198row1_col16 {\n",
       "            background-color:  #008000;\n",
       "            color:  #f1f1f1;\n",
       "        }    #T_66d906a0_ce17_11eb_a81a_38c98602b198row1_col17 {\n",
       "            background-color:  #e5ffe5;\n",
       "            color:  #000000;\n",
       "        }    #T_66d906a0_ce17_11eb_a81a_38c98602b198row1_col18 {\n",
       "            background-color:  #e5ffe5;\n",
       "            color:  #000000;\n",
       "        }    #T_66d906a0_ce17_11eb_a81a_38c98602b198row1_col19 {\n",
       "            background-color:  #e5ffe5;\n",
       "            color:  #000000;\n",
       "        }    #T_66d906a0_ce17_11eb_a81a_38c98602b198row1_col20 {\n",
       "            background-color:  #e5ffe5;\n",
       "            color:  #000000;\n",
       "        }    #T_66d906a0_ce17_11eb_a81a_38c98602b198row1_col21 {\n",
       "            background-color:  #e5ffe5;\n",
       "            color:  #000000;\n",
       "        }    #T_66d906a0_ce17_11eb_a81a_38c98602b198row1_col22 {\n",
       "            background-color:  #e5ffe5;\n",
       "            color:  #000000;\n",
       "        }    #T_66d906a0_ce17_11eb_a81a_38c98602b198row1_col23 {\n",
       "            background-color:  #e5ffe5;\n",
       "            color:  #000000;\n",
       "        }    #T_66d906a0_ce17_11eb_a81a_38c98602b198row1_col24 {\n",
       "            background-color:  #e5ffe5;\n",
       "            color:  #000000;\n",
       "        }    #T_66d906a0_ce17_11eb_a81a_38c98602b198row1_col25 {\n",
       "            background-color:  #e5ffe5;\n",
       "            color:  #000000;\n",
       "        }    #T_66d906a0_ce17_11eb_a81a_38c98602b198row1_col26 {\n",
       "            background-color:  #e5ffe5;\n",
       "            color:  #000000;\n",
       "        }    #T_66d906a0_ce17_11eb_a81a_38c98602b198row1_col27 {\n",
       "            background-color:  #e5ffe5;\n",
       "            color:  #000000;\n",
       "        }    #T_66d906a0_ce17_11eb_a81a_38c98602b198row1_col28 {\n",
       "            background-color:  #e5ffe5;\n",
       "            color:  #000000;\n",
       "        }    #T_66d906a0_ce17_11eb_a81a_38c98602b198row1_col29 {\n",
       "            background-color:  #e5ffe5;\n",
       "            color:  #000000;\n",
       "        }    #T_66d906a0_ce17_11eb_a81a_38c98602b198row1_col30 {\n",
       "            background-color:  #e5ffe5;\n",
       "            color:  #000000;\n",
       "        }    #T_66d906a0_ce17_11eb_a81a_38c98602b198row1_col31 {\n",
       "            background-color:  #e5ffe5;\n",
       "            color:  #000000;\n",
       "        }    #T_66d906a0_ce17_11eb_a81a_38c98602b198row1_col32 {\n",
       "            background-color:  #e5ffe5;\n",
       "            color:  #000000;\n",
       "        }    #T_66d906a0_ce17_11eb_a81a_38c98602b198row1_col33 {\n",
       "            background-color:  #e5ffe5;\n",
       "            color:  #000000;\n",
       "        }    #T_66d906a0_ce17_11eb_a81a_38c98602b198row1_col34 {\n",
       "            background-color:  #e5ffe5;\n",
       "            color:  #000000;\n",
       "        }    #T_66d906a0_ce17_11eb_a81a_38c98602b198row1_col35 {\n",
       "            background-color:  #e5ffe5;\n",
       "            color:  #000000;\n",
       "        }    #T_66d906a0_ce17_11eb_a81a_38c98602b198row1_col36 {\n",
       "            background-color:  #e5ffe5;\n",
       "            color:  #000000;\n",
       "        }    #T_66d906a0_ce17_11eb_a81a_38c98602b198row1_col37 {\n",
       "            background-color:  #e5ffe5;\n",
       "            color:  #000000;\n",
       "        }    #T_66d906a0_ce17_11eb_a81a_38c98602b198row1_col38 {\n",
       "            background-color:  #b8e6b8;\n",
       "            color:  #000000;\n",
       "        }    #T_66d906a0_ce17_11eb_a81a_38c98602b198row2_col0 {\n",
       "            background-color:  #e5ffe5;\n",
       "            color:  #000000;\n",
       "        }    #T_66d906a0_ce17_11eb_a81a_38c98602b198row2_col1 {\n",
       "            background-color:  #e5ffe5;\n",
       "            color:  #000000;\n",
       "        }    #T_66d906a0_ce17_11eb_a81a_38c98602b198row2_col2 {\n",
       "            background-color:  #e5ffe5;\n",
       "            color:  #000000;\n",
       "        }    #T_66d906a0_ce17_11eb_a81a_38c98602b198row2_col3 {\n",
       "            background-color:  #e5ffe5;\n",
       "            color:  #000000;\n",
       "        }    #T_66d906a0_ce17_11eb_a81a_38c98602b198row2_col4 {\n",
       "            background-color:  #e5ffe5;\n",
       "            color:  #000000;\n",
       "        }    #T_66d906a0_ce17_11eb_a81a_38c98602b198row2_col5 {\n",
       "            background-color:  #e5ffe5;\n",
       "            color:  #000000;\n",
       "        }    #T_66d906a0_ce17_11eb_a81a_38c98602b198row2_col6 {\n",
       "            background-color:  #e5ffe5;\n",
       "            color:  #000000;\n",
       "        }    #T_66d906a0_ce17_11eb_a81a_38c98602b198row2_col7 {\n",
       "            background-color:  #e5ffe5;\n",
       "            color:  #000000;\n",
       "        }    #T_66d906a0_ce17_11eb_a81a_38c98602b198row2_col8 {\n",
       "            background-color:  #e5ffe5;\n",
       "            color:  #000000;\n",
       "        }    #T_66d906a0_ce17_11eb_a81a_38c98602b198row2_col9 {\n",
       "            background-color:  #e5ffe5;\n",
       "            color:  #000000;\n",
       "        }    #T_66d906a0_ce17_11eb_a81a_38c98602b198row2_col10 {\n",
       "            background-color:  #e5ffe5;\n",
       "            color:  #000000;\n",
       "        }    #T_66d906a0_ce17_11eb_a81a_38c98602b198row2_col11 {\n",
       "            background-color:  #e5ffe5;\n",
       "            color:  #000000;\n",
       "        }    #T_66d906a0_ce17_11eb_a81a_38c98602b198row2_col12 {\n",
       "            background-color:  #e5ffe5;\n",
       "            color:  #000000;\n",
       "        }    #T_66d906a0_ce17_11eb_a81a_38c98602b198row2_col13 {\n",
       "            background-color:  #e5ffe5;\n",
       "            color:  #000000;\n",
       "        }    #T_66d906a0_ce17_11eb_a81a_38c98602b198row2_col14 {\n",
       "            background-color:  #e5ffe5;\n",
       "            color:  #000000;\n",
       "        }    #T_66d906a0_ce17_11eb_a81a_38c98602b198row2_col15 {\n",
       "            background-color:  #e5ffe5;\n",
       "            color:  #000000;\n",
       "        }    #T_66d906a0_ce17_11eb_a81a_38c98602b198row2_col16 {\n",
       "            background-color:  #e5ffe5;\n",
       "            color:  #000000;\n",
       "        }    #T_66d906a0_ce17_11eb_a81a_38c98602b198row2_col17 {\n",
       "            background-color:  #e5ffe5;\n",
       "            color:  #000000;\n",
       "        }    #T_66d906a0_ce17_11eb_a81a_38c98602b198row2_col18 {\n",
       "            background-color:  #e5ffe5;\n",
       "            color:  #000000;\n",
       "        }    #T_66d906a0_ce17_11eb_a81a_38c98602b198row2_col19 {\n",
       "            background-color:  #e5ffe5;\n",
       "            color:  #000000;\n",
       "        }    #T_66d906a0_ce17_11eb_a81a_38c98602b198row2_col20 {\n",
       "            background-color:  #e5ffe5;\n",
       "            color:  #000000;\n",
       "        }    #T_66d906a0_ce17_11eb_a81a_38c98602b198row2_col21 {\n",
       "            background-color:  #e5ffe5;\n",
       "            color:  #000000;\n",
       "        }    #T_66d906a0_ce17_11eb_a81a_38c98602b198row2_col22 {\n",
       "            background-color:  #e5ffe5;\n",
       "            color:  #000000;\n",
       "        }    #T_66d906a0_ce17_11eb_a81a_38c98602b198row2_col23 {\n",
       "            background-color:  #008000;\n",
       "            color:  #f1f1f1;\n",
       "        }    #T_66d906a0_ce17_11eb_a81a_38c98602b198row2_col24 {\n",
       "            background-color:  #e5ffe5;\n",
       "            color:  #000000;\n",
       "        }    #T_66d906a0_ce17_11eb_a81a_38c98602b198row2_col25 {\n",
       "            background-color:  #e5ffe5;\n",
       "            color:  #000000;\n",
       "        }    #T_66d906a0_ce17_11eb_a81a_38c98602b198row2_col26 {\n",
       "            background-color:  #e5ffe5;\n",
       "            color:  #000000;\n",
       "        }    #T_66d906a0_ce17_11eb_a81a_38c98602b198row2_col27 {\n",
       "            background-color:  #e5ffe5;\n",
       "            color:  #000000;\n",
       "        }    #T_66d906a0_ce17_11eb_a81a_38c98602b198row2_col28 {\n",
       "            background-color:  #e5ffe5;\n",
       "            color:  #000000;\n",
       "        }    #T_66d906a0_ce17_11eb_a81a_38c98602b198row2_col29 {\n",
       "            background-color:  #e5ffe5;\n",
       "            color:  #000000;\n",
       "        }    #T_66d906a0_ce17_11eb_a81a_38c98602b198row2_col30 {\n",
       "            background-color:  #008000;\n",
       "            color:  #f1f1f1;\n",
       "        }    #T_66d906a0_ce17_11eb_a81a_38c98602b198row2_col31 {\n",
       "            background-color:  #e5ffe5;\n",
       "            color:  #000000;\n",
       "        }    #T_66d906a0_ce17_11eb_a81a_38c98602b198row2_col32 {\n",
       "            background-color:  #e5ffe5;\n",
       "            color:  #000000;\n",
       "        }    #T_66d906a0_ce17_11eb_a81a_38c98602b198row2_col33 {\n",
       "            background-color:  #e5ffe5;\n",
       "            color:  #000000;\n",
       "        }    #T_66d906a0_ce17_11eb_a81a_38c98602b198row2_col34 {\n",
       "            background-color:  #008000;\n",
       "            color:  #f1f1f1;\n",
       "        }    #T_66d906a0_ce17_11eb_a81a_38c98602b198row2_col35 {\n",
       "            background-color:  #e5ffe5;\n",
       "            color:  #000000;\n",
       "        }    #T_66d906a0_ce17_11eb_a81a_38c98602b198row2_col36 {\n",
       "            background-color:  #e5ffe5;\n",
       "            color:  #000000;\n",
       "        }    #T_66d906a0_ce17_11eb_a81a_38c98602b198row2_col37 {\n",
       "            background-color:  #e5ffe5;\n",
       "            color:  #000000;\n",
       "        }    #T_66d906a0_ce17_11eb_a81a_38c98602b198row2_col38 {\n",
       "            background-color:  #e3fee3;\n",
       "            color:  #000000;\n",
       "        }    #T_66d906a0_ce17_11eb_a81a_38c98602b198row3_col0 {\n",
       "            background-color:  #e5ffe5;\n",
       "            color:  #000000;\n",
       "        }    #T_66d906a0_ce17_11eb_a81a_38c98602b198row3_col1 {\n",
       "            background-color:  #008000;\n",
       "            color:  #f1f1f1;\n",
       "        }    #T_66d906a0_ce17_11eb_a81a_38c98602b198row3_col2 {\n",
       "            background-color:  #e5ffe5;\n",
       "            color:  #000000;\n",
       "        }    #T_66d906a0_ce17_11eb_a81a_38c98602b198row3_col3 {\n",
       "            background-color:  #e5ffe5;\n",
       "            color:  #000000;\n",
       "        }    #T_66d906a0_ce17_11eb_a81a_38c98602b198row3_col4 {\n",
       "            background-color:  #e5ffe5;\n",
       "            color:  #000000;\n",
       "        }    #T_66d906a0_ce17_11eb_a81a_38c98602b198row3_col5 {\n",
       "            background-color:  #e5ffe5;\n",
       "            color:  #000000;\n",
       "        }    #T_66d906a0_ce17_11eb_a81a_38c98602b198row3_col6 {\n",
       "            background-color:  #e5ffe5;\n",
       "            color:  #000000;\n",
       "        }    #T_66d906a0_ce17_11eb_a81a_38c98602b198row3_col7 {\n",
       "            background-color:  #e5ffe5;\n",
       "            color:  #000000;\n",
       "        }    #T_66d906a0_ce17_11eb_a81a_38c98602b198row3_col8 {\n",
       "            background-color:  #e5ffe5;\n",
       "            color:  #000000;\n",
       "        }    #T_66d906a0_ce17_11eb_a81a_38c98602b198row3_col9 {\n",
       "            background-color:  #e5ffe5;\n",
       "            color:  #000000;\n",
       "        }    #T_66d906a0_ce17_11eb_a81a_38c98602b198row3_col10 {\n",
       "            background-color:  #e5ffe5;\n",
       "            color:  #000000;\n",
       "        }    #T_66d906a0_ce17_11eb_a81a_38c98602b198row3_col11 {\n",
       "            background-color:  #e5ffe5;\n",
       "            color:  #000000;\n",
       "        }    #T_66d906a0_ce17_11eb_a81a_38c98602b198row3_col12 {\n",
       "            background-color:  #008000;\n",
       "            color:  #f1f1f1;\n",
       "        }    #T_66d906a0_ce17_11eb_a81a_38c98602b198row3_col13 {\n",
       "            background-color:  #008000;\n",
       "            color:  #f1f1f1;\n",
       "        }    #T_66d906a0_ce17_11eb_a81a_38c98602b198row3_col14 {\n",
       "            background-color:  #008000;\n",
       "            color:  #f1f1f1;\n",
       "        }    #T_66d906a0_ce17_11eb_a81a_38c98602b198row3_col15 {\n",
       "            background-color:  #e5ffe5;\n",
       "            color:  #000000;\n",
       "        }    #T_66d906a0_ce17_11eb_a81a_38c98602b198row3_col16 {\n",
       "            background-color:  #e5ffe5;\n",
       "            color:  #000000;\n",
       "        }    #T_66d906a0_ce17_11eb_a81a_38c98602b198row3_col17 {\n",
       "            background-color:  #e5ffe5;\n",
       "            color:  #000000;\n",
       "        }    #T_66d906a0_ce17_11eb_a81a_38c98602b198row3_col18 {\n",
       "            background-color:  #e5ffe5;\n",
       "            color:  #000000;\n",
       "        }    #T_66d906a0_ce17_11eb_a81a_38c98602b198row3_col19 {\n",
       "            background-color:  #e5ffe5;\n",
       "            color:  #000000;\n",
       "        }    #T_66d906a0_ce17_11eb_a81a_38c98602b198row3_col20 {\n",
       "            background-color:  #e5ffe5;\n",
       "            color:  #000000;\n",
       "        }    #T_66d906a0_ce17_11eb_a81a_38c98602b198row3_col21 {\n",
       "            background-color:  #e5ffe5;\n",
       "            color:  #000000;\n",
       "        }    #T_66d906a0_ce17_11eb_a81a_38c98602b198row3_col22 {\n",
       "            background-color:  #e5ffe5;\n",
       "            color:  #000000;\n",
       "        }    #T_66d906a0_ce17_11eb_a81a_38c98602b198row3_col23 {\n",
       "            background-color:  #e5ffe5;\n",
       "            color:  #000000;\n",
       "        }    #T_66d906a0_ce17_11eb_a81a_38c98602b198row3_col24 {\n",
       "            background-color:  #e5ffe5;\n",
       "            color:  #000000;\n",
       "        }    #T_66d906a0_ce17_11eb_a81a_38c98602b198row3_col25 {\n",
       "            background-color:  #008000;\n",
       "            color:  #f1f1f1;\n",
       "        }    #T_66d906a0_ce17_11eb_a81a_38c98602b198row3_col26 {\n",
       "            background-color:  #e5ffe5;\n",
       "            color:  #000000;\n",
       "        }    #T_66d906a0_ce17_11eb_a81a_38c98602b198row3_col27 {\n",
       "            background-color:  #e5ffe5;\n",
       "            color:  #000000;\n",
       "        }    #T_66d906a0_ce17_11eb_a81a_38c98602b198row3_col28 {\n",
       "            background-color:  #008000;\n",
       "            color:  #f1f1f1;\n",
       "        }    #T_66d906a0_ce17_11eb_a81a_38c98602b198row3_col29 {\n",
       "            background-color:  #008000;\n",
       "            color:  #f1f1f1;\n",
       "        }    #T_66d906a0_ce17_11eb_a81a_38c98602b198row3_col30 {\n",
       "            background-color:  #e5ffe5;\n",
       "            color:  #000000;\n",
       "        }    #T_66d906a0_ce17_11eb_a81a_38c98602b198row3_col31 {\n",
       "            background-color:  #e5ffe5;\n",
       "            color:  #000000;\n",
       "        }    #T_66d906a0_ce17_11eb_a81a_38c98602b198row3_col32 {\n",
       "            background-color:  #e5ffe5;\n",
       "            color:  #000000;\n",
       "        }    #T_66d906a0_ce17_11eb_a81a_38c98602b198row3_col33 {\n",
       "            background-color:  #e5ffe5;\n",
       "            color:  #000000;\n",
       "        }    #T_66d906a0_ce17_11eb_a81a_38c98602b198row3_col34 {\n",
       "            background-color:  #e5ffe5;\n",
       "            color:  #000000;\n",
       "        }    #T_66d906a0_ce17_11eb_a81a_38c98602b198row3_col35 {\n",
       "            background-color:  #e5ffe5;\n",
       "            color:  #000000;\n",
       "        }    #T_66d906a0_ce17_11eb_a81a_38c98602b198row3_col36 {\n",
       "            background-color:  #e5ffe5;\n",
       "            color:  #000000;\n",
       "        }    #T_66d906a0_ce17_11eb_a81a_38c98602b198row3_col37 {\n",
       "            background-color:  #e5ffe5;\n",
       "            color:  #000000;\n",
       "        }    #T_66d906a0_ce17_11eb_a81a_38c98602b198row3_col38 {\n",
       "            background-color:  #cbf1cb;\n",
       "            color:  #000000;\n",
       "        }    #T_66d906a0_ce17_11eb_a81a_38c98602b198row4_col0 {\n",
       "            background-color:  #008000;\n",
       "            color:  #f1f1f1;\n",
       "        }    #T_66d906a0_ce17_11eb_a81a_38c98602b198row4_col1 {\n",
       "            background-color:  #e5ffe5;\n",
       "            color:  #000000;\n",
       "        }    #T_66d906a0_ce17_11eb_a81a_38c98602b198row4_col2 {\n",
       "            background-color:  #008000;\n",
       "            color:  #f1f1f1;\n",
       "        }    #T_66d906a0_ce17_11eb_a81a_38c98602b198row4_col3 {\n",
       "            background-color:  #e5ffe5;\n",
       "            color:  #000000;\n",
       "        }    #T_66d906a0_ce17_11eb_a81a_38c98602b198row4_col4 {\n",
       "            background-color:  #e5ffe5;\n",
       "            color:  #000000;\n",
       "        }    #T_66d906a0_ce17_11eb_a81a_38c98602b198row4_col5 {\n",
       "            background-color:  #008000;\n",
       "            color:  #f1f1f1;\n",
       "        }    #T_66d906a0_ce17_11eb_a81a_38c98602b198row4_col6 {\n",
       "            background-color:  #e5ffe5;\n",
       "            color:  #000000;\n",
       "        }    #T_66d906a0_ce17_11eb_a81a_38c98602b198row4_col7 {\n",
       "            background-color:  #008000;\n",
       "            color:  #f1f1f1;\n",
       "        }    #T_66d906a0_ce17_11eb_a81a_38c98602b198row4_col8 {\n",
       "            background-color:  #e5ffe5;\n",
       "            color:  #000000;\n",
       "        }    #T_66d906a0_ce17_11eb_a81a_38c98602b198row4_col9 {\n",
       "            background-color:  #e5ffe5;\n",
       "            color:  #000000;\n",
       "        }    #T_66d906a0_ce17_11eb_a81a_38c98602b198row4_col10 {\n",
       "            background-color:  #e5ffe5;\n",
       "            color:  #000000;\n",
       "        }    #T_66d906a0_ce17_11eb_a81a_38c98602b198row4_col11 {\n",
       "            background-color:  #e5ffe5;\n",
       "            color:  #000000;\n",
       "        }    #T_66d906a0_ce17_11eb_a81a_38c98602b198row4_col12 {\n",
       "            background-color:  #e5ffe5;\n",
       "            color:  #000000;\n",
       "        }    #T_66d906a0_ce17_11eb_a81a_38c98602b198row4_col13 {\n",
       "            background-color:  #e5ffe5;\n",
       "            color:  #000000;\n",
       "        }    #T_66d906a0_ce17_11eb_a81a_38c98602b198row4_col14 {\n",
       "            background-color:  #e5ffe5;\n",
       "            color:  #000000;\n",
       "        }    #T_66d906a0_ce17_11eb_a81a_38c98602b198row4_col15 {\n",
       "            background-color:  #e5ffe5;\n",
       "            color:  #000000;\n",
       "        }    #T_66d906a0_ce17_11eb_a81a_38c98602b198row4_col16 {\n",
       "            background-color:  #e5ffe5;\n",
       "            color:  #000000;\n",
       "        }    #T_66d906a0_ce17_11eb_a81a_38c98602b198row4_col17 {\n",
       "            background-color:  #e5ffe5;\n",
       "            color:  #000000;\n",
       "        }    #T_66d906a0_ce17_11eb_a81a_38c98602b198row4_col18 {\n",
       "            background-color:  #008000;\n",
       "            color:  #f1f1f1;\n",
       "        }    #T_66d906a0_ce17_11eb_a81a_38c98602b198row4_col19 {\n",
       "            background-color:  #008000;\n",
       "            color:  #f1f1f1;\n",
       "        }    #T_66d906a0_ce17_11eb_a81a_38c98602b198row4_col20 {\n",
       "            background-color:  #e5ffe5;\n",
       "            color:  #000000;\n",
       "        }    #T_66d906a0_ce17_11eb_a81a_38c98602b198row4_col21 {\n",
       "            background-color:  #e5ffe5;\n",
       "            color:  #000000;\n",
       "        }    #T_66d906a0_ce17_11eb_a81a_38c98602b198row4_col22 {\n",
       "            background-color:  #008000;\n",
       "            color:  #f1f1f1;\n",
       "        }    #T_66d906a0_ce17_11eb_a81a_38c98602b198row4_col23 {\n",
       "            background-color:  #e5ffe5;\n",
       "            color:  #000000;\n",
       "        }    #T_66d906a0_ce17_11eb_a81a_38c98602b198row4_col24 {\n",
       "            background-color:  #008000;\n",
       "            color:  #f1f1f1;\n",
       "        }    #T_66d906a0_ce17_11eb_a81a_38c98602b198row4_col25 {\n",
       "            background-color:  #e5ffe5;\n",
       "            color:  #000000;\n",
       "        }    #T_66d906a0_ce17_11eb_a81a_38c98602b198row4_col26 {\n",
       "            background-color:  #e5ffe5;\n",
       "            color:  #000000;\n",
       "        }    #T_66d906a0_ce17_11eb_a81a_38c98602b198row4_col27 {\n",
       "            background-color:  #e5ffe5;\n",
       "            color:  #000000;\n",
       "        }    #T_66d906a0_ce17_11eb_a81a_38c98602b198row4_col28 {\n",
       "            background-color:  #e5ffe5;\n",
       "            color:  #000000;\n",
       "        }    #T_66d906a0_ce17_11eb_a81a_38c98602b198row4_col29 {\n",
       "            background-color:  #e5ffe5;\n",
       "            color:  #000000;\n",
       "        }    #T_66d906a0_ce17_11eb_a81a_38c98602b198row4_col30 {\n",
       "            background-color:  #e5ffe5;\n",
       "            color:  #000000;\n",
       "        }    #T_66d906a0_ce17_11eb_a81a_38c98602b198row4_col31 {\n",
       "            background-color:  #e5ffe5;\n",
       "            color:  #000000;\n",
       "        }    #T_66d906a0_ce17_11eb_a81a_38c98602b198row4_col32 {\n",
       "            background-color:  #008000;\n",
       "            color:  #f1f1f1;\n",
       "        }    #T_66d906a0_ce17_11eb_a81a_38c98602b198row4_col33 {\n",
       "            background-color:  #e5ffe5;\n",
       "            color:  #000000;\n",
       "        }    #T_66d906a0_ce17_11eb_a81a_38c98602b198row4_col34 {\n",
       "            background-color:  #e5ffe5;\n",
       "            color:  #000000;\n",
       "        }    #T_66d906a0_ce17_11eb_a81a_38c98602b198row4_col35 {\n",
       "            background-color:  #008000;\n",
       "            color:  #f1f1f1;\n",
       "        }    #T_66d906a0_ce17_11eb_a81a_38c98602b198row4_col36 {\n",
       "            background-color:  #e5ffe5;\n",
       "            color:  #000000;\n",
       "        }    #T_66d906a0_ce17_11eb_a81a_38c98602b198row4_col37 {\n",
       "            background-color:  #e5ffe5;\n",
       "            color:  #000000;\n",
       "        }    #T_66d906a0_ce17_11eb_a81a_38c98602b198row4_col38 {\n",
       "            background-color:  #72bf72;\n",
       "            color:  #000000;\n",
       "        }    #T_66d906a0_ce17_11eb_a81a_38c98602b198row5_col0 {\n",
       "            background-color:  #e5ffe5;\n",
       "            color:  #000000;\n",
       "        }    #T_66d906a0_ce17_11eb_a81a_38c98602b198row5_col1 {\n",
       "            background-color:  #e5ffe5;\n",
       "            color:  #000000;\n",
       "        }    #T_66d906a0_ce17_11eb_a81a_38c98602b198row5_col2 {\n",
       "            background-color:  #e5ffe5;\n",
       "            color:  #000000;\n",
       "        }    #T_66d906a0_ce17_11eb_a81a_38c98602b198row5_col3 {\n",
       "            background-color:  #008000;\n",
       "            color:  #f1f1f1;\n",
       "        }    #T_66d906a0_ce17_11eb_a81a_38c98602b198row5_col4 {\n",
       "            background-color:  #e5ffe5;\n",
       "            color:  #000000;\n",
       "        }    #T_66d906a0_ce17_11eb_a81a_38c98602b198row5_col5 {\n",
       "            background-color:  #e5ffe5;\n",
       "            color:  #000000;\n",
       "        }    #T_66d906a0_ce17_11eb_a81a_38c98602b198row5_col6 {\n",
       "            background-color:  #e5ffe5;\n",
       "            color:  #000000;\n",
       "        }    #T_66d906a0_ce17_11eb_a81a_38c98602b198row5_col7 {\n",
       "            background-color:  #e5ffe5;\n",
       "            color:  #000000;\n",
       "        }    #T_66d906a0_ce17_11eb_a81a_38c98602b198row5_col8 {\n",
       "            background-color:  #e5ffe5;\n",
       "            color:  #000000;\n",
       "        }    #T_66d906a0_ce17_11eb_a81a_38c98602b198row5_col9 {\n",
       "            background-color:  #e5ffe5;\n",
       "            color:  #000000;\n",
       "        }    #T_66d906a0_ce17_11eb_a81a_38c98602b198row5_col10 {\n",
       "            background-color:  #008000;\n",
       "            color:  #f1f1f1;\n",
       "        }    #T_66d906a0_ce17_11eb_a81a_38c98602b198row5_col11 {\n",
       "            background-color:  #008000;\n",
       "            color:  #f1f1f1;\n",
       "        }    #T_66d906a0_ce17_11eb_a81a_38c98602b198row5_col12 {\n",
       "            background-color:  #e5ffe5;\n",
       "            color:  #000000;\n",
       "        }    #T_66d906a0_ce17_11eb_a81a_38c98602b198row5_col13 {\n",
       "            background-color:  #e5ffe5;\n",
       "            color:  #000000;\n",
       "        }    #T_66d906a0_ce17_11eb_a81a_38c98602b198row5_col14 {\n",
       "            background-color:  #e5ffe5;\n",
       "            color:  #000000;\n",
       "        }    #T_66d906a0_ce17_11eb_a81a_38c98602b198row5_col15 {\n",
       "            background-color:  #e5ffe5;\n",
       "            color:  #000000;\n",
       "        }    #T_66d906a0_ce17_11eb_a81a_38c98602b198row5_col16 {\n",
       "            background-color:  #e5ffe5;\n",
       "            color:  #000000;\n",
       "        }    #T_66d906a0_ce17_11eb_a81a_38c98602b198row5_col17 {\n",
       "            background-color:  #008000;\n",
       "            color:  #f1f1f1;\n",
       "        }    #T_66d906a0_ce17_11eb_a81a_38c98602b198row5_col18 {\n",
       "            background-color:  #e5ffe5;\n",
       "            color:  #000000;\n",
       "        }    #T_66d906a0_ce17_11eb_a81a_38c98602b198row5_col19 {\n",
       "            background-color:  #e5ffe5;\n",
       "            color:  #000000;\n",
       "        }    #T_66d906a0_ce17_11eb_a81a_38c98602b198row5_col20 {\n",
       "            background-color:  #e5ffe5;\n",
       "            color:  #000000;\n",
       "        }    #T_66d906a0_ce17_11eb_a81a_38c98602b198row5_col21 {\n",
       "            background-color:  #e5ffe5;\n",
       "            color:  #000000;\n",
       "        }    #T_66d906a0_ce17_11eb_a81a_38c98602b198row5_col22 {\n",
       "            background-color:  #e5ffe5;\n",
       "            color:  #000000;\n",
       "        }    #T_66d906a0_ce17_11eb_a81a_38c98602b198row5_col23 {\n",
       "            background-color:  #e5ffe5;\n",
       "            color:  #000000;\n",
       "        }    #T_66d906a0_ce17_11eb_a81a_38c98602b198row5_col24 {\n",
       "            background-color:  #e5ffe5;\n",
       "            color:  #000000;\n",
       "        }    #T_66d906a0_ce17_11eb_a81a_38c98602b198row5_col25 {\n",
       "            background-color:  #e5ffe5;\n",
       "            color:  #000000;\n",
       "        }    #T_66d906a0_ce17_11eb_a81a_38c98602b198row5_col26 {\n",
       "            background-color:  #008000;\n",
       "            color:  #f1f1f1;\n",
       "        }    #T_66d906a0_ce17_11eb_a81a_38c98602b198row5_col27 {\n",
       "            background-color:  #e5ffe5;\n",
       "            color:  #000000;\n",
       "        }    #T_66d906a0_ce17_11eb_a81a_38c98602b198row5_col28 {\n",
       "            background-color:  #e5ffe5;\n",
       "            color:  #000000;\n",
       "        }    #T_66d906a0_ce17_11eb_a81a_38c98602b198row5_col29 {\n",
       "            background-color:  #e5ffe5;\n",
       "            color:  #000000;\n",
       "        }    #T_66d906a0_ce17_11eb_a81a_38c98602b198row5_col30 {\n",
       "            background-color:  #e5ffe5;\n",
       "            color:  #000000;\n",
       "        }    #T_66d906a0_ce17_11eb_a81a_38c98602b198row5_col31 {\n",
       "            background-color:  #e5ffe5;\n",
       "            color:  #000000;\n",
       "        }    #T_66d906a0_ce17_11eb_a81a_38c98602b198row5_col32 {\n",
       "            background-color:  #e5ffe5;\n",
       "            color:  #000000;\n",
       "        }    #T_66d906a0_ce17_11eb_a81a_38c98602b198row5_col33 {\n",
       "            background-color:  #008000;\n",
       "            color:  #f1f1f1;\n",
       "        }    #T_66d906a0_ce17_11eb_a81a_38c98602b198row5_col34 {\n",
       "            background-color:  #e5ffe5;\n",
       "            color:  #000000;\n",
       "        }    #T_66d906a0_ce17_11eb_a81a_38c98602b198row5_col35 {\n",
       "            background-color:  #e5ffe5;\n",
       "            color:  #000000;\n",
       "        }    #T_66d906a0_ce17_11eb_a81a_38c98602b198row5_col36 {\n",
       "            background-color:  #e5ffe5;\n",
       "            color:  #000000;\n",
       "        }    #T_66d906a0_ce17_11eb_a81a_38c98602b198row5_col37 {\n",
       "            background-color:  #e5ffe5;\n",
       "            color:  #000000;\n",
       "        }    #T_66d906a0_ce17_11eb_a81a_38c98602b198row5_col38 {\n",
       "            background-color:  #e1fde1;\n",
       "            color:  #000000;\n",
       "        }    #T_66d906a0_ce17_11eb_a81a_38c98602b198row6_col0 {\n",
       "            background-color:  #e5ffe5;\n",
       "            color:  #000000;\n",
       "        }    #T_66d906a0_ce17_11eb_a81a_38c98602b198row6_col1 {\n",
       "            background-color:  #e5ffe5;\n",
       "            color:  #000000;\n",
       "        }    #T_66d906a0_ce17_11eb_a81a_38c98602b198row6_col2 {\n",
       "            background-color:  #e5ffe5;\n",
       "            color:  #000000;\n",
       "        }    #T_66d906a0_ce17_11eb_a81a_38c98602b198row6_col3 {\n",
       "            background-color:  #e5ffe5;\n",
       "            color:  #000000;\n",
       "        }    #T_66d906a0_ce17_11eb_a81a_38c98602b198row6_col4 {\n",
       "            background-color:  #008000;\n",
       "            color:  #f1f1f1;\n",
       "        }    #T_66d906a0_ce17_11eb_a81a_38c98602b198row6_col5 {\n",
       "            background-color:  #e5ffe5;\n",
       "            color:  #000000;\n",
       "        }    #T_66d906a0_ce17_11eb_a81a_38c98602b198row6_col6 {\n",
       "            background-color:  #e5ffe5;\n",
       "            color:  #000000;\n",
       "        }    #T_66d906a0_ce17_11eb_a81a_38c98602b198row6_col7 {\n",
       "            background-color:  #e5ffe5;\n",
       "            color:  #000000;\n",
       "        }    #T_66d906a0_ce17_11eb_a81a_38c98602b198row6_col8 {\n",
       "            background-color:  #008000;\n",
       "            color:  #f1f1f1;\n",
       "        }    #T_66d906a0_ce17_11eb_a81a_38c98602b198row6_col9 {\n",
       "            background-color:  #008000;\n",
       "            color:  #f1f1f1;\n",
       "        }    #T_66d906a0_ce17_11eb_a81a_38c98602b198row6_col10 {\n",
       "            background-color:  #e5ffe5;\n",
       "            color:  #000000;\n",
       "        }    #T_66d906a0_ce17_11eb_a81a_38c98602b198row6_col11 {\n",
       "            background-color:  #e5ffe5;\n",
       "            color:  #000000;\n",
       "        }    #T_66d906a0_ce17_11eb_a81a_38c98602b198row6_col12 {\n",
       "            background-color:  #e5ffe5;\n",
       "            color:  #000000;\n",
       "        }    #T_66d906a0_ce17_11eb_a81a_38c98602b198row6_col13 {\n",
       "            background-color:  #e5ffe5;\n",
       "            color:  #000000;\n",
       "        }    #T_66d906a0_ce17_11eb_a81a_38c98602b198row6_col14 {\n",
       "            background-color:  #e5ffe5;\n",
       "            color:  #000000;\n",
       "        }    #T_66d906a0_ce17_11eb_a81a_38c98602b198row6_col15 {\n",
       "            background-color:  #008000;\n",
       "            color:  #f1f1f1;\n",
       "        }    #T_66d906a0_ce17_11eb_a81a_38c98602b198row6_col16 {\n",
       "            background-color:  #e5ffe5;\n",
       "            color:  #000000;\n",
       "        }    #T_66d906a0_ce17_11eb_a81a_38c98602b198row6_col17 {\n",
       "            background-color:  #e5ffe5;\n",
       "            color:  #000000;\n",
       "        }    #T_66d906a0_ce17_11eb_a81a_38c98602b198row6_col18 {\n",
       "            background-color:  #e5ffe5;\n",
       "            color:  #000000;\n",
       "        }    #T_66d906a0_ce17_11eb_a81a_38c98602b198row6_col19 {\n",
       "            background-color:  #e5ffe5;\n",
       "            color:  #000000;\n",
       "        }    #T_66d906a0_ce17_11eb_a81a_38c98602b198row6_col20 {\n",
       "            background-color:  #008000;\n",
       "            color:  #f1f1f1;\n",
       "        }    #T_66d906a0_ce17_11eb_a81a_38c98602b198row6_col21 {\n",
       "            background-color:  #e5ffe5;\n",
       "            color:  #000000;\n",
       "        }    #T_66d906a0_ce17_11eb_a81a_38c98602b198row6_col22 {\n",
       "            background-color:  #e5ffe5;\n",
       "            color:  #000000;\n",
       "        }    #T_66d906a0_ce17_11eb_a81a_38c98602b198row6_col23 {\n",
       "            background-color:  #e5ffe5;\n",
       "            color:  #000000;\n",
       "        }    #T_66d906a0_ce17_11eb_a81a_38c98602b198row6_col24 {\n",
       "            background-color:  #e5ffe5;\n",
       "            color:  #000000;\n",
       "        }    #T_66d906a0_ce17_11eb_a81a_38c98602b198row6_col25 {\n",
       "            background-color:  #e5ffe5;\n",
       "            color:  #000000;\n",
       "        }    #T_66d906a0_ce17_11eb_a81a_38c98602b198row6_col26 {\n",
       "            background-color:  #e5ffe5;\n",
       "            color:  #000000;\n",
       "        }    #T_66d906a0_ce17_11eb_a81a_38c98602b198row6_col27 {\n",
       "            background-color:  #008000;\n",
       "            color:  #f1f1f1;\n",
       "        }    #T_66d906a0_ce17_11eb_a81a_38c98602b198row6_col28 {\n",
       "            background-color:  #e5ffe5;\n",
       "            color:  #000000;\n",
       "        }    #T_66d906a0_ce17_11eb_a81a_38c98602b198row6_col29 {\n",
       "            background-color:  #e5ffe5;\n",
       "            color:  #000000;\n",
       "        }    #T_66d906a0_ce17_11eb_a81a_38c98602b198row6_col30 {\n",
       "            background-color:  #e5ffe5;\n",
       "            color:  #000000;\n",
       "        }    #T_66d906a0_ce17_11eb_a81a_38c98602b198row6_col31 {\n",
       "            background-color:  #008000;\n",
       "            color:  #f1f1f1;\n",
       "        }    #T_66d906a0_ce17_11eb_a81a_38c98602b198row6_col32 {\n",
       "            background-color:  #e5ffe5;\n",
       "            color:  #000000;\n",
       "        }    #T_66d906a0_ce17_11eb_a81a_38c98602b198row6_col33 {\n",
       "            background-color:  #e5ffe5;\n",
       "            color:  #000000;\n",
       "        }    #T_66d906a0_ce17_11eb_a81a_38c98602b198row6_col34 {\n",
       "            background-color:  #e5ffe5;\n",
       "            color:  #000000;\n",
       "        }    #T_66d906a0_ce17_11eb_a81a_38c98602b198row6_col35 {\n",
       "            background-color:  #e5ffe5;\n",
       "            color:  #000000;\n",
       "        }    #T_66d906a0_ce17_11eb_a81a_38c98602b198row6_col36 {\n",
       "            background-color:  #e5ffe5;\n",
       "            color:  #000000;\n",
       "        }    #T_66d906a0_ce17_11eb_a81a_38c98602b198row6_col37 {\n",
       "            background-color:  #008000;\n",
       "            color:  #f1f1f1;\n",
       "        }    #T_66d906a0_ce17_11eb_a81a_38c98602b198row6_col38 {\n",
       "            background-color:  #e5ffe5;\n",
       "            color:  #000000;\n",
       "        }    #T_66d906a0_ce17_11eb_a81a_38c98602b198row7_col0 {\n",
       "            background-color:  #008000;\n",
       "            color:  #f1f1f1;\n",
       "        }    #T_66d906a0_ce17_11eb_a81a_38c98602b198row7_col1 {\n",
       "            background-color:  #008000;\n",
       "            color:  #f1f1f1;\n",
       "        }    #T_66d906a0_ce17_11eb_a81a_38c98602b198row7_col2 {\n",
       "            background-color:  #008000;\n",
       "            color:  #f1f1f1;\n",
       "        }    #T_66d906a0_ce17_11eb_a81a_38c98602b198row7_col3 {\n",
       "            background-color:  #008000;\n",
       "            color:  #f1f1f1;\n",
       "        }    #T_66d906a0_ce17_11eb_a81a_38c98602b198row7_col4 {\n",
       "            background-color:  #008000;\n",
       "            color:  #f1f1f1;\n",
       "        }    #T_66d906a0_ce17_11eb_a81a_38c98602b198row7_col5 {\n",
       "            background-color:  #008000;\n",
       "            color:  #f1f1f1;\n",
       "        }    #T_66d906a0_ce17_11eb_a81a_38c98602b198row7_col6 {\n",
       "            background-color:  #008000;\n",
       "            color:  #f1f1f1;\n",
       "        }    #T_66d906a0_ce17_11eb_a81a_38c98602b198row7_col7 {\n",
       "            background-color:  #008000;\n",
       "            color:  #f1f1f1;\n",
       "        }    #T_66d906a0_ce17_11eb_a81a_38c98602b198row7_col8 {\n",
       "            background-color:  #008000;\n",
       "            color:  #f1f1f1;\n",
       "        }    #T_66d906a0_ce17_11eb_a81a_38c98602b198row7_col9 {\n",
       "            background-color:  #008000;\n",
       "            color:  #f1f1f1;\n",
       "        }    #T_66d906a0_ce17_11eb_a81a_38c98602b198row7_col10 {\n",
       "            background-color:  #008000;\n",
       "            color:  #f1f1f1;\n",
       "        }    #T_66d906a0_ce17_11eb_a81a_38c98602b198row7_col11 {\n",
       "            background-color:  #008000;\n",
       "            color:  #f1f1f1;\n",
       "        }    #T_66d906a0_ce17_11eb_a81a_38c98602b198row7_col12 {\n",
       "            background-color:  #008000;\n",
       "            color:  #f1f1f1;\n",
       "        }    #T_66d906a0_ce17_11eb_a81a_38c98602b198row7_col13 {\n",
       "            background-color:  #008000;\n",
       "            color:  #f1f1f1;\n",
       "        }    #T_66d906a0_ce17_11eb_a81a_38c98602b198row7_col14 {\n",
       "            background-color:  #008000;\n",
       "            color:  #f1f1f1;\n",
       "        }    #T_66d906a0_ce17_11eb_a81a_38c98602b198row7_col15 {\n",
       "            background-color:  #008000;\n",
       "            color:  #f1f1f1;\n",
       "        }    #T_66d906a0_ce17_11eb_a81a_38c98602b198row7_col16 {\n",
       "            background-color:  #008000;\n",
       "            color:  #f1f1f1;\n",
       "        }    #T_66d906a0_ce17_11eb_a81a_38c98602b198row7_col17 {\n",
       "            background-color:  #008000;\n",
       "            color:  #f1f1f1;\n",
       "        }    #T_66d906a0_ce17_11eb_a81a_38c98602b198row7_col18 {\n",
       "            background-color:  #008000;\n",
       "            color:  #f1f1f1;\n",
       "        }    #T_66d906a0_ce17_11eb_a81a_38c98602b198row7_col19 {\n",
       "            background-color:  #008000;\n",
       "            color:  #f1f1f1;\n",
       "        }    #T_66d906a0_ce17_11eb_a81a_38c98602b198row7_col20 {\n",
       "            background-color:  #008000;\n",
       "            color:  #f1f1f1;\n",
       "        }    #T_66d906a0_ce17_11eb_a81a_38c98602b198row7_col21 {\n",
       "            background-color:  #008000;\n",
       "            color:  #f1f1f1;\n",
       "        }    #T_66d906a0_ce17_11eb_a81a_38c98602b198row7_col22 {\n",
       "            background-color:  #008000;\n",
       "            color:  #f1f1f1;\n",
       "        }    #T_66d906a0_ce17_11eb_a81a_38c98602b198row7_col23 {\n",
       "            background-color:  #008000;\n",
       "            color:  #f1f1f1;\n",
       "        }    #T_66d906a0_ce17_11eb_a81a_38c98602b198row7_col24 {\n",
       "            background-color:  #008000;\n",
       "            color:  #f1f1f1;\n",
       "        }    #T_66d906a0_ce17_11eb_a81a_38c98602b198row7_col25 {\n",
       "            background-color:  #008000;\n",
       "            color:  #f1f1f1;\n",
       "        }    #T_66d906a0_ce17_11eb_a81a_38c98602b198row7_col26 {\n",
       "            background-color:  #008000;\n",
       "            color:  #f1f1f1;\n",
       "        }    #T_66d906a0_ce17_11eb_a81a_38c98602b198row7_col27 {\n",
       "            background-color:  #008000;\n",
       "            color:  #f1f1f1;\n",
       "        }    #T_66d906a0_ce17_11eb_a81a_38c98602b198row7_col28 {\n",
       "            background-color:  #008000;\n",
       "            color:  #f1f1f1;\n",
       "        }    #T_66d906a0_ce17_11eb_a81a_38c98602b198row7_col29 {\n",
       "            background-color:  #008000;\n",
       "            color:  #f1f1f1;\n",
       "        }    #T_66d906a0_ce17_11eb_a81a_38c98602b198row7_col30 {\n",
       "            background-color:  #008000;\n",
       "            color:  #f1f1f1;\n",
       "        }    #T_66d906a0_ce17_11eb_a81a_38c98602b198row7_col31 {\n",
       "            background-color:  #008000;\n",
       "            color:  #f1f1f1;\n",
       "        }    #T_66d906a0_ce17_11eb_a81a_38c98602b198row7_col32 {\n",
       "            background-color:  #008000;\n",
       "            color:  #f1f1f1;\n",
       "        }    #T_66d906a0_ce17_11eb_a81a_38c98602b198row7_col33 {\n",
       "            background-color:  #008000;\n",
       "            color:  #f1f1f1;\n",
       "        }    #T_66d906a0_ce17_11eb_a81a_38c98602b198row7_col34 {\n",
       "            background-color:  #008000;\n",
       "            color:  #f1f1f1;\n",
       "        }    #T_66d906a0_ce17_11eb_a81a_38c98602b198row7_col35 {\n",
       "            background-color:  #008000;\n",
       "            color:  #f1f1f1;\n",
       "        }    #T_66d906a0_ce17_11eb_a81a_38c98602b198row7_col36 {\n",
       "            background-color:  #008000;\n",
       "            color:  #f1f1f1;\n",
       "        }    #T_66d906a0_ce17_11eb_a81a_38c98602b198row7_col37 {\n",
       "            background-color:  #008000;\n",
       "            color:  #f1f1f1;\n",
       "        }    #T_66d906a0_ce17_11eb_a81a_38c98602b198row7_col38 {\n",
       "            background-color:  #008000;\n",
       "            color:  #f1f1f1;\n",
       "        }</style><table id=\"T_66d906a0_ce17_11eb_a81a_38c98602b198\" ><thead>    <tr>        <th class=\"index_name level0\" >Cause Subcategory</th>        <th class=\"col_heading level0 col0\" >CONSTRUCTION, INSTALLATION OR FABRICATION-RELATED</th>        <th class=\"col_heading level0 col1\" >DAMAGE BY OPERATOR OR OPERATOR'S CONTRACTOR</th>        <th class=\"col_heading level0 col2\" >DEFECTIVE OR LOOSE TUBING/FITTING</th>        <th class=\"col_heading level0 col3\" >EARTH MOVEMENT</th>        <th class=\"col_heading level0 col4\" >ELECTRICAL ARCING FROM OTHER EQUIPMENT/FACILITY</th>        <th class=\"col_heading level0 col5\" >ENVIRONMENTAL CRACKING-RELATED</th>        <th class=\"col_heading level0 col6\" >EXTERNAL</th>        <th class=\"col_heading level0 col7\" >FAILURE OF EQUIPMENT BODY</th>        <th class=\"col_heading level0 col8\" >FIRE/EXPLOSION AS PRIMARY CAUSE</th>        <th class=\"col_heading level0 col9\" >FISHING OR MARITIME ACTIVITY</th>        <th class=\"col_heading level0 col10\" >HEAVY RAINS/FLOODS</th>        <th class=\"col_heading level0 col11\" >HIGH WINDS</th>        <th class=\"col_heading level0 col12\" >INCORRECT EQUIPMENT</th>        <th class=\"col_heading level0 col13\" >INCORRECT INSTALLATION</th>        <th class=\"col_heading level0 col14\" >INCORRECT VALVE POSITION</th>        <th class=\"col_heading level0 col15\" >INTENTIONAL DAMAGE</th>        <th class=\"col_heading level0 col16\" >INTERNAL</th>        <th class=\"col_heading level0 col17\" >LIGHTNING</th>        <th class=\"col_heading level0 col18\" >MALFUNCTION OF CONTROL/RELIEF EQUIPMENT</th>        <th class=\"col_heading level0 col19\" >MANUFACTURING-RELATED</th>        <th class=\"col_heading level0 col20\" >MARITIME EQUIPMENT OR VESSEL ADRIFT</th>        <th class=\"col_heading level0 col21\" >MISCELLANEOUS</th>        <th class=\"col_heading level0 col22\" >NON-THREADED CONNECTION FAILURE</th>        <th class=\"col_heading level0 col23\" >OPERATOR/CONTRACTOR EXCAVATION DAMAGE</th>        <th class=\"col_heading level0 col24\" >OTHER EQUIPMENT FAILURE</th>        <th class=\"col_heading level0 col25\" >OTHER INCORRECT OPERATION</th>        <th class=\"col_heading level0 col26\" >OTHER NATURAL FORCE DAMAGE</th>        <th class=\"col_heading level0 col27\" >OTHER OUTSIDE FORCE DAMAGE</th>        <th class=\"col_heading level0 col28\" >OVERFILL/OVERFLOW OF TANK/VESSEL/SUMP</th>        <th class=\"col_heading level0 col29\" >PIPELINE/EQUIPMENT OVERPRESSURED</th>        <th class=\"col_heading level0 col30\" >PREVIOUS DAMAGE DUE TO EXCAVATION</th>        <th class=\"col_heading level0 col31\" >PREVIOUS MECHANICAL DAMAGE</th>        <th class=\"col_heading level0 col32\" >PUMP OR PUMP-RELATED EQUIPMENT</th>        <th class=\"col_heading level0 col33\" >TEMPERATURE</th>        <th class=\"col_heading level0 col34\" >THIRD PARTY EXCAVATION DAMAGE</th>        <th class=\"col_heading level0 col35\" >THREADED CONNECTION/COUPLING FAILURE</th>        <th class=\"col_heading level0 col36\" >UNKNOWN</th>        <th class=\"col_heading level0 col37\" >VEHICLE NOT ENGAGED IN EXCAVATION</th>        <th class=\"col_heading level0 col38\" >All</th>    </tr>    <tr>        <th class=\"index_name level0\" >Cause Category</th>        <th class=\"blank\" ></th>        <th class=\"blank\" ></th>        <th class=\"blank\" ></th>        <th class=\"blank\" ></th>        <th class=\"blank\" ></th>        <th class=\"blank\" ></th>        <th class=\"blank\" ></th>        <th class=\"blank\" ></th>        <th class=\"blank\" ></th>        <th class=\"blank\" ></th>        <th class=\"blank\" ></th>        <th class=\"blank\" ></th>        <th class=\"blank\" ></th>        <th class=\"blank\" ></th>        <th class=\"blank\" ></th>        <th class=\"blank\" ></th>        <th class=\"blank\" ></th>        <th class=\"blank\" ></th>        <th class=\"blank\" ></th>        <th class=\"blank\" ></th>        <th class=\"blank\" ></th>        <th class=\"blank\" ></th>        <th class=\"blank\" ></th>        <th class=\"blank\" ></th>        <th class=\"blank\" ></th>        <th class=\"blank\" ></th>        <th class=\"blank\" ></th>        <th class=\"blank\" ></th>        <th class=\"blank\" ></th>        <th class=\"blank\" ></th>        <th class=\"blank\" ></th>        <th class=\"blank\" ></th>        <th class=\"blank\" ></th>        <th class=\"blank\" ></th>        <th class=\"blank\" ></th>        <th class=\"blank\" ></th>        <th class=\"blank\" ></th>        <th class=\"blank\" ></th>        <th class=\"blank\" ></th>    </tr></thead><tbody>\n",
       "                <tr>\n",
       "                        <th id=\"T_66d906a0_ce17_11eb_a81a_38c98602b198level0_row0\" class=\"row_heading level0 row0\" >ALL OTHER CAUSES</th>\n",
       "                        <td id=\"T_66d906a0_ce17_11eb_a81a_38c98602b198row0_col0\" class=\"data row0 col0\" >0</td>\n",
       "                        <td id=\"T_66d906a0_ce17_11eb_a81a_38c98602b198row0_col1\" class=\"data row0 col1\" >0</td>\n",
       "                        <td id=\"T_66d906a0_ce17_11eb_a81a_38c98602b198row0_col2\" class=\"data row0 col2\" >0</td>\n",
       "                        <td id=\"T_66d906a0_ce17_11eb_a81a_38c98602b198row0_col3\" class=\"data row0 col3\" >0</td>\n",
       "                        <td id=\"T_66d906a0_ce17_11eb_a81a_38c98602b198row0_col4\" class=\"data row0 col4\" >0</td>\n",
       "                        <td id=\"T_66d906a0_ce17_11eb_a81a_38c98602b198row0_col5\" class=\"data row0 col5\" >0</td>\n",
       "                        <td id=\"T_66d906a0_ce17_11eb_a81a_38c98602b198row0_col6\" class=\"data row0 col6\" >0</td>\n",
       "                        <td id=\"T_66d906a0_ce17_11eb_a81a_38c98602b198row0_col7\" class=\"data row0 col7\" >0</td>\n",
       "                        <td id=\"T_66d906a0_ce17_11eb_a81a_38c98602b198row0_col8\" class=\"data row0 col8\" >0</td>\n",
       "                        <td id=\"T_66d906a0_ce17_11eb_a81a_38c98602b198row0_col9\" class=\"data row0 col9\" >0</td>\n",
       "                        <td id=\"T_66d906a0_ce17_11eb_a81a_38c98602b198row0_col10\" class=\"data row0 col10\" >0</td>\n",
       "                        <td id=\"T_66d906a0_ce17_11eb_a81a_38c98602b198row0_col11\" class=\"data row0 col11\" >0</td>\n",
       "                        <td id=\"T_66d906a0_ce17_11eb_a81a_38c98602b198row0_col12\" class=\"data row0 col12\" >0</td>\n",
       "                        <td id=\"T_66d906a0_ce17_11eb_a81a_38c98602b198row0_col13\" class=\"data row0 col13\" >0</td>\n",
       "                        <td id=\"T_66d906a0_ce17_11eb_a81a_38c98602b198row0_col14\" class=\"data row0 col14\" >0</td>\n",
       "                        <td id=\"T_66d906a0_ce17_11eb_a81a_38c98602b198row0_col15\" class=\"data row0 col15\" >0</td>\n",
       "                        <td id=\"T_66d906a0_ce17_11eb_a81a_38c98602b198row0_col16\" class=\"data row0 col16\" >0</td>\n",
       "                        <td id=\"T_66d906a0_ce17_11eb_a81a_38c98602b198row0_col17\" class=\"data row0 col17\" >0</td>\n",
       "                        <td id=\"T_66d906a0_ce17_11eb_a81a_38c98602b198row0_col18\" class=\"data row0 col18\" >0</td>\n",
       "                        <td id=\"T_66d906a0_ce17_11eb_a81a_38c98602b198row0_col19\" class=\"data row0 col19\" >0</td>\n",
       "                        <td id=\"T_66d906a0_ce17_11eb_a81a_38c98602b198row0_col20\" class=\"data row0 col20\" >0</td>\n",
       "                        <td id=\"T_66d906a0_ce17_11eb_a81a_38c98602b198row0_col21\" class=\"data row0 col21\" >76</td>\n",
       "                        <td id=\"T_66d906a0_ce17_11eb_a81a_38c98602b198row0_col22\" class=\"data row0 col22\" >0</td>\n",
       "                        <td id=\"T_66d906a0_ce17_11eb_a81a_38c98602b198row0_col23\" class=\"data row0 col23\" >0</td>\n",
       "                        <td id=\"T_66d906a0_ce17_11eb_a81a_38c98602b198row0_col24\" class=\"data row0 col24\" >0</td>\n",
       "                        <td id=\"T_66d906a0_ce17_11eb_a81a_38c98602b198row0_col25\" class=\"data row0 col25\" >0</td>\n",
       "                        <td id=\"T_66d906a0_ce17_11eb_a81a_38c98602b198row0_col26\" class=\"data row0 col26\" >0</td>\n",
       "                        <td id=\"T_66d906a0_ce17_11eb_a81a_38c98602b198row0_col27\" class=\"data row0 col27\" >0</td>\n",
       "                        <td id=\"T_66d906a0_ce17_11eb_a81a_38c98602b198row0_col28\" class=\"data row0 col28\" >0</td>\n",
       "                        <td id=\"T_66d906a0_ce17_11eb_a81a_38c98602b198row0_col29\" class=\"data row0 col29\" >0</td>\n",
       "                        <td id=\"T_66d906a0_ce17_11eb_a81a_38c98602b198row0_col30\" class=\"data row0 col30\" >0</td>\n",
       "                        <td id=\"T_66d906a0_ce17_11eb_a81a_38c98602b198row0_col31\" class=\"data row0 col31\" >0</td>\n",
       "                        <td id=\"T_66d906a0_ce17_11eb_a81a_38c98602b198row0_col32\" class=\"data row0 col32\" >0</td>\n",
       "                        <td id=\"T_66d906a0_ce17_11eb_a81a_38c98602b198row0_col33\" class=\"data row0 col33\" >0</td>\n",
       "                        <td id=\"T_66d906a0_ce17_11eb_a81a_38c98602b198row0_col34\" class=\"data row0 col34\" >0</td>\n",
       "                        <td id=\"T_66d906a0_ce17_11eb_a81a_38c98602b198row0_col35\" class=\"data row0 col35\" >0</td>\n",
       "                        <td id=\"T_66d906a0_ce17_11eb_a81a_38c98602b198row0_col36\" class=\"data row0 col36\" >41</td>\n",
       "                        <td id=\"T_66d906a0_ce17_11eb_a81a_38c98602b198row0_col37\" class=\"data row0 col37\" >0</td>\n",
       "                        <td id=\"T_66d906a0_ce17_11eb_a81a_38c98602b198row0_col38\" class=\"data row0 col38\" >117</td>\n",
       "            </tr>\n",
       "            <tr>\n",
       "                        <th id=\"T_66d906a0_ce17_11eb_a81a_38c98602b198level0_row1\" class=\"row_heading level0 row1\" >CORROSION</th>\n",
       "                        <td id=\"T_66d906a0_ce17_11eb_a81a_38c98602b198row1_col0\" class=\"data row1 col0\" >0</td>\n",
       "                        <td id=\"T_66d906a0_ce17_11eb_a81a_38c98602b198row1_col1\" class=\"data row1 col1\" >0</td>\n",
       "                        <td id=\"T_66d906a0_ce17_11eb_a81a_38c98602b198row1_col2\" class=\"data row1 col2\" >0</td>\n",
       "                        <td id=\"T_66d906a0_ce17_11eb_a81a_38c98602b198row1_col3\" class=\"data row1 col3\" >0</td>\n",
       "                        <td id=\"T_66d906a0_ce17_11eb_a81a_38c98602b198row1_col4\" class=\"data row1 col4\" >0</td>\n",
       "                        <td id=\"T_66d906a0_ce17_11eb_a81a_38c98602b198row1_col5\" class=\"data row1 col5\" >0</td>\n",
       "                        <td id=\"T_66d906a0_ce17_11eb_a81a_38c98602b198row1_col6\" class=\"data row1 col6\" >230</td>\n",
       "                        <td id=\"T_66d906a0_ce17_11eb_a81a_38c98602b198row1_col7\" class=\"data row1 col7\" >0</td>\n",
       "                        <td id=\"T_66d906a0_ce17_11eb_a81a_38c98602b198row1_col8\" class=\"data row1 col8\" >0</td>\n",
       "                        <td id=\"T_66d906a0_ce17_11eb_a81a_38c98602b198row1_col9\" class=\"data row1 col9\" >0</td>\n",
       "                        <td id=\"T_66d906a0_ce17_11eb_a81a_38c98602b198row1_col10\" class=\"data row1 col10\" >0</td>\n",
       "                        <td id=\"T_66d906a0_ce17_11eb_a81a_38c98602b198row1_col11\" class=\"data row1 col11\" >0</td>\n",
       "                        <td id=\"T_66d906a0_ce17_11eb_a81a_38c98602b198row1_col12\" class=\"data row1 col12\" >0</td>\n",
       "                        <td id=\"T_66d906a0_ce17_11eb_a81a_38c98602b198row1_col13\" class=\"data row1 col13\" >0</td>\n",
       "                        <td id=\"T_66d906a0_ce17_11eb_a81a_38c98602b198row1_col14\" class=\"data row1 col14\" >0</td>\n",
       "                        <td id=\"T_66d906a0_ce17_11eb_a81a_38c98602b198row1_col15\" class=\"data row1 col15\" >0</td>\n",
       "                        <td id=\"T_66d906a0_ce17_11eb_a81a_38c98602b198row1_col16\" class=\"data row1 col16\" >362</td>\n",
       "                        <td id=\"T_66d906a0_ce17_11eb_a81a_38c98602b198row1_col17\" class=\"data row1 col17\" >0</td>\n",
       "                        <td id=\"T_66d906a0_ce17_11eb_a81a_38c98602b198row1_col18\" class=\"data row1 col18\" >0</td>\n",
       "                        <td id=\"T_66d906a0_ce17_11eb_a81a_38c98602b198row1_col19\" class=\"data row1 col19\" >0</td>\n",
       "                        <td id=\"T_66d906a0_ce17_11eb_a81a_38c98602b198row1_col20\" class=\"data row1 col20\" >0</td>\n",
       "                        <td id=\"T_66d906a0_ce17_11eb_a81a_38c98602b198row1_col21\" class=\"data row1 col21\" >0</td>\n",
       "                        <td id=\"T_66d906a0_ce17_11eb_a81a_38c98602b198row1_col22\" class=\"data row1 col22\" >0</td>\n",
       "                        <td id=\"T_66d906a0_ce17_11eb_a81a_38c98602b198row1_col23\" class=\"data row1 col23\" >0</td>\n",
       "                        <td id=\"T_66d906a0_ce17_11eb_a81a_38c98602b198row1_col24\" class=\"data row1 col24\" >0</td>\n",
       "                        <td id=\"T_66d906a0_ce17_11eb_a81a_38c98602b198row1_col25\" class=\"data row1 col25\" >0</td>\n",
       "                        <td id=\"T_66d906a0_ce17_11eb_a81a_38c98602b198row1_col26\" class=\"data row1 col26\" >0</td>\n",
       "                        <td id=\"T_66d906a0_ce17_11eb_a81a_38c98602b198row1_col27\" class=\"data row1 col27\" >0</td>\n",
       "                        <td id=\"T_66d906a0_ce17_11eb_a81a_38c98602b198row1_col28\" class=\"data row1 col28\" >0</td>\n",
       "                        <td id=\"T_66d906a0_ce17_11eb_a81a_38c98602b198row1_col29\" class=\"data row1 col29\" >0</td>\n",
       "                        <td id=\"T_66d906a0_ce17_11eb_a81a_38c98602b198row1_col30\" class=\"data row1 col30\" >0</td>\n",
       "                        <td id=\"T_66d906a0_ce17_11eb_a81a_38c98602b198row1_col31\" class=\"data row1 col31\" >0</td>\n",
       "                        <td id=\"T_66d906a0_ce17_11eb_a81a_38c98602b198row1_col32\" class=\"data row1 col32\" >0</td>\n",
       "                        <td id=\"T_66d906a0_ce17_11eb_a81a_38c98602b198row1_col33\" class=\"data row1 col33\" >0</td>\n",
       "                        <td id=\"T_66d906a0_ce17_11eb_a81a_38c98602b198row1_col34\" class=\"data row1 col34\" >0</td>\n",
       "                        <td id=\"T_66d906a0_ce17_11eb_a81a_38c98602b198row1_col35\" class=\"data row1 col35\" >0</td>\n",
       "                        <td id=\"T_66d906a0_ce17_11eb_a81a_38c98602b198row1_col36\" class=\"data row1 col36\" >0</td>\n",
       "                        <td id=\"T_66d906a0_ce17_11eb_a81a_38c98602b198row1_col37\" class=\"data row1 col37\" >0</td>\n",
       "                        <td id=\"T_66d906a0_ce17_11eb_a81a_38c98602b198row1_col38\" class=\"data row1 col38\" >592</td>\n",
       "            </tr>\n",
       "            <tr>\n",
       "                        <th id=\"T_66d906a0_ce17_11eb_a81a_38c98602b198level0_row2\" class=\"row_heading level0 row2\" >EXCAVATION DAMAGE</th>\n",
       "                        <td id=\"T_66d906a0_ce17_11eb_a81a_38c98602b198row2_col0\" class=\"data row2 col0\" >0</td>\n",
       "                        <td id=\"T_66d906a0_ce17_11eb_a81a_38c98602b198row2_col1\" class=\"data row2 col1\" >0</td>\n",
       "                        <td id=\"T_66d906a0_ce17_11eb_a81a_38c98602b198row2_col2\" class=\"data row2 col2\" >0</td>\n",
       "                        <td id=\"T_66d906a0_ce17_11eb_a81a_38c98602b198row2_col3\" class=\"data row2 col3\" >0</td>\n",
       "                        <td id=\"T_66d906a0_ce17_11eb_a81a_38c98602b198row2_col4\" class=\"data row2 col4\" >0</td>\n",
       "                        <td id=\"T_66d906a0_ce17_11eb_a81a_38c98602b198row2_col5\" class=\"data row2 col5\" >0</td>\n",
       "                        <td id=\"T_66d906a0_ce17_11eb_a81a_38c98602b198row2_col6\" class=\"data row2 col6\" >0</td>\n",
       "                        <td id=\"T_66d906a0_ce17_11eb_a81a_38c98602b198row2_col7\" class=\"data row2 col7\" >0</td>\n",
       "                        <td id=\"T_66d906a0_ce17_11eb_a81a_38c98602b198row2_col8\" class=\"data row2 col8\" >0</td>\n",
       "                        <td id=\"T_66d906a0_ce17_11eb_a81a_38c98602b198row2_col9\" class=\"data row2 col9\" >0</td>\n",
       "                        <td id=\"T_66d906a0_ce17_11eb_a81a_38c98602b198row2_col10\" class=\"data row2 col10\" >0</td>\n",
       "                        <td id=\"T_66d906a0_ce17_11eb_a81a_38c98602b198row2_col11\" class=\"data row2 col11\" >0</td>\n",
       "                        <td id=\"T_66d906a0_ce17_11eb_a81a_38c98602b198row2_col12\" class=\"data row2 col12\" >0</td>\n",
       "                        <td id=\"T_66d906a0_ce17_11eb_a81a_38c98602b198row2_col13\" class=\"data row2 col13\" >0</td>\n",
       "                        <td id=\"T_66d906a0_ce17_11eb_a81a_38c98602b198row2_col14\" class=\"data row2 col14\" >0</td>\n",
       "                        <td id=\"T_66d906a0_ce17_11eb_a81a_38c98602b198row2_col15\" class=\"data row2 col15\" >0</td>\n",
       "                        <td id=\"T_66d906a0_ce17_11eb_a81a_38c98602b198row2_col16\" class=\"data row2 col16\" >0</td>\n",
       "                        <td id=\"T_66d906a0_ce17_11eb_a81a_38c98602b198row2_col17\" class=\"data row2 col17\" >0</td>\n",
       "                        <td id=\"T_66d906a0_ce17_11eb_a81a_38c98602b198row2_col18\" class=\"data row2 col18\" >0</td>\n",
       "                        <td id=\"T_66d906a0_ce17_11eb_a81a_38c98602b198row2_col19\" class=\"data row2 col19\" >0</td>\n",
       "                        <td id=\"T_66d906a0_ce17_11eb_a81a_38c98602b198row2_col20\" class=\"data row2 col20\" >0</td>\n",
       "                        <td id=\"T_66d906a0_ce17_11eb_a81a_38c98602b198row2_col21\" class=\"data row2 col21\" >0</td>\n",
       "                        <td id=\"T_66d906a0_ce17_11eb_a81a_38c98602b198row2_col22\" class=\"data row2 col22\" >0</td>\n",
       "                        <td id=\"T_66d906a0_ce17_11eb_a81a_38c98602b198row2_col23\" class=\"data row2 col23\" >28</td>\n",
       "                        <td id=\"T_66d906a0_ce17_11eb_a81a_38c98602b198row2_col24\" class=\"data row2 col24\" >0</td>\n",
       "                        <td id=\"T_66d906a0_ce17_11eb_a81a_38c98602b198row2_col25\" class=\"data row2 col25\" >0</td>\n",
       "                        <td id=\"T_66d906a0_ce17_11eb_a81a_38c98602b198row2_col26\" class=\"data row2 col26\" >0</td>\n",
       "                        <td id=\"T_66d906a0_ce17_11eb_a81a_38c98602b198row2_col27\" class=\"data row2 col27\" >0</td>\n",
       "                        <td id=\"T_66d906a0_ce17_11eb_a81a_38c98602b198row2_col28\" class=\"data row2 col28\" >0</td>\n",
       "                        <td id=\"T_66d906a0_ce17_11eb_a81a_38c98602b198row2_col29\" class=\"data row2 col29\" >0</td>\n",
       "                        <td id=\"T_66d906a0_ce17_11eb_a81a_38c98602b198row2_col30\" class=\"data row2 col30\" >12</td>\n",
       "                        <td id=\"T_66d906a0_ce17_11eb_a81a_38c98602b198row2_col31\" class=\"data row2 col31\" >0</td>\n",
       "                        <td id=\"T_66d906a0_ce17_11eb_a81a_38c98602b198row2_col32\" class=\"data row2 col32\" >0</td>\n",
       "                        <td id=\"T_66d906a0_ce17_11eb_a81a_38c98602b198row2_col33\" class=\"data row2 col33\" >0</td>\n",
       "                        <td id=\"T_66d906a0_ce17_11eb_a81a_38c98602b198row2_col34\" class=\"data row2 col34\" >57</td>\n",
       "                        <td id=\"T_66d906a0_ce17_11eb_a81a_38c98602b198row2_col35\" class=\"data row2 col35\" >0</td>\n",
       "                        <td id=\"T_66d906a0_ce17_11eb_a81a_38c98602b198row2_col36\" class=\"data row2 col36\" >0</td>\n",
       "                        <td id=\"T_66d906a0_ce17_11eb_a81a_38c98602b198row2_col37\" class=\"data row2 col37\" >0</td>\n",
       "                        <td id=\"T_66d906a0_ce17_11eb_a81a_38c98602b198row2_col38\" class=\"data row2 col38\" >97</td>\n",
       "            </tr>\n",
       "            <tr>\n",
       "                        <th id=\"T_66d906a0_ce17_11eb_a81a_38c98602b198level0_row3\" class=\"row_heading level0 row3\" >INCORRECT OPERATION</th>\n",
       "                        <td id=\"T_66d906a0_ce17_11eb_a81a_38c98602b198row3_col0\" class=\"data row3 col0\" >0</td>\n",
       "                        <td id=\"T_66d906a0_ce17_11eb_a81a_38c98602b198row3_col1\" class=\"data row3 col1\" >20</td>\n",
       "                        <td id=\"T_66d906a0_ce17_11eb_a81a_38c98602b198row3_col2\" class=\"data row3 col2\" >0</td>\n",
       "                        <td id=\"T_66d906a0_ce17_11eb_a81a_38c98602b198row3_col3\" class=\"data row3 col3\" >0</td>\n",
       "                        <td id=\"T_66d906a0_ce17_11eb_a81a_38c98602b198row3_col4\" class=\"data row3 col4\" >0</td>\n",
       "                        <td id=\"T_66d906a0_ce17_11eb_a81a_38c98602b198row3_col5\" class=\"data row3 col5\" >0</td>\n",
       "                        <td id=\"T_66d906a0_ce17_11eb_a81a_38c98602b198row3_col6\" class=\"data row3 col6\" >0</td>\n",
       "                        <td id=\"T_66d906a0_ce17_11eb_a81a_38c98602b198row3_col7\" class=\"data row3 col7\" >0</td>\n",
       "                        <td id=\"T_66d906a0_ce17_11eb_a81a_38c98602b198row3_col8\" class=\"data row3 col8\" >0</td>\n",
       "                        <td id=\"T_66d906a0_ce17_11eb_a81a_38c98602b198row3_col9\" class=\"data row3 col9\" >0</td>\n",
       "                        <td id=\"T_66d906a0_ce17_11eb_a81a_38c98602b198row3_col10\" class=\"data row3 col10\" >0</td>\n",
       "                        <td id=\"T_66d906a0_ce17_11eb_a81a_38c98602b198row3_col11\" class=\"data row3 col11\" >0</td>\n",
       "                        <td id=\"T_66d906a0_ce17_11eb_a81a_38c98602b198row3_col12\" class=\"data row3 col12\" >10</td>\n",
       "                        <td id=\"T_66d906a0_ce17_11eb_a81a_38c98602b198row3_col13\" class=\"data row3 col13\" >71</td>\n",
       "                        <td id=\"T_66d906a0_ce17_11eb_a81a_38c98602b198row3_col14\" class=\"data row3 col14\" >84</td>\n",
       "                        <td id=\"T_66d906a0_ce17_11eb_a81a_38c98602b198row3_col15\" class=\"data row3 col15\" >0</td>\n",
       "                        <td id=\"T_66d906a0_ce17_11eb_a81a_38c98602b198row3_col16\" class=\"data row3 col16\" >0</td>\n",
       "                        <td id=\"T_66d906a0_ce17_11eb_a81a_38c98602b198row3_col17\" class=\"data row3 col17\" >0</td>\n",
       "                        <td id=\"T_66d906a0_ce17_11eb_a81a_38c98602b198row3_col18\" class=\"data row3 col18\" >0</td>\n",
       "                        <td id=\"T_66d906a0_ce17_11eb_a81a_38c98602b198row3_col19\" class=\"data row3 col19\" >0</td>\n",
       "                        <td id=\"T_66d906a0_ce17_11eb_a81a_38c98602b198row3_col20\" class=\"data row3 col20\" >0</td>\n",
       "                        <td id=\"T_66d906a0_ce17_11eb_a81a_38c98602b198row3_col21\" class=\"data row3 col21\" >0</td>\n",
       "                        <td id=\"T_66d906a0_ce17_11eb_a81a_38c98602b198row3_col22\" class=\"data row3 col22\" >0</td>\n",
       "                        <td id=\"T_66d906a0_ce17_11eb_a81a_38c98602b198row3_col23\" class=\"data row3 col23\" >0</td>\n",
       "                        <td id=\"T_66d906a0_ce17_11eb_a81a_38c98602b198row3_col24\" class=\"data row3 col24\" >0</td>\n",
       "                        <td id=\"T_66d906a0_ce17_11eb_a81a_38c98602b198row3_col25\" class=\"data row3 col25\" >86</td>\n",
       "                        <td id=\"T_66d906a0_ce17_11eb_a81a_38c98602b198row3_col26\" class=\"data row3 col26\" >0</td>\n",
       "                        <td id=\"T_66d906a0_ce17_11eb_a81a_38c98602b198row3_col27\" class=\"data row3 col27\" >0</td>\n",
       "                        <td id=\"T_66d906a0_ce17_11eb_a81a_38c98602b198row3_col28\" class=\"data row3 col28\" >69</td>\n",
       "                        <td id=\"T_66d906a0_ce17_11eb_a81a_38c98602b198row3_col29\" class=\"data row3 col29\" >37</td>\n",
       "                        <td id=\"T_66d906a0_ce17_11eb_a81a_38c98602b198row3_col30\" class=\"data row3 col30\" >0</td>\n",
       "                        <td id=\"T_66d906a0_ce17_11eb_a81a_38c98602b198row3_col31\" class=\"data row3 col31\" >0</td>\n",
       "                        <td id=\"T_66d906a0_ce17_11eb_a81a_38c98602b198row3_col32\" class=\"data row3 col32\" >0</td>\n",
       "                        <td id=\"T_66d906a0_ce17_11eb_a81a_38c98602b198row3_col33\" class=\"data row3 col33\" >0</td>\n",
       "                        <td id=\"T_66d906a0_ce17_11eb_a81a_38c98602b198row3_col34\" class=\"data row3 col34\" >0</td>\n",
       "                        <td id=\"T_66d906a0_ce17_11eb_a81a_38c98602b198row3_col35\" class=\"data row3 col35\" >0</td>\n",
       "                        <td id=\"T_66d906a0_ce17_11eb_a81a_38c98602b198row3_col36\" class=\"data row3 col36\" >0</td>\n",
       "                        <td id=\"T_66d906a0_ce17_11eb_a81a_38c98602b198row3_col37\" class=\"data row3 col37\" >0</td>\n",
       "                        <td id=\"T_66d906a0_ce17_11eb_a81a_38c98602b198row3_col38\" class=\"data row3 col38\" >377</td>\n",
       "            </tr>\n",
       "            <tr>\n",
       "                        <th id=\"T_66d906a0_ce17_11eb_a81a_38c98602b198level0_row4\" class=\"row_heading level0 row4\" >MATERIAL/WELD/EQUIP FAILURE</th>\n",
       "                        <td id=\"T_66d906a0_ce17_11eb_a81a_38c98602b198row4_col0\" class=\"data row4 col0\" >112</td>\n",
       "                        <td id=\"T_66d906a0_ce17_11eb_a81a_38c98602b198row4_col1\" class=\"data row4 col1\" >0</td>\n",
       "                        <td id=\"T_66d906a0_ce17_11eb_a81a_38c98602b198row4_col2\" class=\"data row4 col2\" >62</td>\n",
       "                        <td id=\"T_66d906a0_ce17_11eb_a81a_38c98602b198row4_col3\" class=\"data row4 col3\" >0</td>\n",
       "                        <td id=\"T_66d906a0_ce17_11eb_a81a_38c98602b198row4_col4\" class=\"data row4 col4\" >0</td>\n",
       "                        <td id=\"T_66d906a0_ce17_11eb_a81a_38c98602b198row4_col5\" class=\"data row4 col5\" >16</td>\n",
       "                        <td id=\"T_66d906a0_ce17_11eb_a81a_38c98602b198row4_col6\" class=\"data row4 col6\" >0</td>\n",
       "                        <td id=\"T_66d906a0_ce17_11eb_a81a_38c98602b198row4_col7\" class=\"data row4 col7\" >67</td>\n",
       "                        <td id=\"T_66d906a0_ce17_11eb_a81a_38c98602b198row4_col8\" class=\"data row4 col8\" >0</td>\n",
       "                        <td id=\"T_66d906a0_ce17_11eb_a81a_38c98602b198row4_col9\" class=\"data row4 col9\" >0</td>\n",
       "                        <td id=\"T_66d906a0_ce17_11eb_a81a_38c98602b198row4_col10\" class=\"data row4 col10\" >0</td>\n",
       "                        <td id=\"T_66d906a0_ce17_11eb_a81a_38c98602b198row4_col11\" class=\"data row4 col11\" >0</td>\n",
       "                        <td id=\"T_66d906a0_ce17_11eb_a81a_38c98602b198row4_col12\" class=\"data row4 col12\" >0</td>\n",
       "                        <td id=\"T_66d906a0_ce17_11eb_a81a_38c98602b198row4_col13\" class=\"data row4 col13\" >0</td>\n",
       "                        <td id=\"T_66d906a0_ce17_11eb_a81a_38c98602b198row4_col14\" class=\"data row4 col14\" >0</td>\n",
       "                        <td id=\"T_66d906a0_ce17_11eb_a81a_38c98602b198row4_col15\" class=\"data row4 col15\" >0</td>\n",
       "                        <td id=\"T_66d906a0_ce17_11eb_a81a_38c98602b198row4_col16\" class=\"data row4 col16\" >0</td>\n",
       "                        <td id=\"T_66d906a0_ce17_11eb_a81a_38c98602b198row4_col17\" class=\"data row4 col17\" >0</td>\n",
       "                        <td id=\"T_66d906a0_ce17_11eb_a81a_38c98602b198row4_col18\" class=\"data row4 col18\" >171</td>\n",
       "                        <td id=\"T_66d906a0_ce17_11eb_a81a_38c98602b198row4_col19\" class=\"data row4 col19\" >70</td>\n",
       "                        <td id=\"T_66d906a0_ce17_11eb_a81a_38c98602b198row4_col20\" class=\"data row4 col20\" >0</td>\n",
       "                        <td id=\"T_66d906a0_ce17_11eb_a81a_38c98602b198row4_col21\" class=\"data row4 col21\" >0</td>\n",
       "                        <td id=\"T_66d906a0_ce17_11eb_a81a_38c98602b198row4_col22\" class=\"data row4 col22\" >286</td>\n",
       "                        <td id=\"T_66d906a0_ce17_11eb_a81a_38c98602b198row4_col23\" class=\"data row4 col23\" >0</td>\n",
       "                        <td id=\"T_66d906a0_ce17_11eb_a81a_38c98602b198row4_col24\" class=\"data row4 col24\" >204</td>\n",
       "                        <td id=\"T_66d906a0_ce17_11eb_a81a_38c98602b198row4_col25\" class=\"data row4 col25\" >0</td>\n",
       "                        <td id=\"T_66d906a0_ce17_11eb_a81a_38c98602b198row4_col26\" class=\"data row4 col26\" >0</td>\n",
       "                        <td id=\"T_66d906a0_ce17_11eb_a81a_38c98602b198row4_col27\" class=\"data row4 col27\" >0</td>\n",
       "                        <td id=\"T_66d906a0_ce17_11eb_a81a_38c98602b198row4_col28\" class=\"data row4 col28\" >0</td>\n",
       "                        <td id=\"T_66d906a0_ce17_11eb_a81a_38c98602b198row4_col29\" class=\"data row4 col29\" >0</td>\n",
       "                        <td id=\"T_66d906a0_ce17_11eb_a81a_38c98602b198row4_col30\" class=\"data row4 col30\" >0</td>\n",
       "                        <td id=\"T_66d906a0_ce17_11eb_a81a_38c98602b198row4_col31\" class=\"data row4 col31\" >0</td>\n",
       "                        <td id=\"T_66d906a0_ce17_11eb_a81a_38c98602b198row4_col32\" class=\"data row4 col32\" >296</td>\n",
       "                        <td id=\"T_66d906a0_ce17_11eb_a81a_38c98602b198row4_col33\" class=\"data row4 col33\" >0</td>\n",
       "                        <td id=\"T_66d906a0_ce17_11eb_a81a_38c98602b198row4_col34\" class=\"data row4 col34\" >0</td>\n",
       "                        <td id=\"T_66d906a0_ce17_11eb_a81a_38c98602b198row4_col35\" class=\"data row4 col35\" >151</td>\n",
       "                        <td id=\"T_66d906a0_ce17_11eb_a81a_38c98602b198row4_col36\" class=\"data row4 col36\" >0</td>\n",
       "                        <td id=\"T_66d906a0_ce17_11eb_a81a_38c98602b198row4_col37\" class=\"data row4 col37\" >0</td>\n",
       "                        <td id=\"T_66d906a0_ce17_11eb_a81a_38c98602b198row4_col38\" class=\"data row4 col38\" >1435</td>\n",
       "            </tr>\n",
       "            <tr>\n",
       "                        <th id=\"T_66d906a0_ce17_11eb_a81a_38c98602b198level0_row5\" class=\"row_heading level0 row5\" >NATURAL FORCE DAMAGE</th>\n",
       "                        <td id=\"T_66d906a0_ce17_11eb_a81a_38c98602b198row5_col0\" class=\"data row5 col0\" >0</td>\n",
       "                        <td id=\"T_66d906a0_ce17_11eb_a81a_38c98602b198row5_col1\" class=\"data row5 col1\" >0</td>\n",
       "                        <td id=\"T_66d906a0_ce17_11eb_a81a_38c98602b198row5_col2\" class=\"data row5 col2\" >0</td>\n",
       "                        <td id=\"T_66d906a0_ce17_11eb_a81a_38c98602b198row5_col3\" class=\"data row5 col3\" >8</td>\n",
       "                        <td id=\"T_66d906a0_ce17_11eb_a81a_38c98602b198row5_col4\" class=\"data row5 col4\" >0</td>\n",
       "                        <td id=\"T_66d906a0_ce17_11eb_a81a_38c98602b198row5_col5\" class=\"data row5 col5\" >0</td>\n",
       "                        <td id=\"T_66d906a0_ce17_11eb_a81a_38c98602b198row5_col6\" class=\"data row5 col6\" >0</td>\n",
       "                        <td id=\"T_66d906a0_ce17_11eb_a81a_38c98602b198row5_col7\" class=\"data row5 col7\" >0</td>\n",
       "                        <td id=\"T_66d906a0_ce17_11eb_a81a_38c98602b198row5_col8\" class=\"data row5 col8\" >0</td>\n",
       "                        <td id=\"T_66d906a0_ce17_11eb_a81a_38c98602b198row5_col9\" class=\"data row5 col9\" >0</td>\n",
       "                        <td id=\"T_66d906a0_ce17_11eb_a81a_38c98602b198row5_col10\" class=\"data row5 col10\" >25</td>\n",
       "                        <td id=\"T_66d906a0_ce17_11eb_a81a_38c98602b198row5_col11\" class=\"data row5 col11\" >1</td>\n",
       "                        <td id=\"T_66d906a0_ce17_11eb_a81a_38c98602b198row5_col12\" class=\"data row5 col12\" >0</td>\n",
       "                        <td id=\"T_66d906a0_ce17_11eb_a81a_38c98602b198row5_col13\" class=\"data row5 col13\" >0</td>\n",
       "                        <td id=\"T_66d906a0_ce17_11eb_a81a_38c98602b198row5_col14\" class=\"data row5 col14\" >0</td>\n",
       "                        <td id=\"T_66d906a0_ce17_11eb_a81a_38c98602b198row5_col15\" class=\"data row5 col15\" >0</td>\n",
       "                        <td id=\"T_66d906a0_ce17_11eb_a81a_38c98602b198row5_col16\" class=\"data row5 col16\" >0</td>\n",
       "                        <td id=\"T_66d906a0_ce17_11eb_a81a_38c98602b198row5_col17\" class=\"data row5 col17\" >19</td>\n",
       "                        <td id=\"T_66d906a0_ce17_11eb_a81a_38c98602b198row5_col18\" class=\"data row5 col18\" >0</td>\n",
       "                        <td id=\"T_66d906a0_ce17_11eb_a81a_38c98602b198row5_col19\" class=\"data row5 col19\" >0</td>\n",
       "                        <td id=\"T_66d906a0_ce17_11eb_a81a_38c98602b198row5_col20\" class=\"data row5 col20\" >0</td>\n",
       "                        <td id=\"T_66d906a0_ce17_11eb_a81a_38c98602b198row5_col21\" class=\"data row5 col21\" >0</td>\n",
       "                        <td id=\"T_66d906a0_ce17_11eb_a81a_38c98602b198row5_col22\" class=\"data row5 col22\" >0</td>\n",
       "                        <td id=\"T_66d906a0_ce17_11eb_a81a_38c98602b198row5_col23\" class=\"data row5 col23\" >0</td>\n",
       "                        <td id=\"T_66d906a0_ce17_11eb_a81a_38c98602b198row5_col24\" class=\"data row5 col24\" >0</td>\n",
       "                        <td id=\"T_66d906a0_ce17_11eb_a81a_38c98602b198row5_col25\" class=\"data row5 col25\" >0</td>\n",
       "                        <td id=\"T_66d906a0_ce17_11eb_a81a_38c98602b198row5_col26\" class=\"data row5 col26\" >8</td>\n",
       "                        <td id=\"T_66d906a0_ce17_11eb_a81a_38c98602b198row5_col27\" class=\"data row5 col27\" >0</td>\n",
       "                        <td id=\"T_66d906a0_ce17_11eb_a81a_38c98602b198row5_col28\" class=\"data row5 col28\" >0</td>\n",
       "                        <td id=\"T_66d906a0_ce17_11eb_a81a_38c98602b198row5_col29\" class=\"data row5 col29\" >0</td>\n",
       "                        <td id=\"T_66d906a0_ce17_11eb_a81a_38c98602b198row5_col30\" class=\"data row5 col30\" >0</td>\n",
       "                        <td id=\"T_66d906a0_ce17_11eb_a81a_38c98602b198row5_col31\" class=\"data row5 col31\" >0</td>\n",
       "                        <td id=\"T_66d906a0_ce17_11eb_a81a_38c98602b198row5_col32\" class=\"data row5 col32\" >0</td>\n",
       "                        <td id=\"T_66d906a0_ce17_11eb_a81a_38c98602b198row5_col33\" class=\"data row5 col33\" >57</td>\n",
       "                        <td id=\"T_66d906a0_ce17_11eb_a81a_38c98602b198row5_col34\" class=\"data row5 col34\" >0</td>\n",
       "                        <td id=\"T_66d906a0_ce17_11eb_a81a_38c98602b198row5_col35\" class=\"data row5 col35\" >0</td>\n",
       "                        <td id=\"T_66d906a0_ce17_11eb_a81a_38c98602b198row5_col36\" class=\"data row5 col36\" >0</td>\n",
       "                        <td id=\"T_66d906a0_ce17_11eb_a81a_38c98602b198row5_col37\" class=\"data row5 col37\" >0</td>\n",
       "                        <td id=\"T_66d906a0_ce17_11eb_a81a_38c98602b198row5_col38\" class=\"data row5 col38\" >118</td>\n",
       "            </tr>\n",
       "            <tr>\n",
       "                        <th id=\"T_66d906a0_ce17_11eb_a81a_38c98602b198level0_row6\" class=\"row_heading level0 row6\" >OTHER OUTSIDE FORCE DAMAGE</th>\n",
       "                        <td id=\"T_66d906a0_ce17_11eb_a81a_38c98602b198row6_col0\" class=\"data row6 col0\" >0</td>\n",
       "                        <td id=\"T_66d906a0_ce17_11eb_a81a_38c98602b198row6_col1\" class=\"data row6 col1\" >0</td>\n",
       "                        <td id=\"T_66d906a0_ce17_11eb_a81a_38c98602b198row6_col2\" class=\"data row6 col2\" >0</td>\n",
       "                        <td id=\"T_66d906a0_ce17_11eb_a81a_38c98602b198row6_col3\" class=\"data row6 col3\" >0</td>\n",
       "                        <td id=\"T_66d906a0_ce17_11eb_a81a_38c98602b198row6_col4\" class=\"data row6 col4\" >11</td>\n",
       "                        <td id=\"T_66d906a0_ce17_11eb_a81a_38c98602b198row6_col5\" class=\"data row6 col5\" >0</td>\n",
       "                        <td id=\"T_66d906a0_ce17_11eb_a81a_38c98602b198row6_col6\" class=\"data row6 col6\" >0</td>\n",
       "                        <td id=\"T_66d906a0_ce17_11eb_a81a_38c98602b198row6_col7\" class=\"data row6 col7\" >0</td>\n",
       "                        <td id=\"T_66d906a0_ce17_11eb_a81a_38c98602b198row6_col8\" class=\"data row6 col8\" >4</td>\n",
       "                        <td id=\"T_66d906a0_ce17_11eb_a81a_38c98602b198row6_col9\" class=\"data row6 col9\" >1</td>\n",
       "                        <td id=\"T_66d906a0_ce17_11eb_a81a_38c98602b198row6_col10\" class=\"data row6 col10\" >0</td>\n",
       "                        <td id=\"T_66d906a0_ce17_11eb_a81a_38c98602b198row6_col11\" class=\"data row6 col11\" >0</td>\n",
       "                        <td id=\"T_66d906a0_ce17_11eb_a81a_38c98602b198row6_col12\" class=\"data row6 col12\" >0</td>\n",
       "                        <td id=\"T_66d906a0_ce17_11eb_a81a_38c98602b198row6_col13\" class=\"data row6 col13\" >0</td>\n",
       "                        <td id=\"T_66d906a0_ce17_11eb_a81a_38c98602b198row6_col14\" class=\"data row6 col14\" >0</td>\n",
       "                        <td id=\"T_66d906a0_ce17_11eb_a81a_38c98602b198row6_col15\" class=\"data row6 col15\" >3</td>\n",
       "                        <td id=\"T_66d906a0_ce17_11eb_a81a_38c98602b198row6_col16\" class=\"data row6 col16\" >0</td>\n",
       "                        <td id=\"T_66d906a0_ce17_11eb_a81a_38c98602b198row6_col17\" class=\"data row6 col17\" >0</td>\n",
       "                        <td id=\"T_66d906a0_ce17_11eb_a81a_38c98602b198row6_col18\" class=\"data row6 col18\" >0</td>\n",
       "                        <td id=\"T_66d906a0_ce17_11eb_a81a_38c98602b198row6_col19\" class=\"data row6 col19\" >0</td>\n",
       "                        <td id=\"T_66d906a0_ce17_11eb_a81a_38c98602b198row6_col20\" class=\"data row6 col20\" >1</td>\n",
       "                        <td id=\"T_66d906a0_ce17_11eb_a81a_38c98602b198row6_col21\" class=\"data row6 col21\" >0</td>\n",
       "                        <td id=\"T_66d906a0_ce17_11eb_a81a_38c98602b198row6_col22\" class=\"data row6 col22\" >0</td>\n",
       "                        <td id=\"T_66d906a0_ce17_11eb_a81a_38c98602b198row6_col23\" class=\"data row6 col23\" >0</td>\n",
       "                        <td id=\"T_66d906a0_ce17_11eb_a81a_38c98602b198row6_col24\" class=\"data row6 col24\" >0</td>\n",
       "                        <td id=\"T_66d906a0_ce17_11eb_a81a_38c98602b198row6_col25\" class=\"data row6 col25\" >0</td>\n",
       "                        <td id=\"T_66d906a0_ce17_11eb_a81a_38c98602b198row6_col26\" class=\"data row6 col26\" >0</td>\n",
       "                        <td id=\"T_66d906a0_ce17_11eb_a81a_38c98602b198row6_col27\" class=\"data row6 col27\" >15</td>\n",
       "                        <td id=\"T_66d906a0_ce17_11eb_a81a_38c98602b198row6_col28\" class=\"data row6 col28\" >0</td>\n",
       "                        <td id=\"T_66d906a0_ce17_11eb_a81a_38c98602b198row6_col29\" class=\"data row6 col29\" >0</td>\n",
       "                        <td id=\"T_66d906a0_ce17_11eb_a81a_38c98602b198row6_col30\" class=\"data row6 col30\" >0</td>\n",
       "                        <td id=\"T_66d906a0_ce17_11eb_a81a_38c98602b198row6_col31\" class=\"data row6 col31\" >1</td>\n",
       "                        <td id=\"T_66d906a0_ce17_11eb_a81a_38c98602b198row6_col32\" class=\"data row6 col32\" >0</td>\n",
       "                        <td id=\"T_66d906a0_ce17_11eb_a81a_38c98602b198row6_col33\" class=\"data row6 col33\" >0</td>\n",
       "                        <td id=\"T_66d906a0_ce17_11eb_a81a_38c98602b198row6_col34\" class=\"data row6 col34\" >0</td>\n",
       "                        <td id=\"T_66d906a0_ce17_11eb_a81a_38c98602b198row6_col35\" class=\"data row6 col35\" >0</td>\n",
       "                        <td id=\"T_66d906a0_ce17_11eb_a81a_38c98602b198row6_col36\" class=\"data row6 col36\" >0</td>\n",
       "                        <td id=\"T_66d906a0_ce17_11eb_a81a_38c98602b198row6_col37\" class=\"data row6 col37\" >21</td>\n",
       "                        <td id=\"T_66d906a0_ce17_11eb_a81a_38c98602b198row6_col38\" class=\"data row6 col38\" >57</td>\n",
       "            </tr>\n",
       "            <tr>\n",
       "                        <th id=\"T_66d906a0_ce17_11eb_a81a_38c98602b198level0_row7\" class=\"row_heading level0 row7\" >All</th>\n",
       "                        <td id=\"T_66d906a0_ce17_11eb_a81a_38c98602b198row7_col0\" class=\"data row7 col0\" >112</td>\n",
       "                        <td id=\"T_66d906a0_ce17_11eb_a81a_38c98602b198row7_col1\" class=\"data row7 col1\" >20</td>\n",
       "                        <td id=\"T_66d906a0_ce17_11eb_a81a_38c98602b198row7_col2\" class=\"data row7 col2\" >62</td>\n",
       "                        <td id=\"T_66d906a0_ce17_11eb_a81a_38c98602b198row7_col3\" class=\"data row7 col3\" >8</td>\n",
       "                        <td id=\"T_66d906a0_ce17_11eb_a81a_38c98602b198row7_col4\" class=\"data row7 col4\" >11</td>\n",
       "                        <td id=\"T_66d906a0_ce17_11eb_a81a_38c98602b198row7_col5\" class=\"data row7 col5\" >16</td>\n",
       "                        <td id=\"T_66d906a0_ce17_11eb_a81a_38c98602b198row7_col6\" class=\"data row7 col6\" >230</td>\n",
       "                        <td id=\"T_66d906a0_ce17_11eb_a81a_38c98602b198row7_col7\" class=\"data row7 col7\" >67</td>\n",
       "                        <td id=\"T_66d906a0_ce17_11eb_a81a_38c98602b198row7_col8\" class=\"data row7 col8\" >4</td>\n",
       "                        <td id=\"T_66d906a0_ce17_11eb_a81a_38c98602b198row7_col9\" class=\"data row7 col9\" >1</td>\n",
       "                        <td id=\"T_66d906a0_ce17_11eb_a81a_38c98602b198row7_col10\" class=\"data row7 col10\" >25</td>\n",
       "                        <td id=\"T_66d906a0_ce17_11eb_a81a_38c98602b198row7_col11\" class=\"data row7 col11\" >1</td>\n",
       "                        <td id=\"T_66d906a0_ce17_11eb_a81a_38c98602b198row7_col12\" class=\"data row7 col12\" >10</td>\n",
       "                        <td id=\"T_66d906a0_ce17_11eb_a81a_38c98602b198row7_col13\" class=\"data row7 col13\" >71</td>\n",
       "                        <td id=\"T_66d906a0_ce17_11eb_a81a_38c98602b198row7_col14\" class=\"data row7 col14\" >84</td>\n",
       "                        <td id=\"T_66d906a0_ce17_11eb_a81a_38c98602b198row7_col15\" class=\"data row7 col15\" >3</td>\n",
       "                        <td id=\"T_66d906a0_ce17_11eb_a81a_38c98602b198row7_col16\" class=\"data row7 col16\" >362</td>\n",
       "                        <td id=\"T_66d906a0_ce17_11eb_a81a_38c98602b198row7_col17\" class=\"data row7 col17\" >19</td>\n",
       "                        <td id=\"T_66d906a0_ce17_11eb_a81a_38c98602b198row7_col18\" class=\"data row7 col18\" >171</td>\n",
       "                        <td id=\"T_66d906a0_ce17_11eb_a81a_38c98602b198row7_col19\" class=\"data row7 col19\" >70</td>\n",
       "                        <td id=\"T_66d906a0_ce17_11eb_a81a_38c98602b198row7_col20\" class=\"data row7 col20\" >1</td>\n",
       "                        <td id=\"T_66d906a0_ce17_11eb_a81a_38c98602b198row7_col21\" class=\"data row7 col21\" >76</td>\n",
       "                        <td id=\"T_66d906a0_ce17_11eb_a81a_38c98602b198row7_col22\" class=\"data row7 col22\" >286</td>\n",
       "                        <td id=\"T_66d906a0_ce17_11eb_a81a_38c98602b198row7_col23\" class=\"data row7 col23\" >28</td>\n",
       "                        <td id=\"T_66d906a0_ce17_11eb_a81a_38c98602b198row7_col24\" class=\"data row7 col24\" >204</td>\n",
       "                        <td id=\"T_66d906a0_ce17_11eb_a81a_38c98602b198row7_col25\" class=\"data row7 col25\" >86</td>\n",
       "                        <td id=\"T_66d906a0_ce17_11eb_a81a_38c98602b198row7_col26\" class=\"data row7 col26\" >8</td>\n",
       "                        <td id=\"T_66d906a0_ce17_11eb_a81a_38c98602b198row7_col27\" class=\"data row7 col27\" >15</td>\n",
       "                        <td id=\"T_66d906a0_ce17_11eb_a81a_38c98602b198row7_col28\" class=\"data row7 col28\" >69</td>\n",
       "                        <td id=\"T_66d906a0_ce17_11eb_a81a_38c98602b198row7_col29\" class=\"data row7 col29\" >37</td>\n",
       "                        <td id=\"T_66d906a0_ce17_11eb_a81a_38c98602b198row7_col30\" class=\"data row7 col30\" >12</td>\n",
       "                        <td id=\"T_66d906a0_ce17_11eb_a81a_38c98602b198row7_col31\" class=\"data row7 col31\" >1</td>\n",
       "                        <td id=\"T_66d906a0_ce17_11eb_a81a_38c98602b198row7_col32\" class=\"data row7 col32\" >296</td>\n",
       "                        <td id=\"T_66d906a0_ce17_11eb_a81a_38c98602b198row7_col33\" class=\"data row7 col33\" >57</td>\n",
       "                        <td id=\"T_66d906a0_ce17_11eb_a81a_38c98602b198row7_col34\" class=\"data row7 col34\" >57</td>\n",
       "                        <td id=\"T_66d906a0_ce17_11eb_a81a_38c98602b198row7_col35\" class=\"data row7 col35\" >151</td>\n",
       "                        <td id=\"T_66d906a0_ce17_11eb_a81a_38c98602b198row7_col36\" class=\"data row7 col36\" >41</td>\n",
       "                        <td id=\"T_66d906a0_ce17_11eb_a81a_38c98602b198row7_col37\" class=\"data row7 col37\" >21</td>\n",
       "                        <td id=\"T_66d906a0_ce17_11eb_a81a_38c98602b198row7_col38\" class=\"data row7 col38\" >2793</td>\n",
       "            </tr>\n",
       "    </tbody></table>"
      ],
      "text/plain": [
       "<pandas.io.formats.style.Styler at 0x7fe671b24b10>"
      ]
     },
     "execution_count": 15,
     "metadata": {},
     "output_type": "execute_result"
    }
   ],
   "source": [
    "#create a crosstab to dig deeper into the reasons. \n",
    "cm = sns.light_palette(\"green\", as_cmap=True)\n",
    "pd.crosstab(oil['Cause Category'],oil['Cause Subcategory'], margins=True).style.background_gradient(cmap = cm)"
   ]
  },
  {
   "cell_type": "code",
   "execution_count": 16,
   "metadata": {
    "_uuid": "f3353bd65930e0455a85574e2f858d464fe2c704",
    "jupyter": {
     "outputs_hidden": true
    }
   },
   "outputs": [],
   "source": [
    "Material_Weld_Equipment_Failure = oil[oil['Cause Category'] == 'MATERIAL/WELD/EQUIP FAILURE']\n",
    "CORROSION = oil[oil['Cause Category'] == 'CORROSION']\n",
    "INCORRECT_OPERATION = oil[oil['Cause Category'] == 'INCORRECT OPERATION']\n",
    "NATURAL_FORCE_DAMAGE = oil[oil['Cause Category'] == 'NATURAL FORCE DAMAGE']\n",
    "EXCAVATION_DAMAGE = oil[oil['Cause Category'] == 'EXCAVATION DAMAGE']\n",
    "OTHER_OUTSIDE_FORCE_DAMAGE = oil[oil['Cause Category'] == 'OTHER OUTSIDE FORCE DAMAGE']\n",
    "ALL_OTHER_CAUSES = oil[oil['Cause Category'] == 'ALL OTHER CAUSES']"
   ]
  },
  {
   "cell_type": "code",
   "execution_count": 17,
   "metadata": {
    "_kg_hide-input": true,
    "_uuid": "c8d45d72a868ab3438b6d6cd38dc6d9c32d143d2"
   },
   "outputs": [
    {
     "name": "stderr",
     "output_type": "stream",
     "text": [
      "/Users/admin/opt/anaconda3/lib/python3.7/site-packages/plotly/tools.py:465: DeprecationWarning:\n",
      "\n",
      "plotly.tools.make_subplots is deprecated, please use plotly.subplots.make_subplots instead\n",
      "\n"
     ]
    },
    {
     "data": {
      "application/vnd.plotly.v1+json": {
       "config": {
        "linkText": "Export to plot.ly",
        "plotlyServerURL": "https://plot.ly",
        "showLink": false
       },
       "data": [
        {
         "marker": {
          "color": [
           296,
           286,
           204,
           171,
           151,
           112,
           70,
           67,
           62,
           16
          ],
          "colorscale": [
           [
            0,
            "#440154"
           ],
           [
            0.1111111111111111,
            "#482878"
           ],
           [
            0.2222222222222222,
            "#3e4989"
           ],
           [
            0.3333333333333333,
            "#31688e"
           ],
           [
            0.4444444444444444,
            "#26828e"
           ],
           [
            0.5555555555555556,
            "#1f9e89"
           ],
           [
            0.6666666666666666,
            "#35b779"
           ],
           [
            0.7777777777777778,
            "#6ece58"
           ],
           [
            0.8888888888888888,
            "#b5de2b"
           ],
           [
            1,
            "#fde725"
           ]
          ],
          "reversescale": true
         },
         "name": "Material/Weld/Equipment Failure Count",
         "type": "bar",
         "x": [
          "PUMP OR PUMP-RELATED EQUIPMENT",
          "NON-THREADED CONNECTION FAILURE",
          "OTHER EQUIPMENT FAILURE",
          "MALFUNCTION OF CONTROL/RELIEF EQUIPMENT",
          "THREADED CONNECTION/COUPLING FAILURE",
          "CONSTRUCTION, INSTALLATION OR FABRICATION-RELATED",
          "MANUFACTURING-RELATED",
          "FAILURE OF EQUIPMENT BODY",
          "DEFECTIVE OR LOOSE TUBING/FITTING",
          "ENVIRONMENTAL CRACKING-RELATED"
         ],
         "xaxis": "x",
         "y": [
          296,
          286,
          204,
          171,
          151,
          112,
          70,
          67,
          62,
          16
         ],
         "yaxis": "y"
        },
        {
         "marker": {
          "color": [
           362,
           230
          ],
          "colorscale": [
           [
            0,
            "#440154"
           ],
           [
            0.1111111111111111,
            "#482878"
           ],
           [
            0.2222222222222222,
            "#3e4989"
           ],
           [
            0.3333333333333333,
            "#31688e"
           ],
           [
            0.4444444444444444,
            "#26828e"
           ],
           [
            0.5555555555555556,
            "#1f9e89"
           ],
           [
            0.6666666666666666,
            "#35b779"
           ],
           [
            0.7777777777777778,
            "#6ece58"
           ],
           [
            0.8888888888888888,
            "#b5de2b"
           ],
           [
            1,
            "#fde725"
           ]
          ],
          "reversescale": true
         },
         "name": "Corroison Count",
         "type": "bar",
         "x": [
          "INTERNAL",
          "EXTERNAL"
         ],
         "xaxis": "x2",
         "y": [
          362,
          230
         ],
         "yaxis": "y2"
        },
        {
         "marker": {
          "color": [
           86,
           84,
           71,
           69,
           37,
           20,
           10
          ],
          "colorscale": [
           [
            0,
            "#440154"
           ],
           [
            0.1111111111111111,
            "#482878"
           ],
           [
            0.2222222222222222,
            "#3e4989"
           ],
           [
            0.3333333333333333,
            "#31688e"
           ],
           [
            0.4444444444444444,
            "#26828e"
           ],
           [
            0.5555555555555556,
            "#1f9e89"
           ],
           [
            0.6666666666666666,
            "#35b779"
           ],
           [
            0.7777777777777778,
            "#6ece58"
           ],
           [
            0.8888888888888888,
            "#b5de2b"
           ],
           [
            1,
            "#fde725"
           ]
          ],
          "reversescale": true
         },
         "name": "INCORRECT OPERATION COUNT",
         "type": "bar",
         "x": [
          "OTHER INCORRECT OPERATION",
          "INCORRECT VALVE POSITION",
          "INCORRECT INSTALLATION",
          "OVERFILL/OVERFLOW OF TANK/VESSEL/SUMP",
          "PIPELINE/EQUIPMENT OVERPRESSURED",
          "DAMAGE BY OPERATOR OR OPERATOR'S CONTRACTOR",
          "INCORRECT EQUIPMENT"
         ],
         "xaxis": "x3",
         "y": [
          86,
          84,
          71,
          69,
          37,
          20,
          10
         ],
         "yaxis": "y3"
        },
        {
         "marker": {
          "color": [
           57,
           25,
           19,
           8,
           8,
           1
          ],
          "colorscale": [
           [
            0,
            "#440154"
           ],
           [
            0.1111111111111111,
            "#482878"
           ],
           [
            0.2222222222222222,
            "#3e4989"
           ],
           [
            0.3333333333333333,
            "#31688e"
           ],
           [
            0.4444444444444444,
            "#26828e"
           ],
           [
            0.5555555555555556,
            "#1f9e89"
           ],
           [
            0.6666666666666666,
            "#35b779"
           ],
           [
            0.7777777777777778,
            "#6ece58"
           ],
           [
            0.8888888888888888,
            "#b5de2b"
           ],
           [
            1,
            "#fde725"
           ]
          ],
          "reversescale": true
         },
         "name": "NATURAL FORCE DAMAGE COUNT",
         "type": "bar",
         "x": [
          "TEMPERATURE",
          "HEAVY RAINS/FLOODS",
          "LIGHTNING",
          "EARTH MOVEMENT",
          "OTHER NATURAL FORCE DAMAGE",
          "HIGH WINDS"
         ],
         "xaxis": "x4",
         "y": [
          57,
          25,
          19,
          8,
          8,
          1
         ],
         "yaxis": "y4"
        },
        {
         "marker": {
          "color": [
           57,
           28,
           12
          ],
          "colorscale": [
           [
            0,
            "#440154"
           ],
           [
            0.1111111111111111,
            "#482878"
           ],
           [
            0.2222222222222222,
            "#3e4989"
           ],
           [
            0.3333333333333333,
            "#31688e"
           ],
           [
            0.4444444444444444,
            "#26828e"
           ],
           [
            0.5555555555555556,
            "#1f9e89"
           ],
           [
            0.6666666666666666,
            "#35b779"
           ],
           [
            0.7777777777777778,
            "#6ece58"
           ],
           [
            0.8888888888888888,
            "#b5de2b"
           ],
           [
            1,
            "#fde725"
           ]
          ],
          "reversescale": true
         },
         "name": "EXCAVATION DAMAGE COUNT",
         "type": "bar",
         "x": [
          "THIRD PARTY EXCAVATION DAMAGE",
          "OPERATOR/CONTRACTOR EXCAVATION DAMAGE",
          "PREVIOUS DAMAGE DUE TO EXCAVATION"
         ],
         "xaxis": "x5",
         "y": [
          57,
          28,
          12
         ],
         "yaxis": "y5"
        },
        {
         "marker": {
          "color": [
           21,
           15,
           11,
           4,
           3,
           1,
           1,
           1
          ],
          "colorscale": [
           [
            0,
            "#440154"
           ],
           [
            0.1111111111111111,
            "#482878"
           ],
           [
            0.2222222222222222,
            "#3e4989"
           ],
           [
            0.3333333333333333,
            "#31688e"
           ],
           [
            0.4444444444444444,
            "#26828e"
           ],
           [
            0.5555555555555556,
            "#1f9e89"
           ],
           [
            0.6666666666666666,
            "#35b779"
           ],
           [
            0.7777777777777778,
            "#6ece58"
           ],
           [
            0.8888888888888888,
            "#b5de2b"
           ],
           [
            1,
            "#fde725"
           ]
          ],
          "reversescale": true
         },
         "name": "OTHER OUTSIDE FORCE DAMAGE COUNT",
         "type": "bar",
         "x": [
          "VEHICLE NOT ENGAGED IN EXCAVATION",
          "OTHER OUTSIDE FORCE DAMAGE",
          "ELECTRICAL ARCING FROM OTHER EQUIPMENT/FACILITY",
          "FIRE/EXPLOSION AS PRIMARY CAUSE",
          "INTENTIONAL DAMAGE",
          "MARITIME EQUIPMENT OR VESSEL ADRIFT",
          "PREVIOUS MECHANICAL DAMAGE",
          "FISHING OR MARITIME ACTIVITY"
         ],
         "xaxis": "x6",
         "y": [
          21,
          15,
          11,
          4,
          3,
          1,
          1,
          1
         ],
         "yaxis": "y6"
        },
        {
         "marker": {
          "color": [
           76,
           41
          ],
          "colorscale": [
           [
            0,
            "#440154"
           ],
           [
            0.1111111111111111,
            "#482878"
           ],
           [
            0.2222222222222222,
            "#3e4989"
           ],
           [
            0.3333333333333333,
            "#31688e"
           ],
           [
            0.4444444444444444,
            "#26828e"
           ],
           [
            0.5555555555555556,
            "#1f9e89"
           ],
           [
            0.6666666666666666,
            "#35b779"
           ],
           [
            0.7777777777777778,
            "#6ece58"
           ],
           [
            0.8888888888888888,
            "#b5de2b"
           ],
           [
            1,
            "#fde725"
           ]
          ],
          "reversescale": true
         },
         "name": "ALL OTHER CAUSES COUNT",
         "type": "bar",
         "x": [
          "MISCELLANEOUS",
          "UNKNOWN"
         ],
         "xaxis": "x7",
         "y": [
          76,
          41
         ],
         "yaxis": "y7"
        }
       ],
       "layout": {
        "annotations": [
         {
          "font": {
           "size": 16
          },
          "showarrow": false,
          "text": "MATERIAL/WELD/EQUIPMENT FAILURE",
          "x": 0.14444444444444446,
          "xanchor": "center",
          "xref": "paper",
          "y": 1,
          "yanchor": "bottom",
          "yref": "paper"
         },
         {
          "font": {
           "size": 16
          },
          "showarrow": false,
          "text": "CORROSION",
          "x": 0.5,
          "xanchor": "center",
          "xref": "paper",
          "y": 1,
          "yanchor": "bottom",
          "yref": "paper"
         },
         {
          "font": {
           "size": 16
          },
          "showarrow": false,
          "text": "INCORRECT OPERATION",
          "x": 0.8555555555555556,
          "xanchor": "center",
          "xref": "paper",
          "y": 1,
          "yanchor": "bottom",
          "yref": "paper"
         },
         {
          "font": {
           "size": 16
          },
          "showarrow": false,
          "text": "NATURAL FORCE DAMAGE",
          "x": 0.14444444444444446,
          "xanchor": "center",
          "xref": "paper",
          "y": 0.6111111111111112,
          "yanchor": "bottom",
          "yref": "paper"
         },
         {
          "font": {
           "size": 16
          },
          "showarrow": false,
          "text": "EXCAVATION DAMAGE",
          "x": 0.5,
          "xanchor": "center",
          "xref": "paper",
          "y": 0.6111111111111112,
          "yanchor": "bottom",
          "yref": "paper"
         },
         {
          "font": {
           "size": 16
          },
          "showarrow": false,
          "text": "OTHER OUTSIDE FORCE DAMAGE",
          "x": 0.8555555555555556,
          "xanchor": "center",
          "xref": "paper",
          "y": 0.6111111111111112,
          "yanchor": "bottom",
          "yref": "paper"
         },
         {
          "font": {
           "size": 16
          },
          "showarrow": false,
          "text": "ALL OTHER CAUSES",
          "x": 0.14444444444444446,
          "xanchor": "center",
          "xref": "paper",
          "y": 0.22222222222222224,
          "yanchor": "bottom",
          "yref": "paper"
         }
        ],
        "height": 2600,
        "showlegend": false,
        "template": {
         "data": {
          "bar": [
           {
            "error_x": {
             "color": "#2a3f5f"
            },
            "error_y": {
             "color": "#2a3f5f"
            },
            "marker": {
             "line": {
              "color": "#E5ECF6",
              "width": 0.5
             }
            },
            "type": "bar"
           }
          ],
          "barpolar": [
           {
            "marker": {
             "line": {
              "color": "#E5ECF6",
              "width": 0.5
             }
            },
            "type": "barpolar"
           }
          ],
          "carpet": [
           {
            "aaxis": {
             "endlinecolor": "#2a3f5f",
             "gridcolor": "white",
             "linecolor": "white",
             "minorgridcolor": "white",
             "startlinecolor": "#2a3f5f"
            },
            "baxis": {
             "endlinecolor": "#2a3f5f",
             "gridcolor": "white",
             "linecolor": "white",
             "minorgridcolor": "white",
             "startlinecolor": "#2a3f5f"
            },
            "type": "carpet"
           }
          ],
          "choropleth": [
           {
            "colorbar": {
             "outlinewidth": 0,
             "ticks": ""
            },
            "type": "choropleth"
           }
          ],
          "contour": [
           {
            "colorbar": {
             "outlinewidth": 0,
             "ticks": ""
            },
            "colorscale": [
             [
              0,
              "#0d0887"
             ],
             [
              0.1111111111111111,
              "#46039f"
             ],
             [
              0.2222222222222222,
              "#7201a8"
             ],
             [
              0.3333333333333333,
              "#9c179e"
             ],
             [
              0.4444444444444444,
              "#bd3786"
             ],
             [
              0.5555555555555556,
              "#d8576b"
             ],
             [
              0.6666666666666666,
              "#ed7953"
             ],
             [
              0.7777777777777778,
              "#fb9f3a"
             ],
             [
              0.8888888888888888,
              "#fdca26"
             ],
             [
              1,
              "#f0f921"
             ]
            ],
            "type": "contour"
           }
          ],
          "contourcarpet": [
           {
            "colorbar": {
             "outlinewidth": 0,
             "ticks": ""
            },
            "type": "contourcarpet"
           }
          ],
          "heatmap": [
           {
            "colorbar": {
             "outlinewidth": 0,
             "ticks": ""
            },
            "colorscale": [
             [
              0,
              "#0d0887"
             ],
             [
              0.1111111111111111,
              "#46039f"
             ],
             [
              0.2222222222222222,
              "#7201a8"
             ],
             [
              0.3333333333333333,
              "#9c179e"
             ],
             [
              0.4444444444444444,
              "#bd3786"
             ],
             [
              0.5555555555555556,
              "#d8576b"
             ],
             [
              0.6666666666666666,
              "#ed7953"
             ],
             [
              0.7777777777777778,
              "#fb9f3a"
             ],
             [
              0.8888888888888888,
              "#fdca26"
             ],
             [
              1,
              "#f0f921"
             ]
            ],
            "type": "heatmap"
           }
          ],
          "heatmapgl": [
           {
            "colorbar": {
             "outlinewidth": 0,
             "ticks": ""
            },
            "colorscale": [
             [
              0,
              "#0d0887"
             ],
             [
              0.1111111111111111,
              "#46039f"
             ],
             [
              0.2222222222222222,
              "#7201a8"
             ],
             [
              0.3333333333333333,
              "#9c179e"
             ],
             [
              0.4444444444444444,
              "#bd3786"
             ],
             [
              0.5555555555555556,
              "#d8576b"
             ],
             [
              0.6666666666666666,
              "#ed7953"
             ],
             [
              0.7777777777777778,
              "#fb9f3a"
             ],
             [
              0.8888888888888888,
              "#fdca26"
             ],
             [
              1,
              "#f0f921"
             ]
            ],
            "type": "heatmapgl"
           }
          ],
          "histogram": [
           {
            "marker": {
             "colorbar": {
              "outlinewidth": 0,
              "ticks": ""
             }
            },
            "type": "histogram"
           }
          ],
          "histogram2d": [
           {
            "colorbar": {
             "outlinewidth": 0,
             "ticks": ""
            },
            "colorscale": [
             [
              0,
              "#0d0887"
             ],
             [
              0.1111111111111111,
              "#46039f"
             ],
             [
              0.2222222222222222,
              "#7201a8"
             ],
             [
              0.3333333333333333,
              "#9c179e"
             ],
             [
              0.4444444444444444,
              "#bd3786"
             ],
             [
              0.5555555555555556,
              "#d8576b"
             ],
             [
              0.6666666666666666,
              "#ed7953"
             ],
             [
              0.7777777777777778,
              "#fb9f3a"
             ],
             [
              0.8888888888888888,
              "#fdca26"
             ],
             [
              1,
              "#f0f921"
             ]
            ],
            "type": "histogram2d"
           }
          ],
          "histogram2dcontour": [
           {
            "colorbar": {
             "outlinewidth": 0,
             "ticks": ""
            },
            "colorscale": [
             [
              0,
              "#0d0887"
             ],
             [
              0.1111111111111111,
              "#46039f"
             ],
             [
              0.2222222222222222,
              "#7201a8"
             ],
             [
              0.3333333333333333,
              "#9c179e"
             ],
             [
              0.4444444444444444,
              "#bd3786"
             ],
             [
              0.5555555555555556,
              "#d8576b"
             ],
             [
              0.6666666666666666,
              "#ed7953"
             ],
             [
              0.7777777777777778,
              "#fb9f3a"
             ],
             [
              0.8888888888888888,
              "#fdca26"
             ],
             [
              1,
              "#f0f921"
             ]
            ],
            "type": "histogram2dcontour"
           }
          ],
          "mesh3d": [
           {
            "colorbar": {
             "outlinewidth": 0,
             "ticks": ""
            },
            "type": "mesh3d"
           }
          ],
          "parcoords": [
           {
            "line": {
             "colorbar": {
              "outlinewidth": 0,
              "ticks": ""
             }
            },
            "type": "parcoords"
           }
          ],
          "pie": [
           {
            "automargin": true,
            "type": "pie"
           }
          ],
          "scatter": [
           {
            "marker": {
             "colorbar": {
              "outlinewidth": 0,
              "ticks": ""
             }
            },
            "type": "scatter"
           }
          ],
          "scatter3d": [
           {
            "line": {
             "colorbar": {
              "outlinewidth": 0,
              "ticks": ""
             }
            },
            "marker": {
             "colorbar": {
              "outlinewidth": 0,
              "ticks": ""
             }
            },
            "type": "scatter3d"
           }
          ],
          "scattercarpet": [
           {
            "marker": {
             "colorbar": {
              "outlinewidth": 0,
              "ticks": ""
             }
            },
            "type": "scattercarpet"
           }
          ],
          "scattergeo": [
           {
            "marker": {
             "colorbar": {
              "outlinewidth": 0,
              "ticks": ""
             }
            },
            "type": "scattergeo"
           }
          ],
          "scattergl": [
           {
            "marker": {
             "colorbar": {
              "outlinewidth": 0,
              "ticks": ""
             }
            },
            "type": "scattergl"
           }
          ],
          "scattermapbox": [
           {
            "marker": {
             "colorbar": {
              "outlinewidth": 0,
              "ticks": ""
             }
            },
            "type": "scattermapbox"
           }
          ],
          "scatterpolar": [
           {
            "marker": {
             "colorbar": {
              "outlinewidth": 0,
              "ticks": ""
             }
            },
            "type": "scatterpolar"
           }
          ],
          "scatterpolargl": [
           {
            "marker": {
             "colorbar": {
              "outlinewidth": 0,
              "ticks": ""
             }
            },
            "type": "scatterpolargl"
           }
          ],
          "scatterternary": [
           {
            "marker": {
             "colorbar": {
              "outlinewidth": 0,
              "ticks": ""
             }
            },
            "type": "scatterternary"
           }
          ],
          "surface": [
           {
            "colorbar": {
             "outlinewidth": 0,
             "ticks": ""
            },
            "colorscale": [
             [
              0,
              "#0d0887"
             ],
             [
              0.1111111111111111,
              "#46039f"
             ],
             [
              0.2222222222222222,
              "#7201a8"
             ],
             [
              0.3333333333333333,
              "#9c179e"
             ],
             [
              0.4444444444444444,
              "#bd3786"
             ],
             [
              0.5555555555555556,
              "#d8576b"
             ],
             [
              0.6666666666666666,
              "#ed7953"
             ],
             [
              0.7777777777777778,
              "#fb9f3a"
             ],
             [
              0.8888888888888888,
              "#fdca26"
             ],
             [
              1,
              "#f0f921"
             ]
            ],
            "type": "surface"
           }
          ],
          "table": [
           {
            "cells": {
             "fill": {
              "color": "#EBF0F8"
             },
             "line": {
              "color": "white"
             }
            },
            "header": {
             "fill": {
              "color": "#C8D4E3"
             },
             "line": {
              "color": "white"
             }
            },
            "type": "table"
           }
          ]
         },
         "layout": {
          "annotationdefaults": {
           "arrowcolor": "#2a3f5f",
           "arrowhead": 0,
           "arrowwidth": 1
          },
          "autotypenumbers": "strict",
          "coloraxis": {
           "colorbar": {
            "outlinewidth": 0,
            "ticks": ""
           }
          },
          "colorscale": {
           "diverging": [
            [
             0,
             "#8e0152"
            ],
            [
             0.1,
             "#c51b7d"
            ],
            [
             0.2,
             "#de77ae"
            ],
            [
             0.3,
             "#f1b6da"
            ],
            [
             0.4,
             "#fde0ef"
            ],
            [
             0.5,
             "#f7f7f7"
            ],
            [
             0.6,
             "#e6f5d0"
            ],
            [
             0.7,
             "#b8e186"
            ],
            [
             0.8,
             "#7fbc41"
            ],
            [
             0.9,
             "#4d9221"
            ],
            [
             1,
             "#276419"
            ]
           ],
           "sequential": [
            [
             0,
             "#0d0887"
            ],
            [
             0.1111111111111111,
             "#46039f"
            ],
            [
             0.2222222222222222,
             "#7201a8"
            ],
            [
             0.3333333333333333,
             "#9c179e"
            ],
            [
             0.4444444444444444,
             "#bd3786"
            ],
            [
             0.5555555555555556,
             "#d8576b"
            ],
            [
             0.6666666666666666,
             "#ed7953"
            ],
            [
             0.7777777777777778,
             "#fb9f3a"
            ],
            [
             0.8888888888888888,
             "#fdca26"
            ],
            [
             1,
             "#f0f921"
            ]
           ],
           "sequentialminus": [
            [
             0,
             "#0d0887"
            ],
            [
             0.1111111111111111,
             "#46039f"
            ],
            [
             0.2222222222222222,
             "#7201a8"
            ],
            [
             0.3333333333333333,
             "#9c179e"
            ],
            [
             0.4444444444444444,
             "#bd3786"
            ],
            [
             0.5555555555555556,
             "#d8576b"
            ],
            [
             0.6666666666666666,
             "#ed7953"
            ],
            [
             0.7777777777777778,
             "#fb9f3a"
            ],
            [
             0.8888888888888888,
             "#fdca26"
            ],
            [
             1,
             "#f0f921"
            ]
           ]
          },
          "colorway": [
           "#636efa",
           "#EF553B",
           "#00cc96",
           "#ab63fa",
           "#FFA15A",
           "#19d3f3",
           "#FF6692",
           "#B6E880",
           "#FF97FF",
           "#FECB52"
          ],
          "font": {
           "color": "#2a3f5f"
          },
          "geo": {
           "bgcolor": "white",
           "lakecolor": "white",
           "landcolor": "#E5ECF6",
           "showlakes": true,
           "showland": true,
           "subunitcolor": "white"
          },
          "hoverlabel": {
           "align": "left"
          },
          "hovermode": "closest",
          "mapbox": {
           "style": "light"
          },
          "paper_bgcolor": "white",
          "plot_bgcolor": "#E5ECF6",
          "polar": {
           "angularaxis": {
            "gridcolor": "white",
            "linecolor": "white",
            "ticks": ""
           },
           "bgcolor": "#E5ECF6",
           "radialaxis": {
            "gridcolor": "white",
            "linecolor": "white",
            "ticks": ""
           }
          },
          "scene": {
           "xaxis": {
            "backgroundcolor": "#E5ECF6",
            "gridcolor": "white",
            "gridwidth": 2,
            "linecolor": "white",
            "showbackground": true,
            "ticks": "",
            "zerolinecolor": "white"
           },
           "yaxis": {
            "backgroundcolor": "#E5ECF6",
            "gridcolor": "white",
            "gridwidth": 2,
            "linecolor": "white",
            "showbackground": true,
            "ticks": "",
            "zerolinecolor": "white"
           },
           "zaxis": {
            "backgroundcolor": "#E5ECF6",
            "gridcolor": "white",
            "gridwidth": 2,
            "linecolor": "white",
            "showbackground": true,
            "ticks": "",
            "zerolinecolor": "white"
           }
          },
          "shapedefaults": {
           "line": {
            "color": "#2a3f5f"
           }
          },
          "ternary": {
           "aaxis": {
            "gridcolor": "white",
            "linecolor": "white",
            "ticks": ""
           },
           "baxis": {
            "gridcolor": "white",
            "linecolor": "white",
            "ticks": ""
           },
           "bgcolor": "#E5ECF6",
           "caxis": {
            "gridcolor": "white",
            "linecolor": "white",
            "ticks": ""
           }
          },
          "title": {
           "x": 0.05
          },
          "xaxis": {
           "automargin": true,
           "gridcolor": "white",
           "linecolor": "white",
           "ticks": "",
           "title": {
            "standoff": 15
           },
           "zerolinecolor": "white",
           "zerolinewidth": 2
          },
          "yaxis": {
           "automargin": true,
           "gridcolor": "white",
           "linecolor": "white",
           "ticks": "",
           "title": {
            "standoff": 15
           },
           "zerolinecolor": "white",
           "zerolinewidth": 2
          }
         }
        },
        "title": {
         "text": "CAUSES FOR OIL PIPELINE PILLS"
        },
        "width": 900,
        "xaxis": {
         "anchor": "y",
         "domain": [
          0,
          0.2888888888888889
         ]
        },
        "xaxis2": {
         "anchor": "y2",
         "domain": [
          0.35555555555555557,
          0.6444444444444445
         ]
        },
        "xaxis3": {
         "anchor": "y3",
         "domain": [
          0.7111111111111111,
          1
         ],
         "tickangle": 90
        },
        "xaxis4": {
         "anchor": "y4",
         "domain": [
          0,
          0.2888888888888889
         ],
         "tickangle": 90
        },
        "xaxis5": {
         "anchor": "y5",
         "domain": [
          0.35555555555555557,
          0.6444444444444445
         ],
         "tickangle": 90
        },
        "xaxis6": {
         "anchor": "y6",
         "domain": [
          0.7111111111111111,
          1
         ]
        },
        "xaxis7": {
         "anchor": "y7",
         "domain": [
          0,
          0.2888888888888889
         ]
        },
        "xaxis8": {
         "anchor": "y8",
         "domain": [
          0.35555555555555557,
          0.6444444444444445
         ]
        },
        "xaxis9": {
         "anchor": "y9",
         "domain": [
          0.7111111111111111,
          1
         ]
        },
        "yaxis": {
         "anchor": "x",
         "domain": [
          0.7777777777777778,
          1
         ],
         "range": [
          0,
          400
         ]
        },
        "yaxis2": {
         "anchor": "x2",
         "domain": [
          0.7777777777777778,
          1
         ],
         "range": [
          0,
          400
         ],
         "showticklabels": false
        },
        "yaxis3": {
         "anchor": "x3",
         "domain": [
          0.7777777777777778,
          1
         ],
         "range": [
          0,
          400
         ],
         "showticklabels": false
        },
        "yaxis4": {
         "anchor": "x4",
         "domain": [
          0.3888888888888889,
          0.6111111111111112
         ],
         "range": [
          0,
          400
         ]
        },
        "yaxis5": {
         "anchor": "x5",
         "domain": [
          0.3888888888888889,
          0.6111111111111112
         ],
         "range": [
          0,
          400
         ],
         "showticklabels": false
        },
        "yaxis6": {
         "anchor": "x6",
         "domain": [
          0.3888888888888889,
          0.6111111111111112
         ],
         "range": [
          0,
          400
         ],
         "showticklabels": false
        },
        "yaxis7": {
         "anchor": "x7",
         "domain": [
          0,
          0.22222222222222224
         ],
         "range": [
          0,
          400
         ]
        },
        "yaxis8": {
         "anchor": "x8",
         "domain": [
          0,
          0.22222222222222224
         ]
        },
        "yaxis9": {
         "anchor": "x9",
         "domain": [
          0,
          0.22222222222222224
         ]
        }
       }
      },
      "text/html": [
       "<div>                            <div id=\"78e54b62-edc3-4b76-956f-884e4784fae2\" class=\"plotly-graph-div\" style=\"height:2600px; width:900px;\"></div>            <script type=\"text/javascript\">                require([\"plotly\"], function(Plotly) {                    window.PLOTLYENV=window.PLOTLYENV || {};                                    if (document.getElementById(\"78e54b62-edc3-4b76-956f-884e4784fae2\")) {                    Plotly.newPlot(                        \"78e54b62-edc3-4b76-956f-884e4784fae2\",                        [{\"marker\": {\"color\": [296, 286, 204, 171, 151, 112, 70, 67, 62, 16], \"colorscale\": [[0.0, \"#440154\"], [0.1111111111111111, \"#482878\"], [0.2222222222222222, \"#3e4989\"], [0.3333333333333333, \"#31688e\"], [0.4444444444444444, \"#26828e\"], [0.5555555555555556, \"#1f9e89\"], [0.6666666666666666, \"#35b779\"], [0.7777777777777778, \"#6ece58\"], [0.8888888888888888, \"#b5de2b\"], [1.0, \"#fde725\"]], \"reversescale\": true}, \"name\": \"Material/Weld/Equipment Failure Count\", \"type\": \"bar\", \"x\": [\"PUMP OR PUMP-RELATED EQUIPMENT\", \"NON-THREADED CONNECTION FAILURE\", \"OTHER EQUIPMENT FAILURE\", \"MALFUNCTION OF CONTROL/RELIEF EQUIPMENT\", \"THREADED CONNECTION/COUPLING FAILURE\", \"CONSTRUCTION, INSTALLATION OR FABRICATION-RELATED\", \"MANUFACTURING-RELATED\", \"FAILURE OF EQUIPMENT BODY\", \"DEFECTIVE OR LOOSE TUBING/FITTING\", \"ENVIRONMENTAL CRACKING-RELATED\"], \"xaxis\": \"x\", \"y\": [296, 286, 204, 171, 151, 112, 70, 67, 62, 16], \"yaxis\": \"y\"}, {\"marker\": {\"color\": [362, 230], \"colorscale\": [[0.0, \"#440154\"], [0.1111111111111111, \"#482878\"], [0.2222222222222222, \"#3e4989\"], [0.3333333333333333, \"#31688e\"], [0.4444444444444444, \"#26828e\"], [0.5555555555555556, \"#1f9e89\"], [0.6666666666666666, \"#35b779\"], [0.7777777777777778, \"#6ece58\"], [0.8888888888888888, \"#b5de2b\"], [1.0, \"#fde725\"]], \"reversescale\": true}, \"name\": \"Corroison Count\", \"type\": \"bar\", \"x\": [\"INTERNAL\", \"EXTERNAL\"], \"xaxis\": \"x2\", \"y\": [362, 230], \"yaxis\": \"y2\"}, {\"marker\": {\"color\": [86, 84, 71, 69, 37, 20, 10], \"colorscale\": [[0.0, \"#440154\"], [0.1111111111111111, \"#482878\"], [0.2222222222222222, \"#3e4989\"], [0.3333333333333333, \"#31688e\"], [0.4444444444444444, \"#26828e\"], [0.5555555555555556, \"#1f9e89\"], [0.6666666666666666, \"#35b779\"], [0.7777777777777778, \"#6ece58\"], [0.8888888888888888, \"#b5de2b\"], [1.0, \"#fde725\"]], \"reversescale\": true}, \"name\": \"INCORRECT OPERATION COUNT\", \"type\": \"bar\", \"x\": [\"OTHER INCORRECT OPERATION\", \"INCORRECT VALVE POSITION\", \"INCORRECT INSTALLATION\", \"OVERFILL/OVERFLOW OF TANK/VESSEL/SUMP\", \"PIPELINE/EQUIPMENT OVERPRESSURED\", \"DAMAGE BY OPERATOR OR OPERATOR'S CONTRACTOR\", \"INCORRECT EQUIPMENT\"], \"xaxis\": \"x3\", \"y\": [86, 84, 71, 69, 37, 20, 10], \"yaxis\": \"y3\"}, {\"marker\": {\"color\": [57, 25, 19, 8, 8, 1], \"colorscale\": [[0.0, \"#440154\"], [0.1111111111111111, \"#482878\"], [0.2222222222222222, \"#3e4989\"], [0.3333333333333333, \"#31688e\"], [0.4444444444444444, \"#26828e\"], [0.5555555555555556, \"#1f9e89\"], [0.6666666666666666, \"#35b779\"], [0.7777777777777778, \"#6ece58\"], [0.8888888888888888, \"#b5de2b\"], [1.0, \"#fde725\"]], \"reversescale\": true}, \"name\": \"NATURAL FORCE DAMAGE COUNT\", \"type\": \"bar\", \"x\": [\"TEMPERATURE\", \"HEAVY RAINS/FLOODS\", \"LIGHTNING\", \"EARTH MOVEMENT\", \"OTHER NATURAL FORCE DAMAGE\", \"HIGH WINDS\"], \"xaxis\": \"x4\", \"y\": [57, 25, 19, 8, 8, 1], \"yaxis\": \"y4\"}, {\"marker\": {\"color\": [57, 28, 12], \"colorscale\": [[0.0, \"#440154\"], [0.1111111111111111, \"#482878\"], [0.2222222222222222, \"#3e4989\"], [0.3333333333333333, \"#31688e\"], [0.4444444444444444, \"#26828e\"], [0.5555555555555556, \"#1f9e89\"], [0.6666666666666666, \"#35b779\"], [0.7777777777777778, \"#6ece58\"], [0.8888888888888888, \"#b5de2b\"], [1.0, \"#fde725\"]], \"reversescale\": true}, \"name\": \"EXCAVATION DAMAGE COUNT\", \"type\": \"bar\", \"x\": [\"THIRD PARTY EXCAVATION DAMAGE\", \"OPERATOR/CONTRACTOR EXCAVATION DAMAGE\", \"PREVIOUS DAMAGE DUE TO EXCAVATION\"], \"xaxis\": \"x5\", \"y\": [57, 28, 12], \"yaxis\": \"y5\"}, {\"marker\": {\"color\": [21, 15, 11, 4, 3, 1, 1, 1], \"colorscale\": [[0.0, \"#440154\"], [0.1111111111111111, \"#482878\"], [0.2222222222222222, \"#3e4989\"], [0.3333333333333333, \"#31688e\"], [0.4444444444444444, \"#26828e\"], [0.5555555555555556, \"#1f9e89\"], [0.6666666666666666, \"#35b779\"], [0.7777777777777778, \"#6ece58\"], [0.8888888888888888, \"#b5de2b\"], [1.0, \"#fde725\"]], \"reversescale\": true}, \"name\": \"OTHER OUTSIDE FORCE DAMAGE COUNT\", \"type\": \"bar\", \"x\": [\"VEHICLE NOT ENGAGED IN EXCAVATION\", \"OTHER OUTSIDE FORCE DAMAGE\", \"ELECTRICAL ARCING FROM OTHER EQUIPMENT/FACILITY\", \"FIRE/EXPLOSION AS PRIMARY CAUSE\", \"INTENTIONAL DAMAGE\", \"MARITIME EQUIPMENT OR VESSEL ADRIFT\", \"PREVIOUS MECHANICAL DAMAGE\", \"FISHING OR MARITIME ACTIVITY\"], \"xaxis\": \"x6\", \"y\": [21, 15, 11, 4, 3, 1, 1, 1], \"yaxis\": \"y6\"}, {\"marker\": {\"color\": [76, 41], \"colorscale\": [[0.0, \"#440154\"], [0.1111111111111111, \"#482878\"], [0.2222222222222222, \"#3e4989\"], [0.3333333333333333, \"#31688e\"], [0.4444444444444444, \"#26828e\"], [0.5555555555555556, \"#1f9e89\"], [0.6666666666666666, \"#35b779\"], [0.7777777777777778, \"#6ece58\"], [0.8888888888888888, \"#b5de2b\"], [1.0, \"#fde725\"]], \"reversescale\": true}, \"name\": \"ALL OTHER CAUSES COUNT\", \"type\": \"bar\", \"x\": [\"MISCELLANEOUS\", \"UNKNOWN\"], \"xaxis\": \"x7\", \"y\": [76, 41], \"yaxis\": \"y7\"}],                        {\"annotations\": [{\"font\": {\"size\": 16}, \"showarrow\": false, \"text\": \"MATERIAL/WELD/EQUIPMENT FAILURE\", \"x\": 0.14444444444444446, \"xanchor\": \"center\", \"xref\": \"paper\", \"y\": 1.0, \"yanchor\": \"bottom\", \"yref\": \"paper\"}, {\"font\": {\"size\": 16}, \"showarrow\": false, \"text\": \"CORROSION\", \"x\": 0.5, \"xanchor\": \"center\", \"xref\": \"paper\", \"y\": 1.0, \"yanchor\": \"bottom\", \"yref\": \"paper\"}, {\"font\": {\"size\": 16}, \"showarrow\": false, \"text\": \"INCORRECT OPERATION\", \"x\": 0.8555555555555556, \"xanchor\": \"center\", \"xref\": \"paper\", \"y\": 1.0, \"yanchor\": \"bottom\", \"yref\": \"paper\"}, {\"font\": {\"size\": 16}, \"showarrow\": false, \"text\": \"NATURAL FORCE DAMAGE\", \"x\": 0.14444444444444446, \"xanchor\": \"center\", \"xref\": \"paper\", \"y\": 0.6111111111111112, \"yanchor\": \"bottom\", \"yref\": \"paper\"}, {\"font\": {\"size\": 16}, \"showarrow\": false, \"text\": \"EXCAVATION DAMAGE\", \"x\": 0.5, \"xanchor\": \"center\", \"xref\": \"paper\", \"y\": 0.6111111111111112, \"yanchor\": \"bottom\", \"yref\": \"paper\"}, {\"font\": {\"size\": 16}, \"showarrow\": false, \"text\": \"OTHER OUTSIDE FORCE DAMAGE\", \"x\": 0.8555555555555556, \"xanchor\": \"center\", \"xref\": \"paper\", \"y\": 0.6111111111111112, \"yanchor\": \"bottom\", \"yref\": \"paper\"}, {\"font\": {\"size\": 16}, \"showarrow\": false, \"text\": \"ALL OTHER CAUSES\", \"x\": 0.14444444444444446, \"xanchor\": \"center\", \"xref\": \"paper\", \"y\": 0.22222222222222224, \"yanchor\": \"bottom\", \"yref\": \"paper\"}], \"height\": 2600, \"showlegend\": false, \"template\": {\"data\": {\"bar\": [{\"error_x\": {\"color\": \"#2a3f5f\"}, \"error_y\": {\"color\": \"#2a3f5f\"}, \"marker\": {\"line\": {\"color\": \"#E5ECF6\", \"width\": 0.5}}, \"type\": \"bar\"}], \"barpolar\": [{\"marker\": {\"line\": {\"color\": \"#E5ECF6\", \"width\": 0.5}}, \"type\": \"barpolar\"}], \"carpet\": [{\"aaxis\": {\"endlinecolor\": \"#2a3f5f\", \"gridcolor\": \"white\", \"linecolor\": \"white\", \"minorgridcolor\": \"white\", \"startlinecolor\": \"#2a3f5f\"}, \"baxis\": {\"endlinecolor\": \"#2a3f5f\", \"gridcolor\": \"white\", \"linecolor\": \"white\", \"minorgridcolor\": \"white\", \"startlinecolor\": \"#2a3f5f\"}, \"type\": \"carpet\"}], \"choropleth\": [{\"colorbar\": {\"outlinewidth\": 0, \"ticks\": \"\"}, \"type\": \"choropleth\"}], \"contour\": [{\"colorbar\": {\"outlinewidth\": 0, \"ticks\": \"\"}, \"colorscale\": [[0.0, \"#0d0887\"], [0.1111111111111111, \"#46039f\"], [0.2222222222222222, \"#7201a8\"], [0.3333333333333333, \"#9c179e\"], [0.4444444444444444, \"#bd3786\"], [0.5555555555555556, \"#d8576b\"], [0.6666666666666666, \"#ed7953\"], [0.7777777777777778, \"#fb9f3a\"], [0.8888888888888888, \"#fdca26\"], [1.0, \"#f0f921\"]], \"type\": \"contour\"}], \"contourcarpet\": [{\"colorbar\": {\"outlinewidth\": 0, \"ticks\": \"\"}, \"type\": \"contourcarpet\"}], \"heatmap\": [{\"colorbar\": {\"outlinewidth\": 0, \"ticks\": \"\"}, \"colorscale\": [[0.0, \"#0d0887\"], [0.1111111111111111, \"#46039f\"], [0.2222222222222222, \"#7201a8\"], [0.3333333333333333, \"#9c179e\"], [0.4444444444444444, \"#bd3786\"], [0.5555555555555556, \"#d8576b\"], [0.6666666666666666, \"#ed7953\"], [0.7777777777777778, \"#fb9f3a\"], [0.8888888888888888, \"#fdca26\"], [1.0, \"#f0f921\"]], \"type\": \"heatmap\"}], \"heatmapgl\": [{\"colorbar\": {\"outlinewidth\": 0, \"ticks\": \"\"}, \"colorscale\": [[0.0, \"#0d0887\"], [0.1111111111111111, \"#46039f\"], [0.2222222222222222, \"#7201a8\"], [0.3333333333333333, \"#9c179e\"], [0.4444444444444444, \"#bd3786\"], [0.5555555555555556, \"#d8576b\"], [0.6666666666666666, \"#ed7953\"], [0.7777777777777778, \"#fb9f3a\"], [0.8888888888888888, \"#fdca26\"], [1.0, \"#f0f921\"]], \"type\": \"heatmapgl\"}], \"histogram\": [{\"marker\": {\"colorbar\": {\"outlinewidth\": 0, \"ticks\": \"\"}}, \"type\": \"histogram\"}], \"histogram2d\": [{\"colorbar\": {\"outlinewidth\": 0, \"ticks\": \"\"}, \"colorscale\": [[0.0, \"#0d0887\"], [0.1111111111111111, \"#46039f\"], [0.2222222222222222, \"#7201a8\"], [0.3333333333333333, \"#9c179e\"], [0.4444444444444444, \"#bd3786\"], [0.5555555555555556, \"#d8576b\"], [0.6666666666666666, \"#ed7953\"], [0.7777777777777778, \"#fb9f3a\"], [0.8888888888888888, \"#fdca26\"], [1.0, \"#f0f921\"]], \"type\": \"histogram2d\"}], \"histogram2dcontour\": [{\"colorbar\": {\"outlinewidth\": 0, \"ticks\": \"\"}, \"colorscale\": [[0.0, \"#0d0887\"], [0.1111111111111111, \"#46039f\"], [0.2222222222222222, \"#7201a8\"], [0.3333333333333333, \"#9c179e\"], [0.4444444444444444, \"#bd3786\"], [0.5555555555555556, \"#d8576b\"], [0.6666666666666666, \"#ed7953\"], [0.7777777777777778, \"#fb9f3a\"], [0.8888888888888888, \"#fdca26\"], [1.0, \"#f0f921\"]], \"type\": \"histogram2dcontour\"}], \"mesh3d\": [{\"colorbar\": {\"outlinewidth\": 0, \"ticks\": \"\"}, \"type\": \"mesh3d\"}], \"parcoords\": [{\"line\": {\"colorbar\": {\"outlinewidth\": 0, \"ticks\": \"\"}}, \"type\": \"parcoords\"}], \"pie\": [{\"automargin\": true, \"type\": \"pie\"}], \"scatter\": [{\"marker\": {\"colorbar\": {\"outlinewidth\": 0, \"ticks\": \"\"}}, \"type\": \"scatter\"}], \"scatter3d\": [{\"line\": {\"colorbar\": {\"outlinewidth\": 0, \"ticks\": \"\"}}, \"marker\": {\"colorbar\": {\"outlinewidth\": 0, \"ticks\": \"\"}}, \"type\": \"scatter3d\"}], \"scattercarpet\": [{\"marker\": {\"colorbar\": {\"outlinewidth\": 0, \"ticks\": \"\"}}, \"type\": \"scattercarpet\"}], \"scattergeo\": [{\"marker\": {\"colorbar\": {\"outlinewidth\": 0, \"ticks\": \"\"}}, \"type\": \"scattergeo\"}], \"scattergl\": [{\"marker\": {\"colorbar\": {\"outlinewidth\": 0, \"ticks\": \"\"}}, \"type\": \"scattergl\"}], \"scattermapbox\": [{\"marker\": {\"colorbar\": {\"outlinewidth\": 0, \"ticks\": \"\"}}, \"type\": \"scattermapbox\"}], \"scatterpolar\": [{\"marker\": {\"colorbar\": {\"outlinewidth\": 0, \"ticks\": \"\"}}, \"type\": \"scatterpolar\"}], \"scatterpolargl\": [{\"marker\": {\"colorbar\": {\"outlinewidth\": 0, \"ticks\": \"\"}}, \"type\": \"scatterpolargl\"}], \"scatterternary\": [{\"marker\": {\"colorbar\": {\"outlinewidth\": 0, \"ticks\": \"\"}}, \"type\": \"scatterternary\"}], \"surface\": [{\"colorbar\": {\"outlinewidth\": 0, \"ticks\": \"\"}, \"colorscale\": [[0.0, \"#0d0887\"], [0.1111111111111111, \"#46039f\"], [0.2222222222222222, \"#7201a8\"], [0.3333333333333333, \"#9c179e\"], [0.4444444444444444, \"#bd3786\"], [0.5555555555555556, \"#d8576b\"], [0.6666666666666666, \"#ed7953\"], [0.7777777777777778, \"#fb9f3a\"], [0.8888888888888888, \"#fdca26\"], [1.0, \"#f0f921\"]], \"type\": \"surface\"}], \"table\": [{\"cells\": {\"fill\": {\"color\": \"#EBF0F8\"}, \"line\": {\"color\": \"white\"}}, \"header\": {\"fill\": {\"color\": \"#C8D4E3\"}, \"line\": {\"color\": \"white\"}}, \"type\": \"table\"}]}, \"layout\": {\"annotationdefaults\": {\"arrowcolor\": \"#2a3f5f\", \"arrowhead\": 0, \"arrowwidth\": 1}, \"autotypenumbers\": \"strict\", \"coloraxis\": {\"colorbar\": {\"outlinewidth\": 0, \"ticks\": \"\"}}, \"colorscale\": {\"diverging\": [[0, \"#8e0152\"], [0.1, \"#c51b7d\"], [0.2, \"#de77ae\"], [0.3, \"#f1b6da\"], [0.4, \"#fde0ef\"], [0.5, \"#f7f7f7\"], [0.6, \"#e6f5d0\"], [0.7, \"#b8e186\"], [0.8, \"#7fbc41\"], [0.9, \"#4d9221\"], [1, \"#276419\"]], \"sequential\": [[0.0, \"#0d0887\"], [0.1111111111111111, \"#46039f\"], [0.2222222222222222, \"#7201a8\"], [0.3333333333333333, \"#9c179e\"], [0.4444444444444444, \"#bd3786\"], [0.5555555555555556, \"#d8576b\"], [0.6666666666666666, \"#ed7953\"], [0.7777777777777778, \"#fb9f3a\"], [0.8888888888888888, \"#fdca26\"], [1.0, \"#f0f921\"]], \"sequentialminus\": [[0.0, \"#0d0887\"], [0.1111111111111111, \"#46039f\"], [0.2222222222222222, \"#7201a8\"], [0.3333333333333333, \"#9c179e\"], [0.4444444444444444, \"#bd3786\"], [0.5555555555555556, \"#d8576b\"], [0.6666666666666666, \"#ed7953\"], [0.7777777777777778, \"#fb9f3a\"], [0.8888888888888888, \"#fdca26\"], [1.0, \"#f0f921\"]]}, \"colorway\": [\"#636efa\", \"#EF553B\", \"#00cc96\", \"#ab63fa\", \"#FFA15A\", \"#19d3f3\", \"#FF6692\", \"#B6E880\", \"#FF97FF\", \"#FECB52\"], \"font\": {\"color\": \"#2a3f5f\"}, \"geo\": {\"bgcolor\": \"white\", \"lakecolor\": \"white\", \"landcolor\": \"#E5ECF6\", \"showlakes\": true, \"showland\": true, \"subunitcolor\": \"white\"}, \"hoverlabel\": {\"align\": \"left\"}, \"hovermode\": \"closest\", \"mapbox\": {\"style\": \"light\"}, \"paper_bgcolor\": \"white\", \"plot_bgcolor\": \"#E5ECF6\", \"polar\": {\"angularaxis\": {\"gridcolor\": \"white\", \"linecolor\": \"white\", \"ticks\": \"\"}, \"bgcolor\": \"#E5ECF6\", \"radialaxis\": {\"gridcolor\": \"white\", \"linecolor\": \"white\", \"ticks\": \"\"}}, \"scene\": {\"xaxis\": {\"backgroundcolor\": \"#E5ECF6\", \"gridcolor\": \"white\", \"gridwidth\": 2, \"linecolor\": \"white\", \"showbackground\": true, \"ticks\": \"\", \"zerolinecolor\": \"white\"}, \"yaxis\": {\"backgroundcolor\": \"#E5ECF6\", \"gridcolor\": \"white\", \"gridwidth\": 2, \"linecolor\": \"white\", \"showbackground\": true, \"ticks\": \"\", \"zerolinecolor\": \"white\"}, \"zaxis\": {\"backgroundcolor\": \"#E5ECF6\", \"gridcolor\": \"white\", \"gridwidth\": 2, \"linecolor\": \"white\", \"showbackground\": true, \"ticks\": \"\", \"zerolinecolor\": \"white\"}}, \"shapedefaults\": {\"line\": {\"color\": \"#2a3f5f\"}}, \"ternary\": {\"aaxis\": {\"gridcolor\": \"white\", \"linecolor\": \"white\", \"ticks\": \"\"}, \"baxis\": {\"gridcolor\": \"white\", \"linecolor\": \"white\", \"ticks\": \"\"}, \"bgcolor\": \"#E5ECF6\", \"caxis\": {\"gridcolor\": \"white\", \"linecolor\": \"white\", \"ticks\": \"\"}}, \"title\": {\"x\": 0.05}, \"xaxis\": {\"automargin\": true, \"gridcolor\": \"white\", \"linecolor\": \"white\", \"ticks\": \"\", \"title\": {\"standoff\": 15}, \"zerolinecolor\": \"white\", \"zerolinewidth\": 2}, \"yaxis\": {\"automargin\": true, \"gridcolor\": \"white\", \"linecolor\": \"white\", \"ticks\": \"\", \"title\": {\"standoff\": 15}, \"zerolinecolor\": \"white\", \"zerolinewidth\": 2}}}, \"title\": {\"text\": \"CAUSES FOR OIL PIPELINE PILLS\"}, \"width\": 900, \"xaxis\": {\"anchor\": \"y\", \"domain\": [0.0, 0.2888888888888889]}, \"xaxis2\": {\"anchor\": \"y2\", \"domain\": [0.35555555555555557, 0.6444444444444445]}, \"xaxis3\": {\"anchor\": \"y3\", \"domain\": [0.7111111111111111, 1.0], \"tickangle\": 90}, \"xaxis4\": {\"anchor\": \"y4\", \"domain\": [0.0, 0.2888888888888889], \"tickangle\": 90}, \"xaxis5\": {\"anchor\": \"y5\", \"domain\": [0.35555555555555557, 0.6444444444444445], \"tickangle\": 90}, \"xaxis6\": {\"anchor\": \"y6\", \"domain\": [0.7111111111111111, 1.0]}, \"xaxis7\": {\"anchor\": \"y7\", \"domain\": [0.0, 0.2888888888888889]}, \"xaxis8\": {\"anchor\": \"y8\", \"domain\": [0.35555555555555557, 0.6444444444444445]}, \"xaxis9\": {\"anchor\": \"y9\", \"domain\": [0.7111111111111111, 1.0]}, \"yaxis\": {\"anchor\": \"x\", \"domain\": [0.7777777777777778, 1.0], \"range\": [0, 400]}, \"yaxis2\": {\"anchor\": \"x2\", \"domain\": [0.7777777777777778, 1.0], \"range\": [0, 400], \"showticklabels\": false}, \"yaxis3\": {\"anchor\": \"x3\", \"domain\": [0.7777777777777778, 1.0], \"range\": [0, 400], \"showticklabels\": false}, \"yaxis4\": {\"anchor\": \"x4\", \"domain\": [0.3888888888888889, 0.6111111111111112], \"range\": [0, 400]}, \"yaxis5\": {\"anchor\": \"x5\", \"domain\": [0.3888888888888889, 0.6111111111111112], \"range\": [0, 400], \"showticklabels\": false}, \"yaxis6\": {\"anchor\": \"x6\", \"domain\": [0.3888888888888889, 0.6111111111111112], \"range\": [0, 400], \"showticklabels\": false}, \"yaxis7\": {\"anchor\": \"x7\", \"domain\": [0.0, 0.22222222222222224], \"range\": [0, 400]}, \"yaxis8\": {\"anchor\": \"x8\", \"domain\": [0.0, 0.22222222222222224]}, \"yaxis9\": {\"anchor\": \"x9\", \"domain\": [0.0, 0.22222222222222224]}},                        {\"responsive\": true}                    ).then(function(){\n",
       "                            \n",
       "var gd = document.getElementById('78e54b62-edc3-4b76-956f-884e4784fae2');\n",
       "var x = new MutationObserver(function (mutations, observer) {{\n",
       "        var display = window.getComputedStyle(gd).display;\n",
       "        if (!display || display === 'none') {{\n",
       "            console.log([gd, 'removed!']);\n",
       "            Plotly.purge(gd);\n",
       "            observer.disconnect();\n",
       "        }}\n",
       "}});\n",
       "\n",
       "// Listen for the removal of the full notebook cells\n",
       "var notebookContainer = gd.closest('#notebook-container');\n",
       "if (notebookContainer) {{\n",
       "    x.observe(notebookContainer, {childList: true});\n",
       "}}\n",
       "\n",
       "// Listen for the clearing of the current output cell\n",
       "var outputEl = gd.closest('.output');\n",
       "if (outputEl) {{\n",
       "    x.observe(outputEl, {childList: true});\n",
       "}}\n",
       "\n",
       "                        })                };                });            </script>        </div>"
      ]
     },
     "metadata": {},
     "output_type": "display_data"
    }
   ],
   "source": [
    "#Material_Weld_Equipment_Failure \n",
    "trace0 = Material_Weld_Equipment_Failure ['Cause Subcategory'].value_counts()\n",
    "trace0 = go.Bar(\n",
    "\n",
    "     y = trace0.values, \n",
    "     x = trace0.index.values, \n",
    "   name = 'Material/Weld/Equipment Failure Count', \n",
    "  \n",
    "     marker=dict(\n",
    "        color=trace0.values,\n",
    "        colorscale = 'Viridis',\n",
    "        reversescale = True\n",
    "        )\n",
    "\n",
    "\n",
    "\n",
    ")\n",
    "\n",
    "#Corrision \n",
    "trace1 = CORROSION['Cause Subcategory'].value_counts()\n",
    "trace1 = go.Bar(\n",
    "       y = trace1.values, \n",
    "       x = trace1.index.values, \n",
    "       name = 'Corroison Count', \n",
    "        marker=dict(\n",
    "        color=trace1.values,\n",
    "        colorscale = 'Viridis',\n",
    "        reversescale = True\n",
    "        )\n",
    ")\n",
    "\n",
    "#Corrision \n",
    "trace1 = CORROSION['Cause Subcategory'].value_counts()\n",
    "trace1 = go.Bar(\n",
    "       y = trace1.values, \n",
    "       x = trace1.index.values, \n",
    "       name = 'Corroison Count', \n",
    "        marker=dict(\n",
    "        color=trace1.values,\n",
    "        colorscale = 'Viridis',\n",
    "        reversescale = True\n",
    "        )\n",
    ")\n",
    "\n",
    "#Corrision \n",
    "trace2 = INCORRECT_OPERATION['Cause Subcategory'].value_counts()\n",
    "trace2 = go.Bar(\n",
    "       y = trace2.values, \n",
    "       x = trace2.index.values, \n",
    "       name = 'INCORRECT OPERATION COUNT', \n",
    "    \n",
    "        marker=dict(\n",
    "        color=trace2.values,\n",
    "        colorscale = 'Viridis',\n",
    "        reversescale = True\n",
    "        )\n",
    ")\n",
    "\n",
    "#Natural Force Damage\n",
    "trace3 = NATURAL_FORCE_DAMAGE['Cause Subcategory'].value_counts()\n",
    "trace3 = go.Bar(\n",
    "       y = trace3.values, \n",
    "       x = trace3.index.values, \n",
    "       name = 'NATURAL FORCE DAMAGE COUNT', \n",
    "     \n",
    "        marker=dict(\n",
    "        color=trace3.values,\n",
    "        colorscale = 'Viridis',\n",
    "        reversescale = True\n",
    "        )\n",
    "      \n",
    ")\n",
    "\n",
    "#EXCAVATION DAMAGE\n",
    "trace4 = EXCAVATION_DAMAGE['Cause Subcategory'].value_counts()\n",
    "trace4 = go.Bar(\n",
    "       y = trace4.values, \n",
    "       x = trace4.index.values, \n",
    "       name = 'EXCAVATION DAMAGE COUNT', \n",
    "      \n",
    "        marker=dict(\n",
    "        color=trace4.values,\n",
    "        colorscale = 'Viridis',\n",
    "        reversescale = True\n",
    "        )\n",
    ")\n",
    "\n",
    "\n",
    "#OTHER OUTSIDE FORCE DAMAGE \n",
    "trace5 = OTHER_OUTSIDE_FORCE_DAMAGE['Cause Subcategory'].value_counts()\n",
    "trace5 = go.Bar(\n",
    "       y = trace5.values, \n",
    "       x = trace5.index.values, \n",
    "       name = 'OTHER OUTSIDE FORCE DAMAGE COUNT', \n",
    "      \n",
    "        marker=dict(\n",
    "        color=trace5.values,\n",
    "        colorscale = 'Viridis',\n",
    "        reversescale = True\n",
    "        )\n",
    ")\n",
    "\n",
    "#ALL OTHER CAUSES\n",
    "trace6 = ALL_OTHER_CAUSES['Cause Subcategory'].value_counts()\n",
    "trace6 = go.Bar(\n",
    "       y = trace6.values, \n",
    "       x = trace6.index.values, \n",
    "       name = 'ALL OTHER CAUSES COUNT', \n",
    "        \n",
    "        marker=dict(\n",
    "        color=trace6.values,\n",
    "        colorscale = 'Viridis',\n",
    "        reversescale = True\n",
    "        )\n",
    ")\n",
    "\n",
    "#Creating the grid \n",
    "fig = tls.make_subplots(rows=3, cols=3,\n",
    "                          subplot_titles=('MATERIAL/WELD/EQUIPMENT FAILURE',\n",
    "                                          'CORROSION','INCORRECT OPERATION', 'NATURAL FORCE DAMAGE','EXCAVATION DAMAGE','OTHER OUTSIDE FORCE DAMAGE','ALL OTHER CAUSES' ), \n",
    "                     )\n",
    "\n",
    "\n",
    "#setting the figs \n",
    "fig.append_trace(trace0, 1, 1)\n",
    "fig.append_trace(trace1, 1, 2)\n",
    "fig.append_trace(trace2, 1, 3)\n",
    "fig.append_trace(trace3, 2, 1)\n",
    "fig.append_trace(trace4, 2, 2)\n",
    "fig.append_trace(trace5, 2, 3)\n",
    "fig.append_trace(trace6, 3, 1)\n",
    "\n",
    "fig['layout']['xaxis3'].update( tickangle=90)\n",
    "fig['layout']['xaxis4'].update( tickangle=90)\n",
    "fig['layout']['xaxis5'].update( tickangle=90)\n",
    "\n",
    "fig['layout']['yaxis1'].update(range=[0, 400])\n",
    "fig['layout']['yaxis2'].update(range=[0, 400],showticklabels=False)\n",
    "fig['layout']['yaxis3'].update(range=[0, 400],showticklabels=False)\n",
    "fig['layout']['yaxis4'].update(range=[0, 400])\n",
    "fig['layout']['yaxis5'].update(range=[0, 400],showticklabels=False)\n",
    "fig['layout']['yaxis6'].update(range=[0, 400],showticklabels=False)\n",
    "fig['layout']['yaxis7'].update(range=[0, 400])\n",
    "\n",
    "\n",
    "\n",
    "fig['layout'].update( title='CAUSES FOR OIL PIPELINE PILLS', \n",
    "                     height=2600, width=900,showlegend=False, \n",
    "                     \n",
    "    )\n",
    "\n",
    "py.iplot(fig, filename='customizing-subplot-axes')\n"
   ]
  },
  {
   "cell_type": "code",
   "execution_count": null,
   "metadata": {},
   "outputs": [],
   "source": []
  }
 ],
 "metadata": {
  "kernelspec": {
   "display_name": "Python 3",
   "language": "python",
   "name": "python3"
  },
  "language_info": {
   "codemirror_mode": {
    "name": "ipython",
    "version": 3
   },
   "file_extension": ".py",
   "mimetype": "text/x-python",
   "name": "python",
   "nbconvert_exporter": "python",
   "pygments_lexer": "ipython3",
   "version": "3.7.6"
  }
 },
 "nbformat": 4,
 "nbformat_minor": 4
}
